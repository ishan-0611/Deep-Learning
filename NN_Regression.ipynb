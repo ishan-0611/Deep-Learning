{
  "nbformat": 4,
  "nbformat_minor": 0,
  "metadata": {
    "colab": {
      "provenance": []
    },
    "kernelspec": {
      "name": "python3",
      "display_name": "Python 3"
    },
    "language_info": {
      "name": "python"
    }
  },
  "cells": [
    {
      "cell_type": "code",
      "execution_count": null,
      "metadata": {
        "id": "cTPD70LEzhVw",
        "colab": {
          "base_uri": "https://localhost:8080/"
        },
        "outputId": "c11ba52d-1d84-4166-93db-44e163f6532a"
      },
      "outputs": [
        {
          "output_type": "stream",
          "name": "stdout",
          "text": [
            "2.13.0\n"
          ]
        }
      ],
      "source": [
        "import tensorflow as tf\n",
        "print(tf.__version__)"
      ]
    },
    {
      "cell_type": "markdown",
      "source": [
        "#### Creating data to view and fit"
      ],
      "metadata": {
        "id": "W_SXlBauD4KS"
      }
    },
    {
      "cell_type": "code",
      "source": [
        "import numpy as np\n",
        "import matplotlib.pyplot as plt"
      ],
      "metadata": {
        "id": "HWFzG8SuD7P_"
      },
      "execution_count": null,
      "outputs": []
    },
    {
      "cell_type": "code",
      "source": [
        "# Creating features\n",
        "x = np.array([-7.0, -1.0, 1.0, 4.0, 5.0, 7.0, 11.0, 14.0])\n",
        "\n",
        "# Creating labels\n",
        "y = np.array([3.0, 6.0, 9.0, 12.0, 15.0, 18.0, 21.0, 24.0])\n",
        "\n",
        "# Visualising the date\n",
        "plt.scatter(x, y)"
      ],
      "metadata": {
        "colab": {
          "base_uri": "https://localhost:8080/",
          "height": 452
        },
        "id": "jHDcT8hfEDCY",
        "outputId": "ecfc8552-5a78-4fb1-d4b0-26668095cb4f"
      },
      "execution_count": null,
      "outputs": [
        {
          "output_type": "execute_result",
          "data": {
            "text/plain": [
              "<matplotlib.collections.PathCollection at 0x7b041a758490>"
            ]
          },
          "metadata": {},
          "execution_count": 3
        },
        {
          "output_type": "display_data",
          "data": {
            "text/plain": [
              "<Figure size 640x480 with 1 Axes>"
            ],
            "image/png": "[encoded data removed]"
          },
          "metadata": {}
        }
      ]
    },
    {
      "cell_type": "code",
      "source": [
        "y == x + 10"
      ],
      "metadata": {
        "colab": {
          "base_uri": "https://localhost:8080/"
        },
        "id": "ZhAuJRPtEmzo",
        "outputId": "55091e73-2bac-48f3-d241-13ff61549c21"
      },
      "execution_count": null,
      "outputs": [
        {
          "output_type": "execute_result",
          "data": {
            "text/plain": [
              "array([ True, False, False, False,  True, False,  True,  True])"
            ]
          },
          "metadata": {},
          "execution_count": 4
        }
      ]
    },
    {
      "cell_type": "markdown",
      "source": [
        "#### Input and Output shapes"
      ],
      "metadata": {
        "id": "Y4rhQ3UHFdg9"
      }
    },
    {
      "cell_type": "code",
      "source": [
        "# Create demo tensor for house pricing\n",
        "house_info = tf.constant([\"bedroom\", \"bathroom\", \"garage\"])\n",
        "house_price = tf.constant([939700])\n",
        "\n",
        "house_info, house_price"
      ],
      "metadata": {
        "colab": {
          "base_uri": "https://localhost:8080/"
        },
        "id": "UX4ec8wJFgEq",
        "outputId": "40dd84f6-4844-4635-a3f8-3c77940b0ca9"
      },
      "execution_count": null,
      "outputs": [
        {
          "output_type": "execute_result",
          "data": {
            "text/plain": [
              "(<tf.Tensor: shape=(3,), dtype=string, numpy=array([b'bedroom', b'bathroom', b'garage'], dtype=object)>,\n",
              " <tf.Tensor: shape=(1,), dtype=int32, numpy=array([939700], dtype=int32)>)"
            ]
          },
          "metadata": {},
          "execution_count": 5
        }
      ]
    },
    {
      "cell_type": "code",
      "source": [
        "input_shape = x.shape\n",
        "output_shape = y.shape\n",
        "input_shape, output_shape"
      ],
      "metadata": {
        "colab": {
          "base_uri": "https://localhost:8080/"
        },
        "id": "mHUbpCgCF7rz",
        "outputId": "e9fc2f1c-f342-4639-c1b9-c5ad4995f628"
      },
      "execution_count": null,
      "outputs": [
        {
          "output_type": "execute_result",
          "data": {
            "text/plain": [
              "((8,), (8,))"
            ]
          },
          "metadata": {},
          "execution_count": 6
        }
      ]
    },
    {
      "cell_type": "code",
      "source": [
        "x = tf.constant(x)\n",
        "y = tf.constant(y)\n",
        "x, y"
      ],
      "metadata": {
        "colab": {
          "base_uri": "https://localhost:8080/"
        },
        "id": "a_wu9RIbGKyn",
        "outputId": "5ffdf8e8-256c-49e8-e43c-28a438acd798"
      },
      "execution_count": null,
      "outputs": [
        {
          "output_type": "execute_result",
          "data": {
            "text/plain": [
              "(<tf.Tensor: shape=(8,), dtype=float64, numpy=array([-7., -1.,  1.,  4.,  5.,  7., 11., 14.])>,\n",
              " <tf.Tensor: shape=(8,), dtype=float64, numpy=array([ 3.,  6.,  9., 12., 15., 18., 21., 24.])>)"
            ]
          },
          "metadata": {},
          "execution_count": 7
        }
      ]
    },
    {
      "cell_type": "markdown",
      "source": [
        "#### Steps in modelling with tensorflow"
      ],
      "metadata": {
        "id": "YkBuODL7Hgmi"
      }
    },
    {
      "cell_type": "code",
      "source": [
        "tf.random.set_seed(42)\n",
        "\n",
        "# Create model using sequential API\n",
        "model = tf.keras.Sequential([\n",
        "    tf.keras.layers.Dense(1),\n",
        "])\n",
        "\n",
        "# Compile the model\n",
        "model.compile(\n",
        "    loss = tf.keras.losses.mae, # MAE -> mean absolute error\n",
        "    optimizer = tf.keras.optimizers.SGD(), # SGD -> stochastic gradient descent\n",
        "    metrics = [\"mae\"]\n",
        ")\n",
        "\n",
        "# Fit the model\n",
        "model.fit(tf.expand_dims(x, axis = -1), y, epochs = 5)"
      ],
      "metadata": {
        "id": "9YjZQn7aHjBl",
        "colab": {
          "base_uri": "https://localhost:8080/"
        },
        "outputId": "e8b7f41b-4aab-4d7b-c32c-954fd4880784"
      },
      "execution_count": null,
      "outputs": [
        {
          "output_type": "stream",
          "name": "stdout",
          "text": [
            "Epoch 1/5\n",
            "1/1 [==============================] - 0s 407ms/step - loss: 6.5022 - mae: 6.5022\n",
            "Epoch 2/5\n",
            "1/1 [==============================] - 0s 12ms/step - loss: 6.3116 - mae: 6.3116\n",
            "Epoch 3/5\n",
            "1/1 [==============================] - 0s 8ms/step - loss: 6.1863 - mae: 6.1863\n",
            "Epoch 4/5\n",
            "1/1 [==============================] - 0s 10ms/step - loss: 6.1751 - mae: 6.1751\n",
            "Epoch 5/5\n",
            "1/1 [==============================] - 0s 11ms/step - loss: 6.1638 - mae: 6.1638\n"
          ]
        },
        {
          "output_type": "execute_result",
          "data": {
            "text/plain": [
              "<keras.src.callbacks.History at 0x7b0415d1fd30>"
            ]
          },
          "metadata": {},
          "execution_count": 8
        }
      ]
    },
    {
      "cell_type": "code",
      "source": [
        "model.predict([17.0])"
      ],
      "metadata": {
        "colab": {
          "base_uri": "https://localhost:8080/"
        },
        "id": "iuWhDYsAKIfZ",
        "outputId": "487a2758-390c-4ddf-dc42-ba7517b447c7"
      },
      "execution_count": null,
      "outputs": [
        {
          "output_type": "stream",
          "name": "stdout",
          "text": [
            "1/1 [==============================] - 0s 70ms/step\n"
          ]
        },
        {
          "output_type": "execute_result",
          "data": {
            "text/plain": [
              "array([[29.861107]], dtype=float32)"
            ]
          },
          "metadata": {},
          "execution_count": 9
        }
      ]
    },
    {
      "cell_type": "markdown",
      "source": [
        "#### Improving the model"
      ],
      "metadata": {
        "id": "D8Z_sETFK8Lt"
      }
    },
    {
      "cell_type": "code",
      "source": [
        "# Build a smaller model and then build it bigger\n",
        "\n",
        "# Rebuild the model\n",
        "\n",
        "model = tf.keras.Sequential([\n",
        "    tf.keras.layers.Dense(1)\n",
        "])\n",
        "\n",
        "model.compile(\n",
        "    loss = tf.keras.losses.mae, # MAE -> mean absolute error\n",
        "    optimizer = tf.keras.optimizers.SGD(), # SGD -> stochastic gradient descent\n",
        "    metrics = [\"mae\"]\n",
        ")\n",
        "\n",
        "model.fit(tf.expand_dims(x, axis = -1), y, epochs = 100)"
      ],
      "metadata": {
        "colab": {
          "base_uri": "https://localhost:8080/"
        },
        "id": "rDXnTrTiK_T8",
        "outputId": "4e989656-e2cb-40ac-c1a7-d93907278b6d"
      },
      "execution_count": null,
      "outputs": [
        {
          "output_type": "stream",
          "name": "stdout",
          "text": [
            "Epoch 1/100\n",
            "1/1 [==============================] - 0s 216ms/step - loss: 17.3127 - mae: 17.3127\n",
            "Epoch 2/100\n",
            "1/1 [==============================] - 0s 9ms/step - loss: 16.9471 - mae: 16.9471\n",
            "Epoch 3/100\n",
            "1/1 [==============================] - 0s 8ms/step - loss: 16.5814 - mae: 16.5814\n",
            "Epoch 4/100\n",
            "1/1 [==============================] - 0s 7ms/step - loss: 16.2158 - mae: 16.2158\n",
            "Epoch 5/100\n",
            "1/1 [==============================] - 0s 10ms/step - loss: 15.8502 - mae: 15.8502\n",
            "Epoch 6/100\n",
            "1/1 [==============================] - 0s 8ms/step - loss: 15.4846 - mae: 15.4846\n",
            "Epoch 7/100\n",
            "1/1 [==============================] - 0s 11ms/step - loss: 15.1569 - mae: 15.1569\n",
            "Epoch 8/100\n",
            "1/1 [==============================] - 0s 9ms/step - loss: 14.9663 - mae: 14.9663\n",
            "Epoch 9/100\n",
            "1/1 [==============================] - 0s 8ms/step - loss: 14.7757 - mae: 14.7757\n",
            "Epoch 10/100\n",
            "1/1 [==============================] - 0s 6ms/step - loss: 14.5850 - mae: 14.5850\n",
            "Epoch 11/100\n",
            "1/1 [==============================] - 0s 7ms/step - loss: 14.3944 - mae: 14.3944\n",
            "Epoch 12/100\n",
            "1/1 [==============================] - 0s 7ms/step - loss: 14.2038 - mae: 14.2038\n",
            "Epoch 13/100\n",
            "1/1 [==============================] - 0s 7ms/step - loss: 14.0132 - mae: 14.0132\n",
            "Epoch 14/100\n",
            "1/1 [==============================] - 0s 6ms/step - loss: 13.8225 - mae: 13.8225\n",
            "Epoch 15/100\n",
            "1/1 [==============================] - 0s 7ms/step - loss: 13.6319 - mae: 13.6319\n",
            "Epoch 16/100\n",
            "1/1 [==============================] - 0s 8ms/step - loss: 13.4413 - mae: 13.4413\n",
            "Epoch 17/100\n",
            "1/1 [==============================] - 0s 7ms/step - loss: 13.2507 - mae: 13.2507\n",
            "Epoch 18/100\n",
            "1/1 [==============================] - 0s 7ms/step - loss: 13.0600 - mae: 13.0600\n",
            "Epoch 19/100\n",
            "1/1 [==============================] - 0s 7ms/step - loss: 12.8694 - mae: 12.8694\n",
            "Epoch 20/100\n",
            "1/1 [==============================] - 0s 7ms/step - loss: 12.6788 - mae: 12.6788\n",
            "Epoch 21/100\n",
            "1/1 [==============================] - 0s 7ms/step - loss: 12.4882 - mae: 12.4882\n",
            "Epoch 22/100\n",
            "1/1 [==============================] - 0s 7ms/step - loss: 12.2975 - mae: 12.2975\n",
            "Epoch 23/100\n",
            "1/1 [==============================] - 0s 7ms/step - loss: 12.1069 - mae: 12.1069\n",
            "Epoch 24/100\n",
            "1/1 [==============================] - 0s 6ms/step - loss: 11.9163 - mae: 11.9163\n",
            "Epoch 25/100\n",
            "1/1 [==============================] - 0s 7ms/step - loss: 11.7257 - mae: 11.7257\n",
            "Epoch 26/100\n",
            "1/1 [==============================] - 0s 7ms/step - loss: 11.5350 - mae: 11.5350\n",
            "Epoch 27/100\n",
            "1/1 [==============================] - 0s 7ms/step - loss: 11.3444 - mae: 11.3444\n",
            "Epoch 28/100\n",
            "1/1 [==============================] - 0s 6ms/step - loss: 11.1538 - mae: 11.1538\n",
            "Epoch 29/100\n",
            "1/1 [==============================] - 0s 6ms/step - loss: 10.9632 - mae: 10.9632\n",
            "Epoch 30/100\n",
            "1/1 [==============================] - 0s 7ms/step - loss: 10.7725 - mae: 10.7725\n",
            "Epoch 31/100\n",
            "1/1 [==============================] - 0s 7ms/step - loss: 10.5819 - mae: 10.5819\n",
            "Epoch 32/100\n",
            "1/1 [==============================] - 0s 7ms/step - loss: 10.3913 - mae: 10.3913\n",
            "Epoch 33/100\n",
            "1/1 [==============================] - 0s 7ms/step - loss: 10.2007 - mae: 10.2007\n",
            "Epoch 34/100\n",
            "1/1 [==============================] - 0s 7ms/step - loss: 10.0100 - mae: 10.0100\n",
            "Epoch 35/100\n",
            "1/1 [==============================] - 0s 6ms/step - loss: 9.8194 - mae: 9.8194\n",
            "Epoch 36/100\n",
            "1/1 [==============================] - 0s 7ms/step - loss: 9.6288 - mae: 9.6288\n",
            "Epoch 37/100\n",
            "1/1 [==============================] - 0s 7ms/step - loss: 9.4382 - mae: 9.4382\n",
            "Epoch 38/100\n",
            "1/1 [==============================] - 0s 9ms/step - loss: 9.2475 - mae: 9.2475\n",
            "Epoch 39/100\n",
            "1/1 [==============================] - 0s 7ms/step - loss: 9.0569 - mae: 9.0569\n",
            "Epoch 40/100\n",
            "1/1 [==============================] - 0s 7ms/step - loss: 8.8663 - mae: 8.8663\n",
            "Epoch 41/100\n",
            "1/1 [==============================] - 0s 7ms/step - loss: 8.6757 - mae: 8.6757\n",
            "Epoch 42/100\n",
            "1/1 [==============================] - 0s 7ms/step - loss: 8.4850 - mae: 8.4850\n",
            "Epoch 43/100\n",
            "1/1 [==============================] - 0s 7ms/step - loss: 8.2944 - mae: 8.2944\n",
            "Epoch 44/100\n",
            "1/1 [==============================] - 0s 8ms/step - loss: 8.1038 - mae: 8.1038\n",
            "Epoch 45/100\n",
            "1/1 [==============================] - 0s 7ms/step - loss: 7.9132 - mae: 7.9132\n",
            "Epoch 46/100\n",
            "1/1 [==============================] - 0s 7ms/step - loss: 7.7225 - mae: 7.7225\n",
            "Epoch 47/100\n",
            "1/1 [==============================] - 0s 7ms/step - loss: 7.5319 - mae: 7.5319\n",
            "Epoch 48/100\n",
            "1/1 [==============================] - 0s 7ms/step - loss: 7.3413 - mae: 7.3413\n",
            "Epoch 49/100\n",
            "1/1 [==============================] - 0s 7ms/step - loss: 7.1507 - mae: 7.1507\n",
            "Epoch 50/100\n",
            "1/1 [==============================] - 0s 8ms/step - loss: 6.9600 - mae: 6.9600\n",
            "Epoch 51/100\n",
            "1/1 [==============================] - 0s 8ms/step - loss: 6.7694 - mae: 6.7694\n",
            "Epoch 52/100\n",
            "1/1 [==============================] - 0s 12ms/step - loss: 6.5788 - mae: 6.5788\n",
            "Epoch 53/100\n",
            "1/1 [==============================] - 0s 10ms/step - loss: 6.3882 - mae: 6.3882\n",
            "Epoch 54/100\n",
            "1/1 [==============================] - 0s 8ms/step - loss: 6.1975 - mae: 6.1975\n",
            "Epoch 55/100\n",
            "1/1 [==============================] - 0s 7ms/step - loss: 6.0069 - mae: 6.0069\n",
            "Epoch 56/100\n",
            "1/1 [==============================] - 0s 10ms/step - loss: 5.8372 - mae: 5.8372\n",
            "Epoch 57/100\n",
            "1/1 [==============================] - 0s 6ms/step - loss: 5.8260 - mae: 5.8260\n",
            "Epoch 58/100\n",
            "1/1 [==============================] - 0s 8ms/step - loss: 5.8147 - mae: 5.8147\n",
            "Epoch 59/100\n",
            "1/1 [==============================] - 0s 9ms/step - loss: 5.8035 - mae: 5.8035\n",
            "Epoch 60/100\n",
            "1/1 [==============================] - 0s 10ms/step - loss: 5.7922 - mae: 5.7922\n",
            "Epoch 61/100\n",
            "1/1 [==============================] - 0s 10ms/step - loss: 5.7810 - mae: 5.7810\n",
            "Epoch 62/100\n",
            "1/1 [==============================] - 0s 7ms/step - loss: 5.7697 - mae: 5.7697\n",
            "Epoch 63/100\n",
            "1/1 [==============================] - 0s 6ms/step - loss: 5.7585 - mae: 5.7585\n",
            "Epoch 64/100\n",
            "1/1 [==============================] - 0s 9ms/step - loss: 5.7472 - mae: 5.7472\n",
            "Epoch 65/100\n",
            "1/1 [==============================] - 0s 7ms/step - loss: 5.7360 - mae: 5.7360\n",
            "Epoch 66/100\n",
            "1/1 [==============================] - 0s 7ms/step - loss: 5.7247 - mae: 5.7247\n",
            "Epoch 67/100\n",
            "1/1 [==============================] - 0s 7ms/step - loss: 5.7135 - mae: 5.7135\n",
            "Epoch 68/100\n",
            "1/1 [==============================] - 0s 8ms/step - loss: 5.7022 - mae: 5.7022\n",
            "Epoch 69/100\n",
            "1/1 [==============================] - 0s 9ms/step - loss: 5.6910 - mae: 5.6910\n",
            "Epoch 70/100\n",
            "1/1 [==============================] - 0s 10ms/step - loss: 5.6797 - mae: 5.6797\n",
            "Epoch 71/100\n",
            "1/1 [==============================] - 0s 8ms/step - loss: 5.6685 - mae: 5.6685\n",
            "Epoch 72/100\n",
            "1/1 [==============================] - 0s 7ms/step - loss: 5.6572 - mae: 5.6572\n",
            "Epoch 73/100\n",
            "1/1 [==============================] - 0s 8ms/step - loss: 5.6460 - mae: 5.6460\n",
            "Epoch 74/100\n",
            "1/1 [==============================] - 0s 8ms/step - loss: 5.6347 - mae: 5.6347\n",
            "Epoch 75/100\n",
            "1/1 [==============================] - 0s 7ms/step - loss: 5.6235 - mae: 5.6235\n",
            "Epoch 76/100\n",
            "1/1 [==============================] - 0s 9ms/step - loss: 5.6122 - mae: 5.6122\n",
            "Epoch 77/100\n",
            "1/1 [==============================] - 0s 7ms/step - loss: 5.6010 - mae: 5.6010\n",
            "Epoch 78/100\n",
            "1/1 [==============================] - 0s 7ms/step - loss: 5.5941 - mae: 5.5941\n",
            "Epoch 79/100\n",
            "1/1 [==============================] - 0s 7ms/step - loss: 5.6010 - mae: 5.6010\n",
            "Epoch 80/100\n",
            "1/1 [==============================] - 0s 7ms/step - loss: 5.5897 - mae: 5.5897\n",
            "Epoch 81/100\n",
            "1/1 [==============================] - 0s 7ms/step - loss: 5.5785 - mae: 5.5785\n",
            "Epoch 82/100\n",
            "1/1 [==============================] - 0s 7ms/step - loss: 5.5854 - mae: 5.5854\n",
            "Epoch 83/100\n",
            "1/1 [==============================] - 0s 7ms/step - loss: 5.5785 - mae: 5.5785\n",
            "Epoch 84/100\n",
            "1/1 [==============================] - 0s 7ms/step - loss: 5.5672 - mae: 5.5672\n",
            "Epoch 85/100\n",
            "1/1 [==============================] - 0s 7ms/step - loss: 5.5654 - mae: 5.5654\n",
            "Epoch 86/100\n",
            "1/1 [==============================] - 0s 8ms/step - loss: 5.5672 - mae: 5.5672\n",
            "Epoch 87/100\n",
            "1/1 [==============================] - 0s 7ms/step - loss: 5.5560 - mae: 5.5560\n",
            "Epoch 88/100\n",
            "1/1 [==============================] - 0s 7ms/step - loss: 5.5454 - mae: 5.5454\n",
            "Epoch 89/100\n",
            "1/1 [==============================] - 0s 7ms/step - loss: 5.5560 - mae: 5.5560\n",
            "Epoch 90/100\n",
            "1/1 [==============================] - 0s 7ms/step - loss: 5.5447 - mae: 5.5447\n",
            "Epoch 91/100\n",
            "1/1 [==============================] - 0s 6ms/step - loss: 5.5335 - mae: 5.5335\n",
            "Epoch 92/100\n",
            "1/1 [==============================] - 0s 6ms/step - loss: 5.5366 - mae: 5.5366\n",
            "Epoch 93/100\n",
            "1/1 [==============================] - 0s 6ms/step - loss: 5.5335 - mae: 5.5335\n",
            "Epoch 94/100\n",
            "1/1 [==============================] - 0s 6ms/step - loss: 5.5222 - mae: 5.5222\n",
            "Epoch 95/100\n",
            "1/1 [==============================] - 0s 6ms/step - loss: 5.5166 - mae: 5.5166\n",
            "Epoch 96/100\n",
            "1/1 [==============================] - 0s 8ms/step - loss: 5.5222 - mae: 5.5222\n",
            "Epoch 97/100\n",
            "1/1 [==============================] - 0s 8ms/step - loss: 5.5110 - mae: 5.5110\n",
            "Epoch 98/100\n",
            "1/1 [==============================] - 0s 7ms/step - loss: 5.4997 - mae: 5.4997\n",
            "Epoch 99/100\n",
            "1/1 [==============================] - 0s 7ms/step - loss: 5.5079 - mae: 5.5079\n",
            "Epoch 100/100\n",
            "1/1 [==============================] - 0s 7ms/step - loss: 5.4997 - mae: 5.4997\n"
          ]
        },
        {
          "output_type": "execute_result",
          "data": {
            "text/plain": [
              "<keras.src.callbacks.History at 0x7b041538aa70>"
            ]
          },
          "metadata": {},
          "execution_count": 10
        }
      ]
    },
    {
      "cell_type": "code",
      "source": [
        "model.predict([17.0])"
      ],
      "metadata": {
        "colab": {
          "base_uri": "https://localhost:8080/"
        },
        "id": "qaDsOKOuO6m9",
        "outputId": "b0678749-abc6-4f74-8a98-4ec1235f0402"
      },
      "execution_count": null,
      "outputs": [
        {
          "output_type": "stream",
          "name": "stdout",
          "text": [
            "1/1 [==============================] - 0s 47ms/step\n"
          ]
        },
        {
          "output_type": "execute_result",
          "data": {
            "text/plain": [
              "array([[31.914896]], dtype=float32)"
            ]
          },
          "metadata": {},
          "execution_count": 11
        }
      ]
    },
    {
      "cell_type": "code",
      "source": [
        "# Rebuild the model\n",
        "\n",
        "model = tf.keras.Sequential([\n",
        "    tf.keras.layers.Dense(100, activation = 'relu'),\n",
        "    tf.keras.layers.Dense(1)\n",
        "])\n",
        "\n",
        "model.compile(\n",
        "    loss = tf.keras.losses.mae, # MAE -> mean absolute error\n",
        "    optimizer = tf.keras.optimizers.SGD(), # SGD -> stochastic gradient descent\n",
        "    metrics = [\"mae\"]\n",
        ")\n",
        "\n",
        "model.fit(tf.expand_dims(x, axis = -1), y, epochs = 100)"
      ],
      "metadata": {
        "colab": {
          "base_uri": "https://localhost:8080/"
        },
        "id": "JGPWO9GPPU3h",
        "outputId": "b010332f-722e-4446-bc71-84acbde1738f"
      },
      "execution_count": null,
      "outputs": [
        {
          "output_type": "stream",
          "name": "stdout",
          "text": [
            "Epoch 1/100\n",
            "1/1 [==============================] - 0s 295ms/step - loss: 12.3074 - mae: 12.3074\n",
            "Epoch 2/100\n",
            "1/1 [==============================] - 0s 9ms/step - loss: 11.7142 - mae: 11.7142\n",
            "Epoch 3/100\n",
            "1/1 [==============================] - 0s 8ms/step - loss: 11.1059 - mae: 11.1059\n",
            "Epoch 4/100\n",
            "1/1 [==============================] - 0s 11ms/step - loss: 10.4914 - mae: 10.4914\n",
            "Epoch 5/100\n",
            "1/1 [==============================] - 0s 8ms/step - loss: 9.8482 - mae: 9.8482\n",
            "Epoch 6/100\n",
            "1/1 [==============================] - 0s 9ms/step - loss: 9.1753 - mae: 9.1753\n",
            "Epoch 7/100\n",
            "1/1 [==============================] - 0s 12ms/step - loss: 8.4674 - mae: 8.4674\n",
            "Epoch 8/100\n",
            "1/1 [==============================] - 0s 11ms/step - loss: 7.7268 - mae: 7.7268\n",
            "Epoch 9/100\n",
            "1/1 [==============================] - 0s 22ms/step - loss: 6.9348 - mae: 6.9348\n",
            "Epoch 10/100\n",
            "1/1 [==============================] - 0s 14ms/step - loss: 6.0782 - mae: 6.0782\n",
            "Epoch 11/100\n",
            "1/1 [==============================] - 0s 10ms/step - loss: 5.1478 - mae: 5.1478\n",
            "Epoch 12/100\n",
            "1/1 [==============================] - 0s 13ms/step - loss: 4.1353 - mae: 4.1353\n",
            "Epoch 13/100\n",
            "1/1 [==============================] - 0s 21ms/step - loss: 3.6491 - mae: 3.6491\n",
            "Epoch 14/100\n",
            "1/1 [==============================] - 0s 10ms/step - loss: 3.6908 - mae: 3.6908\n",
            "Epoch 15/100\n",
            "1/1 [==============================] - 0s 10ms/step - loss: 3.6357 - mae: 3.6357\n",
            "Epoch 16/100\n",
            "1/1 [==============================] - 0s 13ms/step - loss: 3.6567 - mae: 3.6567\n",
            "Epoch 17/100\n",
            "1/1 [==============================] - 0s 10ms/step - loss: 3.6641 - mae: 3.6641\n",
            "Epoch 18/100\n",
            "1/1 [==============================] - 0s 10ms/step - loss: 3.6160 - mae: 3.6160\n",
            "Epoch 19/100\n",
            "1/1 [==============================] - 0s 10ms/step - loss: 3.6563 - mae: 3.6563\n",
            "Epoch 20/100\n",
            "1/1 [==============================] - 0s 12ms/step - loss: 3.6383 - mae: 3.6383\n",
            "Epoch 21/100\n",
            "1/1 [==============================] - 0s 11ms/step - loss: 3.6038 - mae: 3.6038\n",
            "Epoch 22/100\n",
            "1/1 [==============================] - 0s 11ms/step - loss: 3.6491 - mae: 3.6491\n",
            "Epoch 23/100\n",
            "1/1 [==============================] - 0s 14ms/step - loss: 3.6207 - mae: 3.6207\n",
            "Epoch 24/100\n",
            "1/1 [==============================] - 0s 11ms/step - loss: 3.5847 - mae: 3.5847\n",
            "Epoch 25/100\n",
            "1/1 [==============================] - 0s 11ms/step - loss: 3.6416 - mae: 3.6416\n",
            "Epoch 26/100\n",
            "1/1 [==============================] - 0s 11ms/step - loss: 3.6086 - mae: 3.6086\n",
            "Epoch 27/100\n",
            "1/1 [==============================] - 0s 16ms/step - loss: 3.5770 - mae: 3.5770\n",
            "Epoch 28/100\n",
            "1/1 [==============================] - 0s 12ms/step - loss: 3.6260 - mae: 3.6260\n",
            "Epoch 29/100\n",
            "1/1 [==============================] - 0s 12ms/step - loss: 3.5870 - mae: 3.5870\n",
            "Epoch 30/100\n",
            "1/1 [==============================] - 0s 12ms/step - loss: 3.5690 - mae: 3.5690\n",
            "Epoch 31/100\n",
            "1/1 [==============================] - 0s 9ms/step - loss: 3.6141 - mae: 3.6141\n",
            "Epoch 32/100\n",
            "1/1 [==============================] - 0s 9ms/step - loss: 3.5622 - mae: 3.5622\n",
            "Epoch 33/100\n",
            "1/1 [==============================] - 0s 9ms/step - loss: 3.5729 - mae: 3.5729\n",
            "Epoch 34/100\n",
            "1/1 [==============================] - 0s 9ms/step - loss: 3.5909 - mae: 3.5909\n",
            "Epoch 35/100\n",
            "1/1 [==============================] - 0s 8ms/step - loss: 3.5384 - mae: 3.5384\n",
            "Epoch 36/100\n",
            "1/1 [==============================] - 0s 9ms/step - loss: 3.5760 - mae: 3.5760\n",
            "Epoch 37/100\n",
            "1/1 [==============================] - 0s 8ms/step - loss: 3.5663 - mae: 3.5663\n",
            "Epoch 38/100\n",
            "1/1 [==============================] - 0s 7ms/step - loss: 3.5272 - mae: 3.5272\n",
            "Epoch 39/100\n",
            "1/1 [==============================] - 0s 10ms/step - loss: 3.5669 - mae: 3.5669\n",
            "Epoch 40/100\n",
            "1/1 [==============================] - 0s 10ms/step - loss: 3.5446 - mae: 3.5446\n",
            "Epoch 41/100\n",
            "1/1 [==============================] - 0s 8ms/step - loss: 3.5135 - mae: 3.5135\n",
            "Epoch 42/100\n",
            "1/1 [==============================] - 0s 7ms/step - loss: 3.5576 - mae: 3.5576\n",
            "Epoch 43/100\n",
            "1/1 [==============================] - 0s 7ms/step - loss: 3.5336 - mae: 3.5336\n",
            "Epoch 44/100\n",
            "1/1 [==============================] - 0s 6ms/step - loss: 3.4914 - mae: 3.4914\n",
            "Epoch 45/100\n",
            "1/1 [==============================] - 0s 8ms/step - loss: 3.5514 - mae: 3.5514\n",
            "Epoch 46/100\n",
            "1/1 [==============================] - 0s 9ms/step - loss: 3.5182 - mae: 3.5182\n",
            "Epoch 47/100\n",
            "1/1 [==============================] - 0s 6ms/step - loss: 3.4817 - mae: 3.4817\n",
            "Epoch 48/100\n",
            "1/1 [==============================] - 0s 7ms/step - loss: 3.5405 - mae: 3.5405\n",
            "Epoch 49/100\n",
            "1/1 [==============================] - 0s 7ms/step - loss: 3.4944 - mae: 3.4944\n",
            "Epoch 50/100\n",
            "1/1 [==============================] - 0s 8ms/step - loss: 3.4784 - mae: 3.4784\n",
            "Epoch 51/100\n",
            "1/1 [==============================] - 0s 8ms/step - loss: 3.5236 - mae: 3.5236\n",
            "Epoch 52/100\n",
            "1/1 [==============================] - 0s 7ms/step - loss: 3.4708 - mae: 3.4708\n",
            "Epoch 53/100\n",
            "1/1 [==============================] - 0s 9ms/step - loss: 3.4810 - mae: 3.4810\n",
            "Epoch 54/100\n",
            "1/1 [==============================] - 0s 6ms/step - loss: 3.5000 - mae: 3.5000\n",
            "Epoch 55/100\n",
            "1/1 [==============================] - 0s 13ms/step - loss: 3.4560 - mae: 3.4560\n",
            "Epoch 56/100\n",
            "1/1 [==============================] - 0s 8ms/step - loss: 3.4741 - mae: 3.4741\n",
            "Epoch 57/100\n",
            "1/1 [==============================] - 0s 7ms/step - loss: 3.4766 - mae: 3.4766\n",
            "Epoch 58/100\n",
            "1/1 [==============================] - 0s 7ms/step - loss: 3.4458 - mae: 3.4458\n",
            "Epoch 59/100\n",
            "1/1 [==============================] - 0s 10ms/step - loss: 3.4629 - mae: 3.4629\n",
            "Epoch 60/100\n",
            "1/1 [==============================] - 0s 9ms/step - loss: 3.4636 - mae: 3.4636\n",
            "Epoch 61/100\n",
            "1/1 [==============================] - 0s 9ms/step - loss: 3.4257 - mae: 3.4257\n",
            "Epoch 62/100\n",
            "1/1 [==============================] - 0s 11ms/step - loss: 3.4513 - mae: 3.4513\n",
            "Epoch 63/100\n",
            "1/1 [==============================] - 0s 9ms/step - loss: 3.4536 - mae: 3.4536\n",
            "Epoch 64/100\n",
            "1/1 [==============================] - 0s 9ms/step - loss: 3.4029 - mae: 3.4029\n",
            "Epoch 65/100\n",
            "1/1 [==============================] - 0s 9ms/step - loss: 3.4518 - mae: 3.4518\n",
            "Epoch 66/100\n",
            "1/1 [==============================] - 0s 9ms/step - loss: 3.4321 - mae: 3.4321\n",
            "Epoch 67/100\n",
            "1/1 [==============================] - 0s 8ms/step - loss: 3.3815 - mae: 3.3815\n",
            "Epoch 68/100\n",
            "1/1 [==============================] - 0s 8ms/step - loss: 3.4509 - mae: 3.4509\n",
            "Epoch 69/100\n",
            "1/1 [==============================] - 0s 7ms/step - loss: 3.4095 - mae: 3.4095\n",
            "Epoch 70/100\n",
            "1/1 [==============================] - 0s 9ms/step - loss: 3.3726 - mae: 3.3726\n",
            "Epoch 71/100\n",
            "1/1 [==============================] - 0s 8ms/step - loss: 3.4392 - mae: 3.4392\n",
            "Epoch 72/100\n",
            "1/1 [==============================] - 0s 8ms/step - loss: 3.3898 - mae: 3.3898\n",
            "Epoch 73/100\n",
            "1/1 [==============================] - 0s 8ms/step - loss: 3.3694 - mae: 3.3694\n",
            "Epoch 74/100\n",
            "1/1 [==============================] - 0s 10ms/step - loss: 3.4167 - mae: 3.4167\n",
            "Epoch 75/100\n",
            "1/1 [==============================] - 0s 9ms/step - loss: 3.3805 - mae: 3.3805\n",
            "Epoch 76/100\n",
            "1/1 [==============================] - 0s 9ms/step - loss: 3.3562 - mae: 3.3562\n",
            "Epoch 77/100\n",
            "1/1 [==============================] - 0s 9ms/step - loss: 3.3988 - mae: 3.3988\n",
            "Epoch 78/100\n",
            "1/1 [==============================] - 0s 7ms/step - loss: 3.3669 - mae: 3.3669\n",
            "Epoch 79/100\n",
            "1/1 [==============================] - 0s 10ms/step - loss: 3.3427 - mae: 3.3427\n",
            "Epoch 80/100\n",
            "1/1 [==============================] - 0s 7ms/step - loss: 3.3896 - mae: 3.3896\n",
            "Epoch 81/100\n",
            "1/1 [==============================] - 0s 7ms/step - loss: 3.3449 - mae: 3.3449\n",
            "Epoch 82/100\n",
            "1/1 [==============================] - 0s 7ms/step - loss: 3.3353 - mae: 3.3353\n",
            "Epoch 83/100\n",
            "1/1 [==============================] - 0s 7ms/step - loss: 3.3747 - mae: 3.3747\n",
            "Epoch 84/100\n",
            "1/1 [==============================] - 0s 7ms/step - loss: 3.3232 - mae: 3.3232\n",
            "Epoch 85/100\n",
            "1/1 [==============================] - 0s 8ms/step - loss: 3.3339 - mae: 3.3339\n",
            "Epoch 86/100\n",
            "1/1 [==============================] - 0s 6ms/step - loss: 3.3529 - mae: 3.3529\n",
            "Epoch 87/100\n",
            "1/1 [==============================] - 0s 7ms/step - loss: 3.3096 - mae: 3.3096\n",
            "Epoch 88/100\n",
            "1/1 [==============================] - 0s 7ms/step - loss: 3.3235 - mae: 3.3235\n",
            "Epoch 89/100\n",
            "1/1 [==============================] - 0s 7ms/step - loss: 3.3313 - mae: 3.3313\n",
            "Epoch 90/100\n",
            "1/1 [==============================] - 0s 7ms/step - loss: 3.3010 - mae: 3.3010\n",
            "Epoch 91/100\n",
            "1/1 [==============================] - 0s 7ms/step - loss: 3.3085 - mae: 3.3085\n",
            "Epoch 92/100\n",
            "1/1 [==============================] - 0s 7ms/step - loss: 3.3193 - mae: 3.3193\n",
            "Epoch 93/100\n",
            "1/1 [==============================] - 0s 7ms/step - loss: 3.2831 - mae: 3.2831\n",
            "Epoch 94/100\n",
            "1/1 [==============================] - 0s 7ms/step - loss: 3.2932 - mae: 3.2932\n",
            "Epoch 95/100\n",
            "1/1 [==============================] - 0s 7ms/step - loss: 3.3109 - mae: 3.3109\n",
            "Epoch 96/100\n",
            "1/1 [==============================] - 0s 7ms/step - loss: 3.2619 - mae: 3.2619\n",
            "Epoch 97/100\n",
            "1/1 [==============================] - 0s 7ms/step - loss: 3.2890 - mae: 3.2890\n",
            "Epoch 98/100\n",
            "1/1 [==============================] - 0s 6ms/step - loss: 3.2917 - mae: 3.2917\n",
            "Epoch 99/100\n",
            "1/1 [==============================] - 0s 6ms/step - loss: 3.2411 - mae: 3.2411\n",
            "Epoch 100/100\n",
            "1/1 [==============================] - 0s 7ms/step - loss: 3.2849 - mae: 3.2849\n"
          ]
        },
        {
          "output_type": "execute_result",
          "data": {
            "text/plain": [
              "<keras.src.callbacks.History at 0x7b04165f2710>"
            ]
          },
          "metadata": {},
          "execution_count": 12
        }
      ]
    },
    {
      "cell_type": "code",
      "source": [
        "model.predict([7.0])"
      ],
      "metadata": {
        "colab": {
          "base_uri": "https://localhost:8080/"
        },
        "id": "ilIxxP18QxaB",
        "outputId": "2eb9f2db-f7ae-4472-e5b5-8a7ddd2ad396"
      },
      "execution_count": null,
      "outputs": [
        {
          "output_type": "stream",
          "name": "stdout",
          "text": [
            "1/1 [==============================] - 0s 63ms/step\n"
          ]
        },
        {
          "output_type": "execute_result",
          "data": {
            "text/plain": [
              "array([[14.19648]], dtype=float32)"
            ]
          },
          "metadata": {},
          "execution_count": 13
        }
      ]
    },
    {
      "cell_type": "code",
      "source": [
        "# Rebuild the model\n",
        "\n",
        "model = tf.keras.Sequential([\n",
        "    tf.keras.layers.Dense(50, activation = None),\n",
        "    tf.keras.layers.Dense(1)\n",
        "])\n",
        "\n",
        "model.compile(\n",
        "    loss = tf.keras.losses.mae,\n",
        "    optimizer = tf.keras.optimizers.Adam(learning_rate = 0.01),\n",
        "    metrics = [\"mae\"]\n",
        ")\n",
        "\n",
        "model.fit(tf.expand_dims(x, axis = -1), y, epochs = 100)"
      ],
      "metadata": {
        "colab": {
          "base_uri": "https://localhost:8080/"
        },
        "id": "yMjsBrj3Q-_W",
        "outputId": "ed7cf649-fde1-450d-a35c-c03b0fd0e179"
      },
      "execution_count": null,
      "outputs": [
        {
          "output_type": "stream",
          "name": "stdout",
          "text": [
            "Epoch 1/100\n",
            "1/1 [==============================] - 0s 386ms/step - loss: 14.2479 - mae: 14.2479\n",
            "Epoch 2/100\n",
            "1/1 [==============================] - 0s 9ms/step - loss: 13.4618 - mae: 13.4618\n",
            "Epoch 3/100\n",
            "1/1 [==============================] - 0s 9ms/step - loss: 12.6780 - mae: 12.6780\n",
            "Epoch 4/100\n",
            "1/1 [==============================] - 0s 8ms/step - loss: 11.8947 - mae: 11.8947\n",
            "Epoch 5/100\n",
            "1/1 [==============================] - 0s 11ms/step - loss: 11.1103 - mae: 11.1103\n",
            "Epoch 6/100\n",
            "1/1 [==============================] - 0s 10ms/step - loss: 10.3220 - mae: 10.3220\n",
            "Epoch 7/100\n",
            "1/1 [==============================] - 0s 13ms/step - loss: 9.5272 - mae: 9.5272\n",
            "Epoch 8/100\n",
            "1/1 [==============================] - 0s 10ms/step - loss: 8.7229 - mae: 8.7229\n",
            "Epoch 9/100\n",
            "1/1 [==============================] - 0s 8ms/step - loss: 7.9062 - mae: 7.9062\n",
            "Epoch 10/100\n",
            "1/1 [==============================] - 0s 8ms/step - loss: 7.0741 - mae: 7.0741\n",
            "Epoch 11/100\n",
            "1/1 [==============================] - 0s 7ms/step - loss: 6.2234 - mae: 6.2234\n",
            "Epoch 12/100\n",
            "1/1 [==============================] - 0s 9ms/step - loss: 5.4545 - mae: 5.4545\n",
            "Epoch 13/100\n",
            "1/1 [==============================] - 0s 8ms/step - loss: 5.3387 - mae: 5.3387\n",
            "Epoch 14/100\n",
            "1/1 [==============================] - 0s 8ms/step - loss: 5.5609 - mae: 5.5609\n",
            "Epoch 15/100\n",
            "1/1 [==============================] - 0s 7ms/step - loss: 5.7274 - mae: 5.7274\n",
            "Epoch 16/100\n",
            "1/1 [==============================] - 0s 10ms/step - loss: 5.8428 - mae: 5.8428\n",
            "Epoch 17/100\n",
            "1/1 [==============================] - 0s 9ms/step - loss: 5.9119 - mae: 5.9119\n",
            "Epoch 18/100\n",
            "1/1 [==============================] - 0s 11ms/step - loss: 5.9394 - mae: 5.9394\n",
            "Epoch 19/100\n",
            "1/1 [==============================] - 0s 10ms/step - loss: 5.9299 - mae: 5.9299\n",
            "Epoch 20/100\n",
            "1/1 [==============================] - 0s 9ms/step - loss: 5.8879 - mae: 5.8879\n",
            "Epoch 21/100\n",
            "1/1 [==============================] - 0s 8ms/step - loss: 5.8175 - mae: 5.8175\n",
            "Epoch 22/100\n",
            "1/1 [==============================] - 0s 8ms/step - loss: 5.7226 - mae: 5.7226\n",
            "Epoch 23/100\n",
            "1/1 [==============================] - 0s 6ms/step - loss: 5.6068 - mae: 5.6068\n",
            "Epoch 24/100\n",
            "1/1 [==============================] - 0s 7ms/step - loss: 5.4734 - mae: 5.4734\n",
            "Epoch 25/100\n",
            "1/1 [==============================] - 0s 7ms/step - loss: 5.3253 - mae: 5.3253\n",
            "Epoch 26/100\n",
            "1/1 [==============================] - 0s 7ms/step - loss: 5.1651 - mae: 5.1651\n",
            "Epoch 27/100\n",
            "1/1 [==============================] - 0s 7ms/step - loss: 4.9950 - mae: 4.9950\n",
            "Epoch 28/100\n",
            "1/1 [==============================] - 0s 8ms/step - loss: 4.8172 - mae: 4.8172\n",
            "Epoch 29/100\n",
            "1/1 [==============================] - 0s 7ms/step - loss: 4.6332 - mae: 4.6332\n",
            "Epoch 30/100\n",
            "1/1 [==============================] - 0s 9ms/step - loss: 4.4444 - mae: 4.4444\n",
            "Epoch 31/100\n",
            "1/1 [==============================] - 0s 8ms/step - loss: 4.2659 - mae: 4.2659\n",
            "Epoch 32/100\n",
            "1/1 [==============================] - 0s 9ms/step - loss: 4.2649 - mae: 4.2649\n",
            "Epoch 33/100\n",
            "1/1 [==============================] - 0s 8ms/step - loss: 4.2447 - mae: 4.2447\n",
            "Epoch 34/100\n",
            "1/1 [==============================] - 0s 7ms/step - loss: 4.2268 - mae: 4.2268\n",
            "Epoch 35/100\n",
            "1/1 [==============================] - 0s 7ms/step - loss: 4.1462 - mae: 4.1462\n",
            "Epoch 36/100\n",
            "1/1 [==============================] - 0s 8ms/step - loss: 4.0070 - mae: 4.0070\n",
            "Epoch 37/100\n",
            "1/1 [==============================] - 0s 8ms/step - loss: 3.8784 - mae: 3.8784\n",
            "Epoch 38/100\n",
            "1/1 [==============================] - 0s 8ms/step - loss: 3.7398 - mae: 3.7398\n",
            "Epoch 39/100\n",
            "1/1 [==============================] - 0s 9ms/step - loss: 3.6392 - mae: 3.6392\n",
            "Epoch 40/100\n",
            "1/1 [==============================] - 0s 8ms/step - loss: 3.5969 - mae: 3.5969\n",
            "Epoch 41/100\n",
            "1/1 [==============================] - 0s 8ms/step - loss: 3.5303 - mae: 3.5303\n",
            "Epoch 42/100\n",
            "1/1 [==============================] - 0s 7ms/step - loss: 3.4409 - mae: 3.4409\n",
            "Epoch 43/100\n",
            "1/1 [==============================] - 0s 10ms/step - loss: 3.3299 - mae: 3.3299\n",
            "Epoch 44/100\n",
            "1/1 [==============================] - 0s 7ms/step - loss: 3.1985 - mae: 3.1985\n",
            "Epoch 45/100\n",
            "1/1 [==============================] - 0s 8ms/step - loss: 3.0479 - mae: 3.0479\n",
            "Epoch 46/100\n",
            "1/1 [==============================] - 0s 7ms/step - loss: 2.8878 - mae: 2.8878\n",
            "Epoch 47/100\n",
            "1/1 [==============================] - 0s 10ms/step - loss: 2.7947 - mae: 2.7947\n",
            "Epoch 48/100\n",
            "1/1 [==============================] - 0s 8ms/step - loss: 2.6815 - mae: 2.6815\n",
            "Epoch 49/100\n",
            "1/1 [==============================] - 0s 8ms/step - loss: 2.5489 - mae: 2.5489\n",
            "Epoch 50/100\n",
            "1/1 [==============================] - 0s 8ms/step - loss: 2.3974 - mae: 2.3974\n",
            "Epoch 51/100\n",
            "1/1 [==============================] - 0s 8ms/step - loss: 2.2275 - mae: 2.2275\n",
            "Epoch 52/100\n",
            "1/1 [==============================] - 0s 8ms/step - loss: 2.1112 - mae: 2.1112\n",
            "Epoch 53/100\n",
            "1/1 [==============================] - 0s 7ms/step - loss: 1.9740 - mae: 1.9740\n",
            "Epoch 54/100\n",
            "1/1 [==============================] - 0s 7ms/step - loss: 1.8050 - mae: 1.8050\n",
            "Epoch 55/100\n",
            "1/1 [==============================] - 0s 7ms/step - loss: 1.6053 - mae: 1.6053\n",
            "Epoch 56/100\n",
            "1/1 [==============================] - 0s 7ms/step - loss: 1.4144 - mae: 1.4144\n",
            "Epoch 57/100\n",
            "1/1 [==============================] - 0s 15ms/step - loss: 1.2560 - mae: 1.2560\n",
            "Epoch 58/100\n",
            "1/1 [==============================] - 0s 7ms/step - loss: 1.1568 - mae: 1.1568\n",
            "Epoch 59/100\n",
            "1/1 [==============================] - 0s 7ms/step - loss: 1.1505 - mae: 1.1505\n",
            "Epoch 60/100\n",
            "1/1 [==============================] - 0s 7ms/step - loss: 1.0390 - mae: 1.0390\n",
            "Epoch 61/100\n",
            "1/1 [==============================] - 0s 6ms/step - loss: 1.0392 - mae: 1.0392\n",
            "Epoch 62/100\n",
            "1/1 [==============================] - 0s 6ms/step - loss: 1.0679 - mae: 1.0679\n",
            "Epoch 63/100\n",
            "1/1 [==============================] - 0s 7ms/step - loss: 1.0294 - mae: 1.0294\n",
            "Epoch 64/100\n",
            "1/1 [==============================] - 0s 6ms/step - loss: 1.0417 - mae: 1.0417\n",
            "Epoch 65/100\n",
            "1/1 [==============================] - 0s 7ms/step - loss: 1.0214 - mae: 1.0214\n",
            "Epoch 66/100\n",
            "1/1 [==============================] - 0s 7ms/step - loss: 1.0488 - mae: 1.0488\n",
            "Epoch 67/100\n",
            "1/1 [==============================] - 0s 7ms/step - loss: 1.0132 - mae: 1.0132\n",
            "Epoch 68/100\n",
            "1/1 [==============================] - 0s 7ms/step - loss: 1.0915 - mae: 1.0915\n",
            "Epoch 69/100\n",
            "1/1 [==============================] - 0s 7ms/step - loss: 1.0311 - mae: 1.0311\n",
            "Epoch 70/100\n",
            "1/1 [==============================] - 0s 7ms/step - loss: 1.1471 - mae: 1.1471\n",
            "Epoch 71/100\n",
            "1/1 [==============================] - 0s 6ms/step - loss: 1.1494 - mae: 1.1494\n",
            "Epoch 72/100\n",
            "1/1 [==============================] - 0s 7ms/step - loss: 1.0280 - mae: 1.0280\n",
            "Epoch 73/100\n",
            "1/1 [==============================] - 0s 6ms/step - loss: 1.0605 - mae: 1.0605\n",
            "Epoch 74/100\n",
            "1/1 [==============================] - 0s 8ms/step - loss: 1.0268 - mae: 1.0268\n",
            "Epoch 75/100\n",
            "1/1 [==============================] - 0s 11ms/step - loss: 1.0013 - mae: 1.0013\n",
            "Epoch 76/100\n",
            "1/1 [==============================] - 0s 7ms/step - loss: 1.0409 - mae: 1.0409\n",
            "Epoch 77/100\n",
            "1/1 [==============================] - 0s 6ms/step - loss: 1.1397 - mae: 1.1397\n",
            "Epoch 78/100\n",
            "1/1 [==============================] - 0s 7ms/step - loss: 1.0951 - mae: 1.0951\n",
            "Epoch 79/100\n",
            "1/1 [==============================] - 0s 6ms/step - loss: 1.1314 - mae: 1.1314\n",
            "Epoch 80/100\n",
            "1/1 [==============================] - 0s 7ms/step - loss: 1.1116 - mae: 1.1116\n",
            "Epoch 81/100\n",
            "1/1 [==============================] - 0s 7ms/step - loss: 1.0380 - mae: 1.0380\n",
            "Epoch 82/100\n",
            "1/1 [==============================] - 0s 7ms/step - loss: 1.0707 - mae: 1.0707\n",
            "Epoch 83/100\n",
            "1/1 [==============================] - 0s 7ms/step - loss: 1.0119 - mae: 1.0119\n",
            "Epoch 84/100\n",
            "1/1 [==============================] - 0s 7ms/step - loss: 1.1288 - mae: 1.1288\n",
            "Epoch 85/100\n",
            "1/1 [==============================] - 0s 7ms/step - loss: 1.1620 - mae: 1.1620\n",
            "Epoch 86/100\n",
            "1/1 [==============================] - 0s 7ms/step - loss: 1.0941 - mae: 1.0941\n",
            "Epoch 87/100\n",
            "1/1 [==============================] - 0s 7ms/step - loss: 1.0488 - mae: 1.0488\n",
            "Epoch 88/100\n",
            "1/1 [==============================] - 0s 7ms/step - loss: 1.0954 - mae: 1.0954\n",
            "Epoch 89/100\n",
            "1/1 [==============================] - 0s 9ms/step - loss: 1.0540 - mae: 1.0540\n",
            "Epoch 90/100\n",
            "1/1 [==============================] - 0s 7ms/step - loss: 1.0569 - mae: 1.0569\n",
            "Epoch 91/100\n",
            "1/1 [==============================] - 0s 8ms/step - loss: 1.0766 - mae: 1.0766\n",
            "Epoch 92/100\n",
            "1/1 [==============================] - 0s 7ms/step - loss: 1.0137 - mae: 1.0137\n",
            "Epoch 93/100\n",
            "1/1 [==============================] - 0s 7ms/step - loss: 1.0423 - mae: 1.0423\n",
            "Epoch 94/100\n",
            "1/1 [==============================] - 0s 7ms/step - loss: 1.0168 - mae: 1.0168\n",
            "Epoch 95/100\n",
            "1/1 [==============================] - 0s 7ms/step - loss: 1.0147 - mae: 1.0147\n",
            "Epoch 96/100\n",
            "1/1 [==============================] - 0s 7ms/step - loss: 1.0450 - mae: 1.0450\n",
            "Epoch 97/100\n",
            "1/1 [==============================] - 0s 8ms/step - loss: 1.0168 - mae: 1.0168\n",
            "Epoch 98/100\n",
            "1/1 [==============================] - 0s 7ms/step - loss: 1.0399 - mae: 1.0399\n",
            "Epoch 99/100\n",
            "1/1 [==============================] - 0s 7ms/step - loss: 1.0174 - mae: 1.0174\n",
            "Epoch 100/100\n",
            "1/1 [==============================] - 0s 6ms/step - loss: 1.0329 - mae: 1.0329\n"
          ]
        },
        {
          "output_type": "execute_result",
          "data": {
            "text/plain": [
              "<keras.src.callbacks.History at 0x7b0415e34f40>"
            ]
          },
          "metadata": {},
          "execution_count": 14
        }
      ]
    },
    {
      "cell_type": "code",
      "source": [
        "model.predict([7.0])"
      ],
      "metadata": {
        "colab": {
          "base_uri": "https://localhost:8080/"
        },
        "id": "davILh61Tb5h",
        "outputId": "ec6a0eba-ada6-4e02-da10-adb456c4e0e0"
      },
      "execution_count": null,
      "outputs": [
        {
          "output_type": "stream",
          "name": "stdout",
          "text": [
            "1/1 [==============================] - 0s 53ms/step\n"
          ]
        },
        {
          "output_type": "execute_result",
          "data": {
            "text/plain": [
              "array([[16.638397]], dtype=float32)"
            ]
          },
          "metadata": {},
          "execution_count": 15
        }
      ]
    },
    {
      "cell_type": "markdown",
      "source": [
        "#### Evaluating the model"
      ],
      "metadata": {
        "id": "ywsI417fUH0x"
      }
    },
    {
      "cell_type": "code",
      "source": [
        "x = tf.range(-100, 100, 4)\n",
        "x"
      ],
      "metadata": {
        "colab": {
          "base_uri": "https://localhost:8080/"
        },
        "id": "mZDSUP-jUKVy",
        "outputId": "43718ad5-ac6c-4ad4-bddb-ec27090abeaa"
      },
      "execution_count": null,
      "outputs": [
        {
          "output_type": "execute_result",
          "data": {
            "text/plain": [
              "<tf.Tensor: shape=(50,), dtype=int32, numpy=\n",
              "array([-100,  -96,  -92,  -88,  -84,  -80,  -76,  -72,  -68,  -64,  -60,\n",
              "        -56,  -52,  -48,  -44,  -40,  -36,  -32,  -28,  -24,  -20,  -16,\n",
              "        -12,   -8,   -4,    0,    4,    8,   12,   16,   20,   24,   28,\n",
              "         32,   36,   40,   44,   48,   52,   56,   60,   64,   68,   72,\n",
              "         76,   80,   84,   88,   92,   96], dtype=int32)>"
            ]
          },
          "metadata": {},
          "execution_count": 16
        }
      ]
    },
    {
      "cell_type": "code",
      "source": [
        "# Labels for the dataset\n",
        "y = x + 10\n",
        "y"
      ],
      "metadata": {
        "colab": {
          "base_uri": "https://localhost:8080/"
        },
        "id": "IRIa-S25U-Pz",
        "outputId": "7b26d268-e6b3-4502-cc68-f352c7577709"
      },
      "execution_count": null,
      "outputs": [
        {
          "output_type": "execute_result",
          "data": {
            "text/plain": [
              "<tf.Tensor: shape=(50,), dtype=int32, numpy=\n",
              "array([-90, -86, -82, -78, -74, -70, -66, -62, -58, -54, -50, -46, -42,\n",
              "       -38, -34, -30, -26, -22, -18, -14, -10,  -6,  -2,   2,   6,  10,\n",
              "        14,  18,  22,  26,  30,  34,  38,  42,  46,  50,  54,  58,  62,\n",
              "        66,  70,  74,  78,  82,  86,  90,  94,  98, 102, 106], dtype=int32)>"
            ]
          },
          "metadata": {},
          "execution_count": 17
        }
      ]
    },
    {
      "cell_type": "code",
      "source": [
        "plt.scatter(x, y)"
      ],
      "metadata": {
        "colab": {
          "base_uri": "https://localhost:8080/",
          "height": 447
        },
        "id": "_0u4SWvaVJmu",
        "outputId": "e682ca56-c3f9-45d6-e7b0-d24eb1a7e4ab"
      },
      "execution_count": null,
      "outputs": [
        {
          "output_type": "execute_result",
          "data": {
            "text/plain": [
              "<matplotlib.collections.PathCollection at 0x7b0415f15f90>"
            ]
          },
          "metadata": {},
          "execution_count": 18
        },
        {
          "output_type": "display_data",
          "data": {
            "text/plain": [
              "<Figure size 640x480 with 1 Axes>"
            ],
            "image/png": "[encoded data removed]"
          },
          "metadata": {}
        }
      ]
    },
    {
      "cell_type": "code",
      "source": [
        "len(x)"
      ],
      "metadata": {
        "colab": {
          "base_uri": "https://localhost:8080/"
        },
        "id": "CGc3nhudE8sT",
        "outputId": "75e7d932-f7ea-4802-aca9-0b250ae86928"
      },
      "execution_count": null,
      "outputs": [
        {
          "output_type": "execute_result",
          "data": {
            "text/plain": [
              "50"
            ]
          },
          "metadata": {},
          "execution_count": 19
        }
      ]
    },
    {
      "cell_type": "code",
      "source": [
        "x_train = x[:40] # First 40 training(80 %)\n",
        "y_train = y[:40]\n",
        "x_test = x[40:]  # Last 10 are testing(20 %)\n",
        "y_test = y[40:]"
      ],
      "metadata": {
        "id": "O5ZpcubNFFPV"
      },
      "execution_count": null,
      "outputs": []
    },
    {
      "cell_type": "code",
      "source": [
        "plt.figure(figsize = (5, 5))\n",
        "plt.scatter(x_train, y_train, c = 'b', label = 'Training data')\n",
        "plt.scatter(x_test, y_test, c = 'g', label = 'Testing data')\n",
        "plt.legend()"
      ],
      "metadata": {
        "colab": {
          "base_uri": "https://localhost:8080/",
          "height": 462
        },
        "id": "SZCdHcNxH6hM",
        "outputId": "539d41b5-89e8-4c24-c266-1736529a44cb"
      },
      "execution_count": null,
      "outputs": [
        {
          "output_type": "execute_result",
          "data": {
            "text/plain": [
              "<matplotlib.legend.Legend at 0x7b0414b02b90>"
            ]
          },
          "metadata": {},
          "execution_count": 21
        },
        {
          "output_type": "display_data",
          "data": {
            "text/plain": [
              "<Figure size 500x500 with 1 Axes>"
            ],
            "image/png": "[encoded data removed]"
          },
          "metadata": {}
        }
      ]
    },
    {
      "cell_type": "code",
      "source": [
        "model = tf.keras.Sequential([\n",
        "    tf.keras.layers.Dense(1)\n",
        "])\n",
        "\n",
        "model.compile(\n",
        "    loss = tf.keras.losses.mae,\n",
        "    optimizer = tf.keras.optimizers.SGD(),\n",
        "    metrics = ['mae'],\n",
        ")\n",
        "\n",
        "model.fit(tf.expand_dims(x_train, axis = -1), y_train, epochs = 100)"
      ],
      "metadata": {
        "colab": {
          "base_uri": "https://localhost:8080/"
        },
        "id": "hEZiVx-TIoUP",
        "outputId": "50ab3d56-7497-43db-ee54-652a266793a7"
      },
      "execution_count": null,
      "outputs": [
        {
          "output_type": "stream",
          "name": "stdout",
          "text": [
            "Epoch 1/100\n",
            "2/2 [==============================] - 0s 6ms/step - loss: 90.3801 - mae: 90.3801\n",
            "Epoch 2/100\n",
            "2/2 [==============================] - 0s 6ms/step - loss: 54.9247 - mae: 54.9247\n",
            "Epoch 3/100\n",
            "2/2 [==============================] - 0s 5ms/step - loss: 18.6806 - mae: 18.6806\n",
            "Epoch 4/100\n",
            "2/2 [==============================] - 0s 5ms/step - loss: 10.1976 - mae: 10.1976\n",
            "Epoch 5/100\n",
            "2/2 [==============================] - 0s 5ms/step - loss: 11.1983 - mae: 11.1983\n",
            "Epoch 6/100\n",
            "2/2 [==============================] - 0s 5ms/step - loss: 10.3409 - mae: 10.3409\n",
            "Epoch 7/100\n",
            "2/2 [==============================] - 0s 5ms/step - loss: 9.3350 - mae: 9.3350\n",
            "Epoch 8/100\n",
            "2/2 [==============================] - 0s 5ms/step - loss: 9.2344 - mae: 9.2344\n",
            "Epoch 9/100\n",
            "2/2 [==============================] - 0s 8ms/step - loss: 11.8991 - mae: 11.8991\n",
            "Epoch 10/100\n",
            "2/2 [==============================] - 0s 6ms/step - loss: 13.8459 - mae: 13.8459\n",
            "Epoch 11/100\n",
            "2/2 [==============================] - 0s 6ms/step - loss: 11.9571 - mae: 11.9571\n",
            "Epoch 12/100\n",
            "2/2 [==============================] - 0s 7ms/step - loss: 16.2372 - mae: 16.2372\n",
            "Epoch 13/100\n",
            "2/2 [==============================] - 0s 6ms/step - loss: 11.8315 - mae: 11.8315\n",
            "Epoch 14/100\n",
            "2/2 [==============================] - 0s 6ms/step - loss: 13.7158 - mae: 13.7158\n",
            "Epoch 15/100\n",
            "2/2 [==============================] - 0s 5ms/step - loss: 11.0969 - mae: 11.0969\n",
            "Epoch 16/100\n",
            "2/2 [==============================] - 0s 6ms/step - loss: 8.6607 - mae: 8.6607\n",
            "Epoch 17/100\n",
            "2/2 [==============================] - 0s 5ms/step - loss: 13.8884 - mae: 13.8884\n",
            "Epoch 18/100\n",
            "2/2 [==============================] - 0s 5ms/step - loss: 11.7734 - mae: 11.7734\n",
            "Epoch 19/100\n",
            "2/2 [==============================] - 0s 6ms/step - loss: 17.5888 - mae: 17.5888\n",
            "Epoch 20/100\n",
            "2/2 [==============================] - 0s 5ms/step - loss: 14.7259 - mae: 14.7259\n",
            "Epoch 21/100\n",
            "2/2 [==============================] - 0s 5ms/step - loss: 10.6710 - mae: 10.6710\n",
            "Epoch 22/100\n",
            "2/2 [==============================] - 0s 5ms/step - loss: 8.3996 - mae: 8.3996\n",
            "Epoch 23/100\n",
            "2/2 [==============================] - 0s 5ms/step - loss: 9.9234 - mae: 9.9234\n",
            "Epoch 24/100\n",
            "2/2 [==============================] - 0s 5ms/step - loss: 15.8432 - mae: 15.8432\n",
            "Epoch 25/100\n",
            "2/2 [==============================] - 0s 7ms/step - loss: 12.2579 - mae: 12.2579\n",
            "Epoch 26/100\n",
            "2/2 [==============================] - 0s 5ms/step - loss: 13.4085 - mae: 13.4085\n",
            "Epoch 27/100\n",
            "2/2 [==============================] - 0s 5ms/step - loss: 10.8203 - mae: 10.8203\n",
            "Epoch 28/100\n",
            "2/2 [==============================] - 0s 6ms/step - loss: 13.1135 - mae: 13.1135\n",
            "Epoch 29/100\n",
            "2/2 [==============================] - 0s 5ms/step - loss: 9.5755 - mae: 9.5755\n",
            "Epoch 30/100\n",
            "2/2 [==============================] - 0s 6ms/step - loss: 16.7486 - mae: 16.7486\n",
            "Epoch 31/100\n",
            "2/2 [==============================] - 0s 6ms/step - loss: 23.2922 - mae: 23.2922\n",
            "Epoch 32/100\n",
            "2/2 [==============================] - 0s 5ms/step - loss: 7.3382 - mae: 7.3382\n",
            "Epoch 33/100\n",
            "2/2 [==============================] - 0s 5ms/step - loss: 10.4548 - mae: 10.4548\n",
            "Epoch 34/100\n",
            "2/2 [==============================] - 0s 5ms/step - loss: 9.7310 - mae: 9.7310\n",
            "Epoch 35/100\n",
            "2/2 [==============================] - 0s 6ms/step - loss: 8.4252 - mae: 8.4252\n",
            "Epoch 36/100\n",
            "2/2 [==============================] - 0s 5ms/step - loss: 8.5800 - mae: 8.5800\n",
            "Epoch 37/100\n",
            "2/2 [==============================] - 0s 6ms/step - loss: 8.6299 - mae: 8.6299\n",
            "Epoch 38/100\n",
            "2/2 [==============================] - 0s 6ms/step - loss: 9.2697 - mae: 9.2697\n",
            "Epoch 39/100\n",
            "2/2 [==============================] - 0s 7ms/step - loss: 10.1911 - mae: 10.1911\n",
            "Epoch 40/100\n",
            "2/2 [==============================] - 0s 6ms/step - loss: 9.7087 - mae: 9.7087\n",
            "Epoch 41/100\n",
            "2/2 [==============================] - 0s 6ms/step - loss: 8.0580 - mae: 8.0580\n",
            "Epoch 42/100\n",
            "2/2 [==============================] - 0s 6ms/step - loss: 10.5109 - mae: 10.5109\n",
            "Epoch 43/100\n",
            "2/2 [==============================] - 0s 5ms/step - loss: 7.5521 - mae: 7.5521\n",
            "Epoch 44/100\n",
            "2/2 [==============================] - 0s 5ms/step - loss: 18.7898 - mae: 18.7898\n",
            "Epoch 45/100\n",
            "2/2 [==============================] - 0s 7ms/step - loss: 14.6815 - mae: 14.6815\n",
            "Epoch 46/100\n",
            "2/2 [==============================] - 0s 5ms/step - loss: 8.8793 - mae: 8.8793\n",
            "Epoch 47/100\n",
            "2/2 [==============================] - 0s 5ms/step - loss: 9.4052 - mae: 9.4052\n",
            "Epoch 48/100\n",
            "2/2 [==============================] - 0s 4ms/step - loss: 11.0180 - mae: 11.0180\n",
            "Epoch 49/100\n",
            "2/2 [==============================] - 0s 5ms/step - loss: 7.9890 - mae: 7.9890\n",
            "Epoch 50/100\n",
            "2/2 [==============================] - 0s 5ms/step - loss: 9.9063 - mae: 9.9063\n",
            "Epoch 51/100\n",
            "2/2 [==============================] - 0s 5ms/step - loss: 9.2516 - mae: 9.2516\n",
            "Epoch 52/100\n",
            "2/2 [==============================] - 0s 5ms/step - loss: 17.1300 - mae: 17.1300\n",
            "Epoch 53/100\n",
            "2/2 [==============================] - 0s 5ms/step - loss: 13.8074 - mae: 13.8074\n",
            "Epoch 54/100\n",
            "2/2 [==============================] - 0s 5ms/step - loss: 20.2851 - mae: 20.2851\n",
            "Epoch 55/100\n",
            "2/2 [==============================] - 0s 5ms/step - loss: 17.0340 - mae: 17.0340\n",
            "Epoch 56/100\n",
            "2/2 [==============================] - 0s 5ms/step - loss: 9.8810 - mae: 9.8810\n",
            "Epoch 57/100\n",
            "2/2 [==============================] - 0s 4ms/step - loss: 9.6782 - mae: 9.6782\n",
            "Epoch 58/100\n",
            "2/2 [==============================] - 0s 5ms/step - loss: 8.9980 - mae: 8.9980\n",
            "Epoch 59/100\n",
            "2/2 [==============================] - 0s 5ms/step - loss: 10.2073 - mae: 10.2073\n",
            "Epoch 60/100\n",
            "2/2 [==============================] - 0s 4ms/step - loss: 8.4374 - mae: 8.4374\n",
            "Epoch 61/100\n",
            "2/2 [==============================] - 0s 5ms/step - loss: 9.2740 - mae: 9.2740\n",
            "Epoch 62/100\n",
            "2/2 [==============================] - 0s 5ms/step - loss: 7.0945 - mae: 7.0945\n",
            "Epoch 63/100\n",
            "2/2 [==============================] - 0s 5ms/step - loss: 8.6749 - mae: 8.6749\n",
            "Epoch 64/100\n",
            "2/2 [==============================] - 0s 5ms/step - loss: 9.2519 - mae: 9.2519\n",
            "Epoch 65/100\n",
            "2/2 [==============================] - 0s 5ms/step - loss: 10.5174 - mae: 10.5174\n",
            "Epoch 66/100\n",
            "2/2 [==============================] - 0s 5ms/step - loss: 15.6412 - mae: 15.6412\n",
            "Epoch 67/100\n",
            "2/2 [==============================] - 0s 4ms/step - loss: 10.0436 - mae: 10.0436\n",
            "Epoch 68/100\n",
            "2/2 [==============================] - 0s 4ms/step - loss: 8.7513 - mae: 8.7513\n",
            "Epoch 69/100\n",
            "2/2 [==============================] - 0s 5ms/step - loss: 13.5203 - mae: 13.5203\n",
            "Epoch 70/100\n",
            "2/2 [==============================] - 0s 5ms/step - loss: 7.4966 - mae: 7.4966\n",
            "Epoch 71/100\n",
            "2/2 [==============================] - 0s 5ms/step - loss: 12.2442 - mae: 12.2442\n",
            "Epoch 72/100\n",
            "2/2 [==============================] - 0s 4ms/step - loss: 8.5642 - mae: 8.5642\n",
            "Epoch 73/100\n",
            "2/2 [==============================] - 0s 5ms/step - loss: 7.0668 - mae: 7.0668\n",
            "Epoch 74/100\n",
            "2/2 [==============================] - 0s 4ms/step - loss: 9.9646 - mae: 9.9646\n",
            "Epoch 75/100\n",
            "2/2 [==============================] - 0s 5ms/step - loss: 9.9569 - mae: 9.9569\n",
            "Epoch 76/100\n",
            "2/2 [==============================] - 0s 5ms/step - loss: 10.1249 - mae: 10.1249\n",
            "Epoch 77/100\n",
            "2/2 [==============================] - 0s 5ms/step - loss: 12.9622 - mae: 12.9622\n",
            "Epoch 78/100\n",
            "2/2 [==============================] - 0s 5ms/step - loss: 11.1770 - mae: 11.1770\n",
            "Epoch 79/100\n",
            "2/2 [==============================] - 0s 4ms/step - loss: 14.7315 - mae: 14.7315\n",
            "Epoch 80/100\n",
            "2/2 [==============================] - 0s 5ms/step - loss: 8.9454 - mae: 8.9454\n",
            "Epoch 81/100\n",
            "2/2 [==============================] - 0s 4ms/step - loss: 10.7859 - mae: 10.7859\n",
            "Epoch 82/100\n",
            "2/2 [==============================] - 0s 4ms/step - loss: 8.4222 - mae: 8.4222\n",
            "Epoch 83/100\n",
            "2/2 [==============================] - 0s 4ms/step - loss: 9.2429 - mae: 9.2429\n",
            "Epoch 84/100\n",
            "2/2 [==============================] - 0s 4ms/step - loss: 8.9660 - mae: 8.9660\n",
            "Epoch 85/100\n",
            "2/2 [==============================] - 0s 5ms/step - loss: 13.1975 - mae: 13.1975\n",
            "Epoch 86/100\n",
            "2/2 [==============================] - 0s 5ms/step - loss: 13.7304 - mae: 13.7304\n",
            "Epoch 87/100\n",
            "2/2 [==============================] - 0s 5ms/step - loss: 13.2154 - mae: 13.2154\n",
            "Epoch 88/100\n",
            "2/2 [==============================] - 0s 6ms/step - loss: 11.5443 - mae: 11.5443\n",
            "Epoch 89/100\n",
            "2/2 [==============================] - 0s 6ms/step - loss: 7.8323 - mae: 7.8323\n",
            "Epoch 90/100\n",
            "2/2 [==============================] - 0s 5ms/step - loss: 10.9611 - mae: 10.9611\n",
            "Epoch 91/100\n",
            "2/2 [==============================] - 0s 5ms/step - loss: 6.7763 - mae: 6.7763\n",
            "Epoch 92/100\n",
            "2/2 [==============================] - 0s 5ms/step - loss: 10.1540 - mae: 10.1540\n",
            "Epoch 93/100\n",
            "2/2 [==============================] - 0s 5ms/step - loss: 7.6281 - mae: 7.6281\n",
            "Epoch 94/100\n",
            "2/2 [==============================] - 0s 5ms/step - loss: 9.2614 - mae: 9.2614\n",
            "Epoch 95/100\n",
            "2/2 [==============================] - 0s 5ms/step - loss: 10.8474 - mae: 10.8474\n",
            "Epoch 96/100\n",
            "2/2 [==============================] - 0s 4ms/step - loss: 10.3237 - mae: 10.3237\n",
            "Epoch 97/100\n",
            "2/2 [==============================] - 0s 5ms/step - loss: 7.6984 - mae: 7.6984\n",
            "Epoch 98/100\n",
            "2/2 [==============================] - 0s 5ms/step - loss: 8.6355 - mae: 8.6355\n",
            "Epoch 99/100\n",
            "2/2 [==============================] - 0s 5ms/step - loss: 9.4140 - mae: 9.4140\n",
            "Epoch 100/100\n",
            "2/2 [==============================] - 0s 5ms/step - loss: 8.8608 - mae: 8.8608\n"
          ]
        },
        {
          "output_type": "execute_result",
          "data": {
            "text/plain": [
              "<keras.src.callbacks.History at 0x7b04149895a0>"
            ]
          },
          "metadata": {},
          "execution_count": 22
        }
      ]
    },
    {
      "cell_type": "markdown",
      "source": [
        "### Visualising the model"
      ],
      "metadata": {
        "id": "_xvGDrfHL6ry"
      }
    },
    {
      "cell_type": "code",
      "source": [
        "# Build model which gets automatically built by defining the input shape in the first layer\n",
        "tf.random.set_seed(42);\n",
        "\n",
        "model = tf.keras.Sequential([\n",
        "    tf.keras.layers.Dense(10, input_shape = [1], name = \"input-layer\"),\n",
        "    tf.keras.layers.Dense(1, name = \"output-layer\"),\n",
        "])\n",
        "\n",
        "model.compile(\n",
        "     loss = tf.keras.losses.mae,\n",
        "     optimizer = tf.keras.optimizers.SGD(),\n",
        "     metrics = ['mae'],\n",
        ")\n",
        "\n",
        "model.summary()"
      ],
      "metadata": {
        "colab": {
          "base_uri": "https://localhost:8080/"
        },
        "id": "VNTJTiOPL9np",
        "outputId": "7d89dc66-7a18-4f3b-f735-d1c447f7cb3e"
      },
      "execution_count": null,
      "outputs": [
        {
          "output_type": "stream",
          "name": "stdout",
          "text": [
            "Model: \"sequential_5\"\n",
            "_________________________________________________________________\n",
            " Layer (type)                Output Shape              Param #   \n",
            "=================================================================\n",
            " input-layer (Dense)         (None, 10)                20        \n",
            "                                                                 \n",
            " output-layer (Dense)        (None, 1)                 11        \n",
            "                                                                 \n",
            "=================================================================\n",
            "Total params: 31 (124.00 Byte)\n",
            "Trainable params: 31 (124.00 Byte)\n",
            "Non-trainable params: 0 (0.00 Byte)\n",
            "_________________________________________________________________\n"
          ]
        }
      ]
    },
    {
      "cell_type": "code",
      "source": [
        "model.fit(tf.expand_dims(x_train, axis = -1), y_train, epochs = 100, verbose = 0)"
      ],
      "metadata": {
        "colab": {
          "base_uri": "https://localhost:8080/"
        },
        "id": "SagVhK-GODal",
        "outputId": "cea26aff-3c33-4ff1-dd55-3a416468ccbe"
      },
      "execution_count": null,
      "outputs": [
        {
          "output_type": "execute_result",
          "data": {
            "text/plain": [
              "<keras.src.callbacks.History at 0x7b0414829060>"
            ]
          },
          "metadata": {},
          "execution_count": 24
        }
      ]
    },
    {
      "cell_type": "code",
      "source": [
        "model.summary()"
      ],
      "metadata": {
        "id": "PweAW3QTTE2t",
        "colab": {
          "base_uri": "https://localhost:8080/"
        },
        "outputId": "e9781bed-fa8c-4696-8fd0-ed044ffe7528"
      },
      "execution_count": null,
      "outputs": [
        {
          "output_type": "stream",
          "name": "stdout",
          "text": [
            "Model: \"sequential_5\"\n",
            "_________________________________________________________________\n",
            " Layer (type)                Output Shape              Param #   \n",
            "=================================================================\n",
            " input-layer (Dense)         (None, 10)                20        \n",
            "                                                                 \n",
            " output-layer (Dense)        (None, 1)                 11        \n",
            "                                                                 \n",
            "=================================================================\n",
            "Total params: 31 (124.00 Byte)\n",
            "Trainable params: 31 (124.00 Byte)\n",
            "Non-trainable params: 0 (0.00 Byte)\n",
            "_________________________________________________________________\n"
          ]
        }
      ]
    },
    {
      "cell_type": "code",
      "source": [
        "from tensorflow.keras.utils import plot_model\n",
        "\n",
        "plot_model(model = model, show_shapes = True)"
      ],
      "metadata": {
        "colab": {
          "base_uri": "https://localhost:8080/",
          "height": 312
        },
        "id": "KPEzJmoPhy-T",
        "outputId": "43cfdd47-06d2-4f5d-b815-da2baa289ddc"
      },
      "execution_count": null,
      "outputs": [
        {
          "output_type": "execute_result",
          "data": {
            "image/png": "[encoded data removed]",
            "text/plain": [
              "<IPython.core.display.Image object>"
            ]
          },
          "metadata": {},
          "execution_count": 26
        }
      ]
    },
    {
      "cell_type": "code",
      "source": [
        "y_pred = model.predict(x_test)\n",
        "y_pred"
      ],
      "metadata": {
        "id": "qhOg0UI1ipft",
        "colab": {
          "base_uri": "https://localhost:8080/"
        },
        "outputId": "3e01df73-087c-4487-f01c-5676e51a93d7"
      },
      "execution_count": null,
      "outputs": [
        {
          "output_type": "stream",
          "name": "stderr",
          "text": [
            "WARNING:tensorflow:5 out of the last 5 calls to <function Model.make_predict_function.<locals>.predict_function at 0x7b041a743880> triggered tf.function retracing. Tracing is expensive and the excessive number of tracings could be due to (1) creating @tf.function repeatedly in a loop, (2) passing tensors with different shapes, (3) passing Python objects instead of tensors. For (1), please define your @tf.function outside of the loop. For (2), @tf.function has reduce_retracing=True option that can avoid unnecessary retracing. For (3), please refer to https://www.tensorflow.org/guide/function#controlling_retracing and https://www.tensorflow.org/api_docs/python/tf/function for  more details.\n"
          ]
        },
        {
          "output_type": "stream",
          "name": "stdout",
          "text": [
            "1/1 [==============================] - 0s 39ms/step\n"
          ]
        },
        {
          "output_type": "execute_result",
          "data": {
            "text/plain": [
              "array([[ 91.28958 ],\n",
              "       [ 97.250595],\n",
              "       [103.2116  ],\n",
              "       [109.172615],\n",
              "       [115.13362 ],\n",
              "       [121.094635],\n",
              "       [127.05565 ],\n",
              "       [133.01666 ],\n",
              "       [138.97768 ],\n",
              "       [144.93869 ]], dtype=float32)"
            ]
          },
          "metadata": {},
          "execution_count": 27
        }
      ]
    },
    {
      "cell_type": "code",
      "source": [
        "y_test"
      ],
      "metadata": {
        "colab": {
          "base_uri": "https://localhost:8080/"
        },
        "id": "nGH7EWOHgQNG",
        "outputId": "e14cac62-b386-4ca1-9f4b-14f1ae5461b9"
      },
      "execution_count": null,
      "outputs": [
        {
          "output_type": "execute_result",
          "data": {
            "text/plain": [
              "<tf.Tensor: shape=(10,), dtype=int32, numpy=array([ 70,  74,  78,  82,  86,  90,  94,  98, 102, 106], dtype=int32)>"
            ]
          },
          "metadata": {},
          "execution_count": 28
        }
      ]
    },
    {
      "cell_type": "code",
      "source": [
        "# Creating a plotting function\n",
        "def plot_predictions(train_data = x_train,\n",
        "                      train_labels = y_train,\n",
        "                      test_data = x_test,\n",
        "                      test_labels = y_test,\n",
        "                      predictions = y_pred):\n",
        "   plt.figure(figsize = (5, 5))\n",
        "   plt.scatter(train_data, train_labels, c = 'b', label = 'Training data')\n",
        "   plt.scatter(test_data, test_labels, c = 'g', label = 'Testing data')\n",
        "   plt.scatter(test_data, predictions, c = 'r', label = 'Predicted data')\n",
        "   plt.legend();\n"
      ],
      "metadata": {
        "id": "928BSVXOgVVm"
      },
      "execution_count": null,
      "outputs": []
    },
    {
      "cell_type": "code",
      "source": [
        "plot_predictions()"
      ],
      "metadata": {
        "colab": {
          "base_uri": "https://localhost:8080/",
          "height": 445
        },
        "id": "YYFVSeffhc_N",
        "outputId": "d882251e-4144-4dec-bcb3-a4aa89821c7d"
      },
      "execution_count": null,
      "outputs": [
        {
          "output_type": "display_data",
          "data": {
            "text/plain": [
              "<Figure size 500x500 with 1 Axes>"
            ],
            "image/png": "[encoded data removed]"
          },
          "metadata": {}
        }
      ]
    },
    {
      "cell_type": "code",
      "source": [
        "\n",
        "def mae(y_test, y_pred):\n",
        "  \"\"\"\n",
        "  Calculuates mean absolute error between y_test and y_preds.\n",
        "  \"\"\"\n",
        "  return tf.metrics.mean_absolute_error(y_test,\n",
        "                                        y_pred)\n",
        "\n",
        "def mse(y_test, y_pred):\n",
        "  \"\"\"\n",
        "  Calculates mean squared error between y_test and y_preds.\n",
        "  \"\"\"\n",
        "  return tf.metrics.mean_squared_error(y_test,\n",
        "                                       y_pred)"
      ],
      "metadata": {
        "id": "KJsAgNwdqw9C"
      },
      "execution_count": null,
      "outputs": []
    },
    {
      "cell_type": "code",
      "source": [
        "x_train, y_train"
      ],
      "metadata": {
        "colab": {
          "base_uri": "https://localhost:8080/"
        },
        "id": "GMY8SJlxBf0_",
        "outputId": "52622da1-be43-4ecb-e358-fc26ed176bb7"
      },
      "execution_count": null,
      "outputs": [
        {
          "output_type": "execute_result",
          "data": {
            "text/plain": [
              "(<tf.Tensor: shape=(40,), dtype=int32, numpy=\n",
              " array([-100,  -96,  -92,  -88,  -84,  -80,  -76,  -72,  -68,  -64,  -60,\n",
              "         -56,  -52,  -48,  -44,  -40,  -36,  -32,  -28,  -24,  -20,  -16,\n",
              "         -12,   -8,   -4,    0,    4,    8,   12,   16,   20,   24,   28,\n",
              "          32,   36,   40,   44,   48,   52,   56], dtype=int32)>,\n",
              " <tf.Tensor: shape=(40,), dtype=int32, numpy=\n",
              " array([-90, -86, -82, -78, -74, -70, -66, -62, -58, -54, -50, -46, -42,\n",
              "        -38, -34, -30, -26, -22, -18, -14, -10,  -6,  -2,   2,   6,  10,\n",
              "         14,  18,  22,  26,  30,  34,  38,  42,  46,  50,  54,  58,  62,\n",
              "         66], dtype=int32)>)"
            ]
          },
          "metadata": {},
          "execution_count": 32
        }
      ]
    },
    {
      "cell_type": "markdown",
      "source": [
        "### Build Model 1"
      ],
      "metadata": {
        "id": "W5nXLmOrBsrq"
      }
    },
    {
      "cell_type": "code",
      "source": [
        "tf.random.set_seed(42)\n",
        "\n",
        "# Create the model\n",
        "model_1 = tf.keras.Sequential([\n",
        "    tf.keras.layers.Dense(1)\n",
        "])\n",
        "\n",
        "# Compile the model\n",
        "model_1.compile(\n",
        "    loss = tf.keras.losses.mae,\n",
        "    optimizer = tf.keras.optimizers.SGD(),\n",
        "    metrics = ['mae']\n",
        ")\n",
        "\n",
        "# Fit the model\n",
        "model_1.fit(tf.expand_dims(x_train , axis = -1), y_train, epochs = 100)"
      ],
      "metadata": {
        "colab": {
          "base_uri": "https://localhost:8080/"
        },
        "id": "QLNxFi1RBt6J",
        "outputId": "b99aaa27-7ad2-40b1-e9ca-392f34e01db4"
      },
      "execution_count": null,
      "outputs": [
        {
          "output_type": "stream",
          "name": "stdout",
          "text": [
            "Epoch 1/100\n",
            "2/2 [==============================] - 0s 8ms/step - loss: 107.5397 - mae: 107.5397\n",
            "Epoch 2/100\n",
            "2/2 [==============================] - 0s 5ms/step - loss: 72.0843 - mae: 72.0843\n",
            "Epoch 3/100\n",
            "2/2 [==============================] - 0s 6ms/step - loss: 34.5464 - mae: 34.5464\n",
            "Epoch 4/100\n",
            "2/2 [==============================] - 0s 7ms/step - loss: 9.2922 - mae: 9.2922\n",
            "Epoch 5/100\n",
            "2/2 [==============================] - 0s 7ms/step - loss: 10.1533 - mae: 10.1533\n",
            "Epoch 6/100\n",
            "2/2 [==============================] - 0s 5ms/step - loss: 9.4228 - mae: 9.4228\n",
            "Epoch 7/100\n",
            "2/2 [==============================] - 0s 5ms/step - loss: 8.5687 - mae: 8.5687\n",
            "Epoch 8/100\n",
            "2/2 [==============================] - 0s 6ms/step - loss: 9.0759 - mae: 9.0759\n",
            "Epoch 9/100\n",
            "2/2 [==============================] - 0s 6ms/step - loss: 18.6850 - mae: 18.6850\n",
            "Epoch 10/100\n",
            "2/2 [==============================] - 0s 7ms/step - loss: 10.1009 - mae: 10.1009\n",
            "Epoch 11/100\n",
            "2/2 [==============================] - 0s 6ms/step - loss: 8.4130 - mae: 8.4130\n",
            "Epoch 12/100\n",
            "2/2 [==============================] - 0s 6ms/step - loss: 10.6597 - mae: 10.6597\n",
            "Epoch 13/100\n",
            "2/2 [==============================] - 0s 12ms/step - loss: 9.8168 - mae: 9.8168\n",
            "Epoch 14/100\n",
            "2/2 [==============================] - 0s 6ms/step - loss: 15.9344 - mae: 15.9344\n",
            "Epoch 15/100\n",
            "2/2 [==============================] - 0s 5ms/step - loss: 11.5081 - mae: 11.5081\n",
            "Epoch 16/100\n",
            "2/2 [==============================] - 0s 5ms/step - loss: 8.5486 - mae: 8.5486\n",
            "Epoch 17/100\n",
            "2/2 [==============================] - 0s 6ms/step - loss: 13.6194 - mae: 13.6194\n",
            "Epoch 18/100\n",
            "2/2 [==============================] - 0s 6ms/step - loss: 11.4349 - mae: 11.4349\n",
            "Epoch 19/100\n",
            "2/2 [==============================] - 0s 6ms/step - loss: 18.0148 - mae: 18.0148\n",
            "Epoch 20/100\n",
            "2/2 [==============================] - 0s 5ms/step - loss: 15.1487 - mae: 15.1487\n",
            "Epoch 21/100\n",
            "2/2 [==============================] - 0s 6ms/step - loss: 11.1129 - mae: 11.1129\n",
            "Epoch 22/100\n",
            "2/2 [==============================] - 0s 5ms/step - loss: 8.2451 - mae: 8.2451\n",
            "Epoch 23/100\n",
            "2/2 [==============================] - 0s 6ms/step - loss: 9.5062 - mae: 9.5062\n",
            "Epoch 24/100\n",
            "2/2 [==============================] - 0s 7ms/step - loss: 7.7108 - mae: 7.7108\n",
            "Epoch 25/100\n",
            "2/2 [==============================] - 0s 7ms/step - loss: 13.1053 - mae: 13.1053\n",
            "Epoch 26/100\n",
            "2/2 [==============================] - 0s 5ms/step - loss: 16.5190 - mae: 16.5190\n",
            "Epoch 27/100\n",
            "2/2 [==============================] - 0s 6ms/step - loss: 13.2536 - mae: 13.2536\n",
            "Epoch 28/100\n",
            "2/2 [==============================] - 0s 6ms/step - loss: 14.3616 - mae: 14.3616\n",
            "Epoch 29/100\n",
            "2/2 [==============================] - 0s 5ms/step - loss: 10.1217 - mae: 10.1217\n",
            "Epoch 30/100\n",
            "2/2 [==============================] - 0s 6ms/step - loss: 16.4783 - mae: 16.4783\n",
            "Epoch 31/100\n",
            "2/2 [==============================] - 0s 7ms/step - loss: 23.5458 - mae: 23.5458\n",
            "Epoch 32/100\n",
            "2/2 [==============================] - 0s 7ms/step - loss: 7.6399 - mae: 7.6399\n",
            "Epoch 33/100\n",
            "2/2 [==============================] - 0s 7ms/step - loss: 9.3337 - mae: 9.3337\n",
            "Epoch 34/100\n",
            "2/2 [==============================] - 0s 7ms/step - loss: 13.6808 - mae: 13.6808\n",
            "Epoch 35/100\n",
            "2/2 [==============================] - 0s 7ms/step - loss: 11.2069 - mae: 11.2069\n",
            "Epoch 36/100\n",
            "2/2 [==============================] - 0s 6ms/step - loss: 13.4382 - mae: 13.4382\n",
            "Epoch 37/100\n",
            "2/2 [==============================] - 0s 7ms/step - loss: 9.4752 - mae: 9.4752\n",
            "Epoch 38/100\n",
            "2/2 [==============================] - 0s 6ms/step - loss: 10.1269 - mae: 10.1269\n",
            "Epoch 39/100\n",
            "2/2 [==============================] - 0s 5ms/step - loss: 9.0030 - mae: 9.0030\n",
            "Epoch 40/100\n",
            "2/2 [==============================] - 0s 9ms/step - loss: 9.6319 - mae: 9.6319\n",
            "Epoch 41/100\n",
            "2/2 [==============================] - 0s 9ms/step - loss: 10.5907 - mae: 10.5907\n",
            "Epoch 42/100\n",
            "2/2 [==============================] - 0s 5ms/step - loss: 10.6439 - mae: 10.6439\n",
            "Epoch 43/100\n",
            "2/2 [==============================] - 0s 5ms/step - loss: 7.2458 - mae: 7.2458\n",
            "Epoch 44/100\n",
            "2/2 [==============================] - 0s 5ms/step - loss: 8.0438 - mae: 8.0438\n",
            "Epoch 45/100\n",
            "2/2 [==============================] - 0s 6ms/step - loss: 9.8457 - mae: 9.8457\n",
            "Epoch 46/100\n",
            "2/2 [==============================] - 0s 6ms/step - loss: 8.9236 - mae: 8.9236\n",
            "Epoch 47/100\n",
            "2/2 [==============================] - 0s 5ms/step - loss: 7.6027 - mae: 7.6027\n",
            "Epoch 48/100\n",
            "2/2 [==============================] - 0s 6ms/step - loss: 8.5741 - mae: 8.5741\n",
            "Epoch 49/100\n",
            "2/2 [==============================] - 0s 10ms/step - loss: 10.0561 - mae: 10.0561\n",
            "Epoch 50/100\n",
            "2/2 [==============================] - 0s 5ms/step - loss: 9.0211 - mae: 9.0211\n",
            "Epoch 51/100\n",
            "2/2 [==============================] - 0s 5ms/step - loss: 10.7313 - mae: 10.7313\n",
            "Epoch 52/100\n",
            "2/2 [==============================] - 0s 7ms/step - loss: 15.2970 - mae: 15.2970\n",
            "Epoch 53/100\n",
            "2/2 [==============================] - 0s 5ms/step - loss: 14.3221 - mae: 14.3221\n",
            "Epoch 54/100\n",
            "2/2 [==============================] - 0s 5ms/step - loss: 21.5774 - mae: 21.5774\n",
            "Epoch 55/100\n",
            "2/2 [==============================] - 0s 5ms/step - loss: 16.0514 - mae: 16.0514\n",
            "Epoch 56/100\n",
            "2/2 [==============================] - 0s 6ms/step - loss: 10.2808 - mae: 10.2808\n",
            "Epoch 57/100\n",
            "2/2 [==============================] - 0s 5ms/step - loss: 9.8213 - mae: 9.8213\n",
            "Epoch 58/100\n",
            "2/2 [==============================] - 0s 5ms/step - loss: 9.1056 - mae: 9.1056\n",
            "Epoch 59/100\n",
            "2/2 [==============================] - 0s 5ms/step - loss: 8.3054 - mae: 8.3054\n",
            "Epoch 60/100\n",
            "2/2 [==============================] - 0s 5ms/step - loss: 9.4027 - mae: 9.4027\n",
            "Epoch 61/100\n",
            "2/2 [==============================] - 0s 5ms/step - loss: 11.2274 - mae: 11.2274\n",
            "Epoch 62/100\n",
            "2/2 [==============================] - 0s 5ms/step - loss: 12.0687 - mae: 12.0687\n",
            "Epoch 63/100\n",
            "2/2 [==============================] - 0s 5ms/step - loss: 7.3031 - mae: 7.3031\n",
            "Epoch 64/100\n",
            "2/2 [==============================] - 0s 5ms/step - loss: 12.4803 - mae: 12.4803\n",
            "Epoch 65/100\n",
            "2/2 [==============================] - 0s 5ms/step - loss: 10.5633 - mae: 10.5633\n",
            "Epoch 66/100\n",
            "2/2 [==============================] - 0s 5ms/step - loss: 15.5990 - mae: 15.5990\n",
            "Epoch 67/100\n",
            "2/2 [==============================] - 0s 5ms/step - loss: 10.0154 - mae: 10.0154\n",
            "Epoch 68/100\n",
            "2/2 [==============================] - 0s 5ms/step - loss: 8.7432 - mae: 8.7432\n",
            "Epoch 69/100\n",
            "2/2 [==============================] - 0s 5ms/step - loss: 13.4777 - mae: 13.4777\n",
            "Epoch 70/100\n",
            "2/2 [==============================] - 0s 5ms/step - loss: 7.5035 - mae: 7.5035\n",
            "Epoch 71/100\n",
            "2/2 [==============================] - 0s 5ms/step - loss: 12.2901 - mae: 12.2901\n",
            "Epoch 72/100\n",
            "2/2 [==============================] - 0s 6ms/step - loss: 8.5443 - mae: 8.5443\n",
            "Epoch 73/100\n",
            "2/2 [==============================] - 0s 5ms/step - loss: 7.0700 - mae: 7.0700\n",
            "Epoch 74/100\n",
            "2/2 [==============================] - 0s 8ms/step - loss: 9.9236 - mae: 9.9236\n",
            "Epoch 75/100\n",
            "2/2 [==============================] - 0s 5ms/step - loss: 9.9903 - mae: 9.9903\n",
            "Epoch 76/100\n",
            "2/2 [==============================] - 0s 5ms/step - loss: 10.1515 - mae: 10.1515\n",
            "Epoch 77/100\n",
            "2/2 [==============================] - 0s 5ms/step - loss: 13.0145 - mae: 13.0145\n",
            "Epoch 78/100\n",
            "2/2 [==============================] - 0s 5ms/step - loss: 10.9249 - mae: 10.9249\n",
            "Epoch 79/100\n",
            "2/2 [==============================] - 0s 5ms/step - loss: 15.4003 - mae: 15.4003\n",
            "Epoch 80/100\n",
            "2/2 [==============================] - 0s 5ms/step - loss: 11.7618 - mae: 11.7618\n",
            "Epoch 81/100\n",
            "2/2 [==============================] - 0s 5ms/step - loss: 9.2784 - mae: 9.2784\n",
            "Epoch 82/100\n",
            "2/2 [==============================] - 0s 5ms/step - loss: 12.7553 - mae: 12.7553\n",
            "Epoch 83/100\n",
            "2/2 [==============================] - 0s 5ms/step - loss: 8.3135 - mae: 8.3135\n",
            "Epoch 84/100\n",
            "2/2 [==============================] - 0s 5ms/step - loss: 7.3378 - mae: 7.3378\n",
            "Epoch 85/100\n",
            "2/2 [==============================] - 0s 5ms/step - loss: 10.4952 - mae: 10.4952\n",
            "Epoch 86/100\n",
            "2/2 [==============================] - 0s 5ms/step - loss: 9.1692 - mae: 9.1692\n",
            "Epoch 87/100\n",
            "2/2 [==============================] - 0s 5ms/step - loss: 11.8763 - mae: 11.8763\n",
            "Epoch 88/100\n",
            "2/2 [==============================] - 0s 5ms/step - loss: 10.4876 - mae: 10.4876\n",
            "Epoch 89/100\n",
            "2/2 [==============================] - 0s 5ms/step - loss: 7.0021 - mae: 7.0021\n",
            "Epoch 90/100\n",
            "2/2 [==============================] - 0s 5ms/step - loss: 13.8106 - mae: 13.8106\n",
            "Epoch 91/100\n",
            "2/2 [==============================] - 0s 5ms/step - loss: 7.8967 - mae: 7.8967\n",
            "Epoch 92/100\n",
            "2/2 [==============================] - 0s 5ms/step - loss: 7.9440 - mae: 7.9440\n",
            "Epoch 93/100\n",
            "2/2 [==============================] - 0s 5ms/step - loss: 9.4399 - mae: 9.4399\n",
            "Epoch 94/100\n",
            "2/2 [==============================] - 0s 5ms/step - loss: 8.7610 - mae: 8.7610\n",
            "Epoch 95/100\n",
            "2/2 [==============================] - 0s 9ms/step - loss: 9.8767 - mae: 9.8767\n",
            "Epoch 96/100\n",
            "2/2 [==============================] - 0s 8ms/step - loss: 7.3739 - mae: 7.3739\n",
            "Epoch 97/100\n",
            "2/2 [==============================] - 0s 6ms/step - loss: 6.8879 - mae: 6.8879\n",
            "Epoch 98/100\n",
            "2/2 [==============================] - 0s 5ms/step - loss: 7.2818 - mae: 7.2818\n",
            "Epoch 99/100\n",
            "2/2 [==============================] - 0s 6ms/step - loss: 7.4332 - mae: 7.4332\n",
            "Epoch 100/100\n",
            "2/2 [==============================] - 0s 5ms/step - loss: 11.1361 - mae: 11.1361\n"
          ]
        },
        {
          "output_type": "execute_result",
          "data": {
            "text/plain": [
              "<keras.src.callbacks.History at 0x7b04148120e0>"
            ]
          },
          "metadata": {},
          "execution_count": 36
        }
      ]
    },
    {
      "cell_type": "code",
      "source": [
        "y_pred1 = model_1.predict(x_test)"
      ],
      "metadata": {
        "colab": {
          "base_uri": "https://localhost:8080/"
        },
        "id": "nV8PyzoPCaYh",
        "outputId": "b3846a6c-5b59-4651-e393-09870a5becc2"
      },
      "execution_count": null,
      "outputs": [
        {
          "output_type": "stream",
          "name": "stderr",
          "text": [
            "WARNING:tensorflow:6 out of the last 6 calls to <function Model.make_predict_function.<locals>.predict_function at 0x7b0411086b00> triggered tf.function retracing. Tracing is expensive and the excessive number of tracings could be due to (1) creating @tf.function repeatedly in a loop, (2) passing tensors with different shapes, (3) passing Python objects instead of tensors. For (1), please define your @tf.function outside of the loop. For (2), @tf.function has reduce_retracing=True option that can avoid unnecessary retracing. For (3), please refer to https://www.tensorflow.org/guide/function#controlling_retracing and https://www.tensorflow.org/api_docs/python/tf/function for  more details.\n"
          ]
        },
        {
          "output_type": "stream",
          "name": "stdout",
          "text": [
            "1/1 [==============================] - 0s 73ms/step\n"
          ]
        }
      ]
    },
    {
      "cell_type": "code",
      "source": [
        "plot_predictions(predictions = y_pred1)"
      ],
      "metadata": {
        "colab": {
          "base_uri": "https://localhost:8080/",
          "height": 445
        },
        "id": "Pew3mmspDFOF",
        "outputId": "0847383e-8837-44d3-aebd-f4c3b29b49ed"
      },
      "execution_count": null,
      "outputs": [
        {
          "output_type": "display_data",
          "data": {
            "text/plain": [
              "<Figure size 500x500 with 1 Axes>"
            ],
            "image/png": "[encoded data removed]"
          },
          "metadata": {}
        }
      ]
    },
    {
      "cell_type": "code",
      "source": [
        "mae_1 = mae(y_test, tf.squeeze(y_pred1))\n",
        "mse_1 = mse(y_test, tf.squeeze(y_pred1))\n",
        "mae_1, mse_1"
      ],
      "metadata": {
        "colab": {
          "base_uri": "https://localhost:8080/"
        },
        "id": "QcSBuN4bDNsS",
        "outputId": "b3caacd5-4156-414f-eead-7fce82edd178"
      },
      "execution_count": null,
      "outputs": [
        {
          "output_type": "execute_result",
          "data": {
            "text/plain": [
              "(<tf.Tensor: shape=(), dtype=float32, numpy=21.373539>,\n",
              " <tf.Tensor: shape=(), dtype=float32, numpy=460.29648>)"
            ]
          },
          "metadata": {},
          "execution_count": 42
        }
      ]
    },
    {
      "cell_type": "markdown",
      "source": [
        "### Build Model 2"
      ],
      "metadata": {
        "id": "2eZEVhm8Eaze"
      }
    },
    {
      "cell_type": "code",
      "source": [
        "tf.random.set_seed(42)\n",
        "\n",
        "# Create the model\n",
        "model_2 = tf.keras.Sequential([\n",
        "    tf.keras.layers.Dense(10),\n",
        "    tf.keras.layers.Dense(1)\n",
        "])\n",
        "\n",
        "# Compile the model\n",
        "model_2.compile(\n",
        "    loss = tf.keras.losses.mae,\n",
        "    optimizer = tf.keras.optimizers.SGD(),\n",
        "    metrics = ['mae']\n",
        ")\n",
        "\n",
        "# Fit the model\n",
        "model_2.fit(tf.expand_dims(x_train , axis = -1), y_train, epochs = 100)"
      ],
      "metadata": {
        "colab": {
          "base_uri": "https://localhost:8080/"
        },
        "id": "YHX8BwJJEdOl",
        "outputId": "51b01bcf-62f0-4b8b-adb9-8ebc8a39c0a5"
      },
      "execution_count": null,
      "outputs": [
        {
          "output_type": "stream",
          "name": "stdout",
          "text": [
            "Epoch 1/100\n",
            "2/2 [==============================] - 0s 10ms/step - loss: 51.2674 - mae: 51.2674\n",
            "Epoch 2/100\n",
            "2/2 [==============================] - 0s 5ms/step - loss: 28.3324 - mae: 28.3324\n",
            "Epoch 3/100\n",
            "2/2 [==============================] - 0s 5ms/step - loss: 33.0919 - mae: 33.0919\n",
            "Epoch 4/100\n",
            "2/2 [==============================] - 0s 6ms/step - loss: 29.0896 - mae: 29.0896\n",
            "Epoch 5/100\n",
            "2/2 [==============================] - 0s 5ms/step - loss: 15.7493 - mae: 15.7493\n",
            "Epoch 6/100\n",
            "2/2 [==============================] - 0s 8ms/step - loss: 12.4779 - mae: 12.4779\n",
            "Epoch 7/100\n",
            "2/2 [==============================] - 0s 6ms/step - loss: 11.7361 - mae: 11.7361\n",
            "Epoch 8/100\n",
            "2/2 [==============================] - 0s 6ms/step - loss: 12.0925 - mae: 12.0925\n",
            "Epoch 9/100\n",
            "2/2 [==============================] - 0s 5ms/step - loss: 37.9564 - mae: 37.9564\n",
            "Epoch 10/100\n",
            "2/2 [==============================] - 0s 5ms/step - loss: 25.5521 - mae: 25.5521\n",
            "Epoch 11/100\n",
            "2/2 [==============================] - 0s 8ms/step - loss: 10.2456 - mae: 10.2456\n",
            "Epoch 12/100\n",
            "2/2 [==============================] - 0s 9ms/step - loss: 25.2983 - mae: 25.2983\n",
            "Epoch 13/100\n",
            "2/2 [==============================] - 0s 5ms/step - loss: 17.0030 - mae: 17.0030\n",
            "Epoch 14/100\n",
            "2/2 [==============================] - 0s 5ms/step - loss: 25.9528 - mae: 25.9528\n",
            "Epoch 15/100\n",
            "2/2 [==============================] - 0s 6ms/step - loss: 18.0190 - mae: 18.0190\n",
            "Epoch 16/100\n",
            "2/2 [==============================] - 0s 5ms/step - loss: 7.3479 - mae: 7.3479\n",
            "Epoch 17/100\n",
            "2/2 [==============================] - 0s 5ms/step - loss: 10.8552 - mae: 10.8552\n",
            "Epoch 18/100\n",
            "2/2 [==============================] - 0s 5ms/step - loss: 19.5166 - mae: 19.5166\n",
            "Epoch 19/100\n",
            "2/2 [==============================] - 0s 6ms/step - loss: 10.3377 - mae: 10.3377\n",
            "Epoch 20/100\n",
            "2/2 [==============================] - 0s 5ms/step - loss: 17.6860 - mae: 17.6860\n",
            "Epoch 21/100\n",
            "2/2 [==============================] - 0s 5ms/step - loss: 15.8837 - mae: 15.8837\n",
            "Epoch 22/100\n",
            "2/2 [==============================] - 0s 5ms/step - loss: 14.1787 - mae: 14.1787\n",
            "Epoch 23/100\n",
            "2/2 [==============================] - 0s 5ms/step - loss: 8.7785 - mae: 8.7785\n",
            "Epoch 24/100\n",
            "2/2 [==============================] - 0s 9ms/step - loss: 11.0648 - mae: 11.0648\n",
            "Epoch 25/100\n",
            "2/2 [==============================] - 0s 5ms/step - loss: 12.6986 - mae: 12.6986\n",
            "Epoch 26/100\n",
            "2/2 [==============================] - 0s 5ms/step - loss: 26.2428 - mae: 26.2428\n",
            "Epoch 27/100\n",
            "2/2 [==============================] - 0s 5ms/step - loss: 11.7510 - mae: 11.7510\n",
            "Epoch 28/100\n",
            "2/2 [==============================] - 0s 4ms/step - loss: 22.9324 - mae: 22.9324\n",
            "Epoch 29/100\n",
            "2/2 [==============================] - 0s 5ms/step - loss: 9.2416 - mae: 9.2416\n",
            "Epoch 30/100\n",
            "2/2 [==============================] - 0s 4ms/step - loss: 29.3207 - mae: 29.3207\n",
            "Epoch 31/100\n",
            "2/2 [==============================] - 0s 5ms/step - loss: 53.1304 - mae: 53.1304\n",
            "Epoch 32/100\n",
            "2/2 [==============================] - 0s 5ms/step - loss: 12.3731 - mae: 12.3731\n",
            "Epoch 33/100\n",
            "2/2 [==============================] - 0s 5ms/step - loss: 12.1837 - mae: 12.1837\n",
            "Epoch 34/100\n",
            "2/2 [==============================] - 0s 5ms/step - loss: 23.9633 - mae: 23.9633\n",
            "Epoch 35/100\n",
            "2/2 [==============================] - 0s 6ms/step - loss: 12.6184 - mae: 12.6184\n",
            "Epoch 36/100\n",
            "2/2 [==============================] - 0s 5ms/step - loss: 21.5167 - mae: 21.5167\n",
            "Epoch 37/100\n",
            "2/2 [==============================] - 0s 5ms/step - loss: 11.3954 - mae: 11.3954\n",
            "Epoch 38/100\n",
            "2/2 [==============================] - 0s 4ms/step - loss: 13.4845 - mae: 13.4845\n",
            "Epoch 39/100\n",
            "2/2 [==============================] - 0s 5ms/step - loss: 10.8033 - mae: 10.8033\n",
            "Epoch 40/100\n",
            "2/2 [==============================] - 0s 4ms/step - loss: 16.6219 - mae: 16.6219\n",
            "Epoch 41/100\n",
            "2/2 [==============================] - 0s 5ms/step - loss: 10.9884 - mae: 10.9884\n",
            "Epoch 42/100\n",
            "2/2 [==============================] - 0s 5ms/step - loss: 9.3121 - mae: 9.3121\n",
            "Epoch 43/100\n",
            "2/2 [==============================] - 0s 5ms/step - loss: 9.5995 - mae: 9.5995\n",
            "Epoch 44/100\n",
            "2/2 [==============================] - 0s 5ms/step - loss: 28.0171 - mae: 28.0171\n",
            "Epoch 45/100\n",
            "2/2 [==============================] - 0s 5ms/step - loss: 11.2958 - mae: 11.2958\n",
            "Epoch 46/100\n",
            "2/2 [==============================] - 0s 5ms/step - loss: 14.0853 - mae: 14.0853\n",
            "Epoch 47/100\n",
            "2/2 [==============================] - 0s 5ms/step - loss: 13.4996 - mae: 13.4996\n",
            "Epoch 48/100\n",
            "2/2 [==============================] - 0s 5ms/step - loss: 17.3353 - mae: 17.3353\n",
            "Epoch 49/100\n",
            "2/2 [==============================] - 0s 6ms/step - loss: 9.5237 - mae: 9.5237\n",
            "Epoch 50/100\n",
            "2/2 [==============================] - 0s 5ms/step - loss: 13.7159 - mae: 13.7159\n",
            "Epoch 51/100\n",
            "2/2 [==============================] - 0s 5ms/step - loss: 11.5665 - mae: 11.5665\n",
            "Epoch 52/100\n",
            "2/2 [==============================] - 0s 7ms/step - loss: 30.2301 - mae: 30.2301\n",
            "Epoch 53/100\n",
            "2/2 [==============================] - 0s 5ms/step - loss: 13.7364 - mae: 13.7364\n",
            "Epoch 54/100\n",
            "2/2 [==============================] - 0s 5ms/step - loss: 26.4491 - mae: 26.4491\n",
            "Epoch 55/100\n",
            "2/2 [==============================] - 0s 5ms/step - loss: 26.0404 - mae: 26.0404\n",
            "Epoch 56/100\n",
            "2/2 [==============================] - 0s 5ms/step - loss: 11.2458 - mae: 11.2458\n",
            "Epoch 57/100\n",
            "2/2 [==============================] - 0s 5ms/step - loss: 13.2251 - mae: 13.2251\n",
            "Epoch 58/100\n",
            "2/2 [==============================] - 0s 7ms/step - loss: 9.8750 - mae: 9.8750\n",
            "Epoch 59/100\n",
            "2/2 [==============================] - 0s 7ms/step - loss: 13.4154 - mae: 13.4154\n",
            "Epoch 60/100\n",
            "2/2 [==============================] - 0s 6ms/step - loss: 10.9401 - mae: 10.9401\n",
            "Epoch 61/100\n",
            "2/2 [==============================] - 0s 9ms/step - loss: 13.5631 - mae: 13.5631\n",
            "Epoch 62/100\n",
            "2/2 [==============================] - 0s 6ms/step - loss: 17.8794 - mae: 17.8794\n",
            "Epoch 63/100\n",
            "2/2 [==============================] - 0s 5ms/step - loss: 8.7408 - mae: 8.7408\n",
            "Epoch 64/100\n",
            "2/2 [==============================] - 0s 6ms/step - loss: 16.1390 - mae: 16.1390\n",
            "Epoch 65/100\n",
            "2/2 [==============================] - 0s 5ms/step - loss: 10.7491 - mae: 10.7491\n",
            "Epoch 66/100\n",
            "2/2 [==============================] - 0s 6ms/step - loss: 22.1848 - mae: 22.1848\n",
            "Epoch 67/100\n",
            "2/2 [==============================] - 0s 5ms/step - loss: 10.2703 - mae: 10.2703\n",
            "Epoch 68/100\n",
            "2/2 [==============================] - 0s 5ms/step - loss: 13.4686 - mae: 13.4686\n",
            "Epoch 69/100\n",
            "2/2 [==============================] - 0s 9ms/step - loss: 11.4338 - mae: 11.4338\n",
            "Epoch 70/100\n",
            "2/2 [==============================] - 0s 6ms/step - loss: 13.6181 - mae: 13.6181\n",
            "Epoch 71/100\n",
            "2/2 [==============================] - 0s 6ms/step - loss: 15.6235 - mae: 15.6235\n",
            "Epoch 72/100\n",
            "2/2 [==============================] - 0s 5ms/step - loss: 11.8524 - mae: 11.8524\n",
            "Epoch 73/100\n",
            "2/2 [==============================] - 0s 6ms/step - loss: 16.6253 - mae: 16.6253\n",
            "Epoch 74/100\n",
            "2/2 [==============================] - 0s 5ms/step - loss: 24.1353 - mae: 24.1353\n",
            "Epoch 75/100\n",
            "2/2 [==============================] - 0s 5ms/step - loss: 9.6306 - mae: 9.6306\n",
            "Epoch 76/100\n",
            "2/2 [==============================] - 0s 5ms/step - loss: 12.4816 - mae: 12.4816\n",
            "Epoch 77/100\n",
            "2/2 [==============================] - 0s 5ms/step - loss: 16.7088 - mae: 16.7088\n",
            "Epoch 78/100\n",
            "2/2 [==============================] - 0s 5ms/step - loss: 9.0862 - mae: 9.0862\n",
            "Epoch 79/100\n",
            "2/2 [==============================] - 0s 5ms/step - loss: 24.0262 - mae: 24.0262\n",
            "Epoch 80/100\n",
            "2/2 [==============================] - 0s 6ms/step - loss: 26.8180 - mae: 26.8180\n",
            "Epoch 81/100\n",
            "2/2 [==============================] - 0s 6ms/step - loss: 11.7203 - mae: 11.7203\n",
            "Epoch 82/100\n",
            "2/2 [==============================] - 0s 6ms/step - loss: 12.0120 - mae: 12.0120\n",
            "Epoch 83/100\n",
            "2/2 [==============================] - 0s 6ms/step - loss: 17.4079 - mae: 17.4079\n",
            "Epoch 84/100\n",
            "2/2 [==============================] - 0s 5ms/step - loss: 7.2757 - mae: 7.2757\n",
            "Epoch 85/100\n",
            "2/2 [==============================] - 0s 6ms/step - loss: 14.9599 - mae: 14.9599\n",
            "Epoch 86/100\n",
            "2/2 [==============================] - 0s 5ms/step - loss: 15.2843 - mae: 15.2843\n",
            "Epoch 87/100\n",
            "2/2 [==============================] - 0s 6ms/step - loss: 19.0978 - mae: 19.0978\n",
            "Epoch 88/100\n",
            "2/2 [==============================] - 0s 6ms/step - loss: 29.8572 - mae: 29.8572\n",
            "Epoch 89/100\n",
            "2/2 [==============================] - 0s 6ms/step - loss: 10.1954 - mae: 10.1954\n",
            "Epoch 90/100\n",
            "2/2 [==============================] - 0s 7ms/step - loss: 21.5454 - mae: 21.5454\n",
            "Epoch 91/100\n",
            "2/2 [==============================] - 0s 5ms/step - loss: 10.5915 - mae: 10.5915\n",
            "Epoch 92/100\n",
            "2/2 [==============================] - 0s 5ms/step - loss: 18.4127 - mae: 18.4127\n",
            "Epoch 93/100\n",
            "2/2 [==============================] - 0s 5ms/step - loss: 7.4288 - mae: 7.4288\n",
            "Epoch 94/100\n",
            "2/2 [==============================] - 0s 5ms/step - loss: 17.7462 - mae: 17.7462\n",
            "Epoch 95/100\n",
            "2/2 [==============================] - 0s 6ms/step - loss: 11.1293 - mae: 11.1293\n",
            "Epoch 96/100\n",
            "2/2 [==============================] - 0s 6ms/step - loss: 19.4409 - mae: 19.4409\n",
            "Epoch 97/100\n",
            "2/2 [==============================] - 0s 5ms/step - loss: 12.1720 - mae: 12.1720\n",
            "Epoch 98/100\n",
            "2/2 [==============================] - 0s 6ms/step - loss: 11.5768 - mae: 11.5768\n",
            "Epoch 99/100\n",
            "2/2 [==============================] - 0s 5ms/step - loss: 13.8841 - mae: 13.8841\n",
            "Epoch 100/100\n",
            "2/2 [==============================] - 0s 6ms/step - loss: 20.2139 - mae: 20.2139\n"
          ]
        },
        {
          "output_type": "execute_result",
          "data": {
            "text/plain": [
              "<keras.src.callbacks.History at 0x7b0415ba0190>"
            ]
          },
          "metadata": {},
          "execution_count": 43
        }
      ]
    },
    {
      "cell_type": "code",
      "source": [
        "y_pred2 = model_2.predict(x_test)\n",
        "\n",
        "plot_predictions(predictions = y_pred2)"
      ],
      "metadata": {
        "colab": {
          "base_uri": "https://localhost:8080/",
          "height": 462
        },
        "id": "pyEVcri1ExI7",
        "outputId": "ba15cf2c-8393-4338-84f7-3d794eb263ea"
      },
      "execution_count": null,
      "outputs": [
        {
          "output_type": "stream",
          "name": "stdout",
          "text": [
            "1/1 [==============================] - 0s 74ms/step\n"
          ]
        },
        {
          "output_type": "display_data",
          "data": {
            "text/plain": [
              "<Figure size 500x500 with 1 Axes>"
            ],
            "image/png": "[encoded data removed]"
          },
          "metadata": {}
        }
      ]
    },
    {
      "cell_type": "code",
      "source": [
        "mae_2 = mae(y_test, tf.squeeze(y_pred2))\n",
        "mse_2 = mse(y_test, tf.squeeze(y_pred2))\n",
        "mae_2, mse_2"
      ],
      "metadata": {
        "colab": {
          "base_uri": "https://localhost:8080/"
        },
        "id": "OigahgRRFDFC",
        "outputId": "30032c7e-79a5-4104-fb23-71dc597527c5"
      },
      "execution_count": null,
      "outputs": [
        {
          "output_type": "execute_result",
          "data": {
            "text/plain": [
              "(<tf.Tensor: shape=(), dtype=float32, numpy=3.1114953>,\n",
              " <tf.Tensor: shape=(), dtype=float32, numpy=12.499588>)"
            ]
          },
          "metadata": {},
          "execution_count": 45
        }
      ]
    },
    {
      "cell_type": "markdown",
      "source": [
        "### Build Model 3"
      ],
      "metadata": {
        "id": "XvHO7g7iGajR"
      }
    },
    {
      "cell_type": "code",
      "source": [
        "tf.random.set_seed(42)\n",
        "\n",
        "# Create the model\n",
        "model_3 = tf.keras.Sequential([\n",
        "    tf.keras.layers.Dense(10),\n",
        "    tf.keras.layers.Dense(1)\n",
        "])\n",
        "\n",
        "# Compile the model\n",
        "model_3.compile(\n",
        "    loss = tf.keras.losses.mae,\n",
        "    optimizer = tf.keras.optimizers.SGD(),\n",
        "    metrics = ['mae']\n",
        ")\n",
        "\n",
        "# Fit the model\n",
        "model_3.fit(tf.expand_dims(x_train , axis = -1), y_train, epochs = 500)"
      ],
      "metadata": {
        "colab": {
          "base_uri": "https://localhost:8080/"
        },
        "id": "kV8XGRVGGcus",
        "outputId": "4c3d7e35-bacb-4e6e-cffa-8ecffad71874"
      },
      "execution_count": null,
      "outputs": [
        {
          "output_type": "stream",
          "name": "stdout",
          "text": [
            "Epoch 1/500\n",
            "2/2 [==============================] - 0s 8ms/step - loss: 54.8717 - mae: 54.8717\n",
            "Epoch 2/500\n",
            "2/2 [==============================] - 0s 5ms/step - loss: 32.5885 - mae: 32.5885\n",
            "Epoch 3/500\n",
            "2/2 [==============================] - 0s 6ms/step - loss: 20.1452 - mae: 20.1452\n",
            "Epoch 4/500\n",
            "2/2 [==============================] - 0s 6ms/step - loss: 13.0486 - mae: 13.0486\n",
            "Epoch 5/500\n",
            "2/2 [==============================] - 0s 5ms/step - loss: 16.5423 - mae: 16.5423\n",
            "Epoch 6/500\n",
            "2/2 [==============================] - 0s 6ms/step - loss: 11.2343 - mae: 11.2343\n",
            "Epoch 7/500\n",
            "2/2 [==============================] - 0s 5ms/step - loss: 12.2573 - mae: 12.2573\n",
            "Epoch 8/500\n",
            "2/2 [==============================] - 0s 5ms/step - loss: 10.9394 - mae: 10.9394\n",
            "Epoch 9/500\n",
            "2/2 [==============================] - 0s 7ms/step - loss: 38.3332 - mae: 38.3332\n",
            "Epoch 10/500\n",
            "2/2 [==============================] - 0s 8ms/step - loss: 25.8683 - mae: 25.8683\n",
            "Epoch 11/500\n",
            "2/2 [==============================] - 0s 5ms/step - loss: 10.2558 - mae: 10.2558\n",
            "Epoch 12/500\n",
            "2/2 [==============================] - 0s 5ms/step - loss: 25.2003 - mae: 25.2003\n",
            "Epoch 13/500\n",
            "2/2 [==============================] - 0s 6ms/step - loss: 17.1606 - mae: 17.1606\n",
            "Epoch 14/500\n",
            "2/2 [==============================] - 0s 5ms/step - loss: 26.4058 - mae: 26.4058\n",
            "Epoch 15/500\n",
            "2/2 [==============================] - 0s 7ms/step - loss: 16.8877 - mae: 16.8877\n",
            "Epoch 16/500\n",
            "2/2 [==============================] - 0s 5ms/step - loss: 9.8374 - mae: 9.8374\n",
            "Epoch 17/500\n",
            "2/2 [==============================] - 0s 5ms/step - loss: 17.6248 - mae: 17.6248\n",
            "Epoch 18/500\n",
            "2/2 [==============================] - 0s 5ms/step - loss: 14.0921 - mae: 14.0921\n",
            "Epoch 19/500\n",
            "2/2 [==============================] - 0s 5ms/step - loss: 13.9311 - mae: 13.9311\n",
            "Epoch 20/500\n",
            "2/2 [==============================] - 0s 6ms/step - loss: 11.2040 - mae: 11.2040\n",
            "Epoch 21/500\n",
            "2/2 [==============================] - 0s 5ms/step - loss: 17.2432 - mae: 17.2432\n",
            "Epoch 22/500\n",
            "2/2 [==============================] - 0s 5ms/step - loss: 15.4813 - mae: 15.4813\n",
            "Epoch 23/500\n",
            "2/2 [==============================] - 0s 5ms/step - loss: 9.2543 - mae: 9.2543\n",
            "Epoch 24/500\n",
            "2/2 [==============================] - 0s 5ms/step - loss: 17.2893 - mae: 17.2893\n",
            "Epoch 25/500\n",
            "2/2 [==============================] - 0s 5ms/step - loss: 15.9603 - mae: 15.9603\n",
            "Epoch 26/500\n",
            "2/2 [==============================] - 0s 5ms/step - loss: 20.9716 - mae: 20.9716\n",
            "Epoch 27/500\n",
            "2/2 [==============================] - 0s 5ms/step - loss: 25.8754 - mae: 25.8754\n",
            "Epoch 28/500\n",
            "2/2 [==============================] - 0s 5ms/step - loss: 18.3860 - mae: 18.3860\n",
            "Epoch 29/500\n",
            "2/2 [==============================] - 0s 5ms/step - loss: 9.2519 - mae: 9.2519\n",
            "Epoch 30/500\n",
            "2/2 [==============================] - 0s 6ms/step - loss: 28.9867 - mae: 28.9867\n",
            "Epoch 31/500\n",
            "2/2 [==============================] - 0s 6ms/step - loss: 52.4909 - mae: 52.4909\n",
            "Epoch 32/500\n",
            "2/2 [==============================] - 0s 8ms/step - loss: 11.8988 - mae: 11.8988\n",
            "Epoch 33/500\n",
            "2/2 [==============================] - 0s 7ms/step - loss: 15.4593 - mae: 15.4593\n",
            "Epoch 34/500\n",
            "2/2 [==============================] - 0s 5ms/step - loss: 12.5756 - mae: 12.5756\n",
            "Epoch 35/500\n",
            "2/2 [==============================] - 0s 6ms/step - loss: 9.1923 - mae: 9.1923\n",
            "Epoch 36/500\n",
            "2/2 [==============================] - 0s 6ms/step - loss: 16.4198 - mae: 16.4198\n",
            "Epoch 37/500\n",
            "2/2 [==============================] - 0s 6ms/step - loss: 11.1097 - mae: 11.1097\n",
            "Epoch 38/500\n",
            "2/2 [==============================] - 0s 5ms/step - loss: 18.2405 - mae: 18.2405\n",
            "Epoch 39/500\n",
            "2/2 [==============================] - 0s 6ms/step - loss: 19.1709 - mae: 19.1709\n",
            "Epoch 40/500\n",
            "2/2 [==============================] - 0s 6ms/step - loss: 20.5563 - mae: 20.5563\n",
            "Epoch 41/500\n",
            "2/2 [==============================] - 0s 5ms/step - loss: 14.7690 - mae: 14.7690\n",
            "Epoch 42/500\n",
            "2/2 [==============================] - 0s 6ms/step - loss: 12.1749 - mae: 12.1749\n",
            "Epoch 43/500\n",
            "2/2 [==============================] - 0s 5ms/step - loss: 10.6894 - mae: 10.6894\n",
            "Epoch 44/500\n",
            "2/2 [==============================] - 0s 7ms/step - loss: 32.1217 - mae: 32.1217\n",
            "Epoch 45/500\n",
            "2/2 [==============================] - 0s 5ms/step - loss: 12.4397 - mae: 12.4397\n",
            "Epoch 46/500\n",
            "2/2 [==============================] - 0s 6ms/step - loss: 17.4020 - mae: 17.4020\n",
            "Epoch 47/500\n",
            "2/2 [==============================] - 0s 6ms/step - loss: 15.8048 - mae: 15.8048\n",
            "Epoch 48/500\n",
            "2/2 [==============================] - 0s 6ms/step - loss: 8.4099 - mae: 8.4099\n",
            "Epoch 49/500\n",
            "2/2 [==============================] - 0s 7ms/step - loss: 14.2639 - mae: 14.2639\n",
            "Epoch 50/500\n",
            "2/2 [==============================] - 0s 6ms/step - loss: 15.1931 - mae: 15.1931\n",
            "Epoch 51/500\n",
            "2/2 [==============================] - 0s 6ms/step - loss: 13.7076 - mae: 13.7076\n",
            "Epoch 52/500\n",
            "2/2 [==============================] - 0s 6ms/step - loss: 18.1212 - mae: 18.1212\n",
            "Epoch 53/500\n",
            "2/2 [==============================] - 0s 6ms/step - loss: 22.7920 - mae: 22.7920\n",
            "Epoch 54/500\n",
            "2/2 [==============================] - 0s 6ms/step - loss: 26.7524 - mae: 26.7524\n",
            "Epoch 55/500\n",
            "2/2 [==============================] - 0s 6ms/step - loss: 26.3813 - mae: 26.3813\n",
            "Epoch 56/500\n",
            "2/2 [==============================] - 0s 6ms/step - loss: 11.3532 - mae: 11.3532\n",
            "Epoch 57/500\n",
            "2/2 [==============================] - 0s 6ms/step - loss: 13.3677 - mae: 13.3677\n",
            "Epoch 58/500\n",
            "2/2 [==============================] - 0s 6ms/step - loss: 9.9563 - mae: 9.9563\n",
            "Epoch 59/500\n",
            "2/2 [==============================] - 0s 6ms/step - loss: 13.9063 - mae: 13.9063\n",
            "Epoch 60/500\n",
            "2/2 [==============================] - 0s 6ms/step - loss: 9.9959 - mae: 9.9959\n",
            "Epoch 61/500\n",
            "2/2 [==============================] - 0s 7ms/step - loss: 14.9548 - mae: 14.9548\n",
            "Epoch 62/500\n",
            "2/2 [==============================] - 0s 5ms/step - loss: 11.9220 - mae: 11.9220\n",
            "Epoch 63/500\n",
            "2/2 [==============================] - 0s 6ms/step - loss: 10.2900 - mae: 10.2900\n",
            "Epoch 64/500\n",
            "2/2 [==============================] - 0s 5ms/step - loss: 23.8270 - mae: 23.8270\n",
            "Epoch 65/500\n",
            "2/2 [==============================] - 0s 8ms/step - loss: 10.4649 - mae: 10.4649\n",
            "Epoch 66/500\n",
            "2/2 [==============================] - 0s 5ms/step - loss: 20.8751 - mae: 20.8751\n",
            "Epoch 67/500\n",
            "2/2 [==============================] - 0s 5ms/step - loss: 10.4358 - mae: 10.4358\n",
            "Epoch 68/500\n",
            "2/2 [==============================] - 0s 5ms/step - loss: 14.1332 - mae: 14.1332\n",
            "Epoch 69/500\n",
            "2/2 [==============================] - 0s 5ms/step - loss: 10.4984 - mae: 10.4984\n",
            "Epoch 70/500\n",
            "2/2 [==============================] - 0s 5ms/step - loss: 12.5654 - mae: 12.5654\n",
            "Epoch 71/500\n",
            "2/2 [==============================] - 0s 5ms/step - loss: 12.9913 - mae: 12.9913\n",
            "Epoch 72/500\n",
            "2/2 [==============================] - 0s 5ms/step - loss: 19.2756 - mae: 19.2756\n",
            "Epoch 73/500\n",
            "2/2 [==============================] - 0s 5ms/step - loss: 11.1186 - mae: 11.1186\n",
            "Epoch 74/500\n",
            "2/2 [==============================] - 0s 5ms/step - loss: 21.3389 - mae: 21.3389\n",
            "Epoch 75/500\n",
            "2/2 [==============================] - 0s 5ms/step - loss: 9.4394 - mae: 9.4394\n",
            "Epoch 76/500\n",
            "2/2 [==============================] - 0s 6ms/step - loss: 12.2555 - mae: 12.2555\n",
            "Epoch 77/500\n",
            "2/2 [==============================] - 0s 6ms/step - loss: 16.2335 - mae: 16.2335\n",
            "Epoch 78/500\n",
            "2/2 [==============================] - 0s 5ms/step - loss: 9.0077 - mae: 9.0077\n",
            "Epoch 79/500\n",
            "2/2 [==============================] - 0s 7ms/step - loss: 23.4491 - mae: 23.4491\n",
            "Epoch 80/500\n",
            "2/2 [==============================] - 0s 6ms/step - loss: 26.1213 - mae: 26.1213\n",
            "Epoch 81/500\n",
            "2/2 [==============================] - 0s 4ms/step - loss: 11.3854 - mae: 11.3854\n",
            "Epoch 82/500\n",
            "2/2 [==============================] - 0s 5ms/step - loss: 12.4883 - mae: 12.4883\n",
            "Epoch 83/500\n",
            "2/2 [==============================] - 0s 5ms/step - loss: 17.1724 - mae: 17.1724\n",
            "Epoch 84/500\n",
            "2/2 [==============================] - 0s 5ms/step - loss: 6.5829 - mae: 6.5829\n",
            "Epoch 85/500\n",
            "2/2 [==============================] - 0s 5ms/step - loss: 20.3100 - mae: 20.3100\n",
            "Epoch 86/500\n",
            "2/2 [==============================] - 0s 5ms/step - loss: 10.1620 - mae: 10.1620\n",
            "Epoch 87/500\n",
            "2/2 [==============================] - 0s 5ms/step - loss: 24.3587 - mae: 24.3587\n",
            "Epoch 88/500\n",
            "2/2 [==============================] - 0s 6ms/step - loss: 19.0228 - mae: 19.0228\n",
            "Epoch 89/500\n",
            "2/2 [==============================] - 0s 6ms/step - loss: 7.1555 - mae: 7.1555\n",
            "Epoch 90/500\n",
            "2/2 [==============================] - 0s 6ms/step - loss: 18.2468 - mae: 18.2468\n",
            "Epoch 91/500\n",
            "2/2 [==============================] - 0s 6ms/step - loss: 13.2959 - mae: 13.2959\n",
            "Epoch 92/500\n",
            "2/2 [==============================] - 0s 6ms/step - loss: 14.8420 - mae: 14.8420\n",
            "Epoch 93/500\n",
            "2/2 [==============================] - 0s 6ms/step - loss: 11.6363 - mae: 11.6363\n",
            "Epoch 94/500\n",
            "2/2 [==============================] - 0s 6ms/step - loss: 16.1932 - mae: 16.1932\n",
            "Epoch 95/500\n",
            "2/2 [==============================] - 0s 7ms/step - loss: 15.5352 - mae: 15.5352\n",
            "Epoch 96/500\n",
            "2/2 [==============================] - 0s 5ms/step - loss: 15.0681 - mae: 15.0681\n",
            "Epoch 97/500\n",
            "2/2 [==============================] - 0s 5ms/step - loss: 10.8969 - mae: 10.8969\n",
            "Epoch 98/500\n",
            "2/2 [==============================] - 0s 7ms/step - loss: 14.3571 - mae: 14.3571\n",
            "Epoch 99/500\n",
            "2/2 [==============================] - 0s 6ms/step - loss: 13.3760 - mae: 13.3760\n",
            "Epoch 100/500\n",
            "2/2 [==============================] - 0s 6ms/step - loss: 19.9926 - mae: 19.9926\n",
            "Epoch 101/500\n",
            "2/2 [==============================] - 0s 6ms/step - loss: 22.5268 - mae: 22.5268\n",
            "Epoch 102/500\n",
            "2/2 [==============================] - 0s 6ms/step - loss: 11.2737 - mae: 11.2737\n",
            "Epoch 103/500\n",
            "2/2 [==============================] - 0s 6ms/step - loss: 9.3545 - mae: 9.3545\n",
            "Epoch 104/500\n",
            "2/2 [==============================] - 0s 6ms/step - loss: 25.1596 - mae: 25.1596\n",
            "Epoch 105/500\n",
            "2/2 [==============================] - 0s 8ms/step - loss: 12.4139 - mae: 12.4139\n",
            "Epoch 106/500\n",
            "2/2 [==============================] - 0s 7ms/step - loss: 9.3913 - mae: 9.3913\n",
            "Epoch 107/500\n",
            "2/2 [==============================] - 0s 7ms/step - loss: 23.1763 - mae: 23.1763\n",
            "Epoch 108/500\n",
            "2/2 [==============================] - 0s 7ms/step - loss: 8.2679 - mae: 8.2679\n",
            "Epoch 109/500\n",
            "2/2 [==============================] - 0s 8ms/step - loss: 14.0102 - mae: 14.0102\n",
            "Epoch 110/500\n",
            "2/2 [==============================] - 0s 9ms/step - loss: 10.6333 - mae: 10.6333\n",
            "Epoch 111/500\n",
            "2/2 [==============================] - 0s 9ms/step - loss: 16.9547 - mae: 16.9547\n",
            "Epoch 112/500\n",
            "2/2 [==============================] - 0s 7ms/step - loss: 8.2621 - mae: 8.2621\n",
            "Epoch 113/500\n",
            "2/2 [==============================] - 0s 6ms/step - loss: 19.6577 - mae: 19.6577\n",
            "Epoch 114/500\n",
            "2/2 [==============================] - 0s 6ms/step - loss: 17.3652 - mae: 17.3652\n",
            "Epoch 115/500\n",
            "2/2 [==============================] - 0s 7ms/step - loss: 11.2181 - mae: 11.2181\n",
            "Epoch 116/500\n",
            "2/2 [==============================] - 0s 9ms/step - loss: 23.5259 - mae: 23.5259\n",
            "Epoch 117/500\n",
            "2/2 [==============================] - 0s 4ms/step - loss: 9.7160 - mae: 9.7160\n",
            "Epoch 118/500\n",
            "2/2 [==============================] - 0s 6ms/step - loss: 10.7945 - mae: 10.7945\n",
            "Epoch 119/500\n",
            "2/2 [==============================] - 0s 7ms/step - loss: 8.0856 - mae: 8.0856\n",
            "Epoch 120/500\n",
            "2/2 [==============================] - 0s 7ms/step - loss: 29.8647 - mae: 29.8647\n",
            "Epoch 121/500\n",
            "2/2 [==============================] - 0s 6ms/step - loss: 8.1160 - mae: 8.1160\n",
            "Epoch 122/500\n",
            "2/2 [==============================] - 0s 9ms/step - loss: 28.4358 - mae: 28.4358\n",
            "Epoch 123/500\n",
            "2/2 [==============================] - 0s 8ms/step - loss: 33.0554 - mae: 33.0554\n",
            "Epoch 124/500\n",
            "2/2 [==============================] - 0s 7ms/step - loss: 19.7550 - mae: 19.7550\n",
            "Epoch 125/500\n",
            "2/2 [==============================] - 0s 5ms/step - loss: 7.0463 - mae: 7.0463\n",
            "Epoch 126/500\n",
            "2/2 [==============================] - 0s 5ms/step - loss: 21.9110 - mae: 21.9110\n",
            "Epoch 127/500\n",
            "2/2 [==============================] - 0s 7ms/step - loss: 8.0297 - mae: 8.0297\n",
            "Epoch 128/500\n",
            "2/2 [==============================] - 0s 6ms/step - loss: 21.1416 - mae: 21.1416\n",
            "Epoch 129/500\n",
            "2/2 [==============================] - 0s 8ms/step - loss: 9.0617 - mae: 9.0617\n",
            "Epoch 130/500\n",
            "2/2 [==============================] - 0s 6ms/step - loss: 24.1209 - mae: 24.1209\n",
            "Epoch 131/500\n",
            "2/2 [==============================] - 0s 5ms/step - loss: 9.8066 - mae: 9.8066\n",
            "Epoch 132/500\n",
            "2/2 [==============================] - 0s 7ms/step - loss: 18.3571 - mae: 18.3571\n",
            "Epoch 133/500\n",
            "2/2 [==============================] - 0s 6ms/step - loss: 7.6224 - mae: 7.6224\n",
            "Epoch 134/500\n",
            "2/2 [==============================] - 0s 4ms/step - loss: 18.6140 - mae: 18.6140\n",
            "Epoch 135/500\n",
            "2/2 [==============================] - 0s 5ms/step - loss: 10.5785 - mae: 10.5785\n",
            "Epoch 136/500\n",
            "2/2 [==============================] - 0s 5ms/step - loss: 18.2877 - mae: 18.2877\n",
            "Epoch 137/500\n",
            "2/2 [==============================] - 0s 5ms/step - loss: 23.1806 - mae: 23.1806\n",
            "Epoch 138/500\n",
            "2/2 [==============================] - 0s 6ms/step - loss: 9.1659 - mae: 9.1659\n",
            "Epoch 139/500\n",
            "2/2 [==============================] - 0s 5ms/step - loss: 8.9442 - mae: 8.9442\n",
            "Epoch 140/500\n",
            "2/2 [==============================] - 0s 5ms/step - loss: 16.4583 - mae: 16.4583\n",
            "Epoch 141/500\n",
            "2/2 [==============================] - 0s 5ms/step - loss: 8.4549 - mae: 8.4549\n",
            "Epoch 142/500\n",
            "2/2 [==============================] - 0s 6ms/step - loss: 36.8542 - mae: 36.8542\n",
            "Epoch 143/500\n",
            "2/2 [==============================] - 0s 6ms/step - loss: 25.5241 - mae: 25.5241\n",
            "Epoch 144/500\n",
            "2/2 [==============================] - 0s 5ms/step - loss: 9.5696 - mae: 9.5696\n",
            "Epoch 145/500\n",
            "2/2 [==============================] - 0s 5ms/step - loss: 26.6384 - mae: 26.6384\n",
            "Epoch 146/500\n",
            "2/2 [==============================] - 0s 6ms/step - loss: 8.7175 - mae: 8.7175\n",
            "Epoch 147/500\n",
            "2/2 [==============================] - 0s 6ms/step - loss: 15.6677 - mae: 15.6677\n",
            "Epoch 148/500\n",
            "2/2 [==============================] - 0s 6ms/step - loss: 18.3659 - mae: 18.3659\n",
            "Epoch 149/500\n",
            "2/2 [==============================] - 0s 6ms/step - loss: 8.1863 - mae: 8.1863\n",
            "Epoch 150/500\n",
            "2/2 [==============================] - 0s 6ms/step - loss: 7.5117 - mae: 7.5117\n",
            "Epoch 151/500\n",
            "2/2 [==============================] - 0s 6ms/step - loss: 18.2119 - mae: 18.2119\n",
            "Epoch 152/500\n",
            "2/2 [==============================] - 0s 7ms/step - loss: 10.2869 - mae: 10.2869\n",
            "Epoch 153/500\n",
            "2/2 [==============================] - 0s 6ms/step - loss: 29.4175 - mae: 29.4175\n",
            "Epoch 154/500\n",
            "2/2 [==============================] - 0s 6ms/step - loss: 10.6186 - mae: 10.6186\n",
            "Epoch 155/500\n",
            "2/2 [==============================] - 0s 6ms/step - loss: 15.5105 - mae: 15.5105\n",
            "Epoch 156/500\n",
            "2/2 [==============================] - 0s 6ms/step - loss: 17.1321 - mae: 17.1321\n",
            "Epoch 157/500\n",
            "2/2 [==============================] - 0s 6ms/step - loss: 32.5314 - mae: 32.5314\n",
            "Epoch 158/500\n",
            "2/2 [==============================] - 0s 5ms/step - loss: 10.6527 - mae: 10.6527\n",
            "Epoch 159/500\n",
            "2/2 [==============================] - 0s 6ms/step - loss: 8.8955 - mae: 8.8955\n",
            "Epoch 160/500\n",
            "2/2 [==============================] - 0s 7ms/step - loss: 21.9044 - mae: 21.9044\n",
            "Epoch 161/500\n",
            "2/2 [==============================] - 0s 6ms/step - loss: 11.1145 - mae: 11.1145\n",
            "Epoch 162/500\n",
            "2/2 [==============================] - 0s 5ms/step - loss: 21.4285 - mae: 21.4285\n",
            "Epoch 163/500\n",
            "2/2 [==============================] - 0s 6ms/step - loss: 18.9065 - mae: 18.9065\n",
            "Epoch 164/500\n",
            "2/2 [==============================] - 0s 6ms/step - loss: 12.7451 - mae: 12.7451\n",
            "Epoch 165/500\n",
            "2/2 [==============================] - 0s 6ms/step - loss: 12.7221 - mae: 12.7221\n",
            "Epoch 166/500\n",
            "2/2 [==============================] - 0s 7ms/step - loss: 18.8878 - mae: 18.8878\n",
            "Epoch 167/500\n",
            "2/2 [==============================] - 0s 7ms/step - loss: 26.8621 - mae: 26.8621\n",
            "Epoch 168/500\n",
            "2/2 [==============================] - 0s 8ms/step - loss: 10.0023 - mae: 10.0023\n",
            "Epoch 169/500\n",
            "2/2 [==============================] - 0s 7ms/step - loss: 23.1064 - mae: 23.1064\n",
            "Epoch 170/500\n",
            "2/2 [==============================] - 0s 11ms/step - loss: 10.0832 - mae: 10.0832\n",
            "Epoch 171/500\n",
            "2/2 [==============================] - 0s 6ms/step - loss: 17.8264 - mae: 17.8264\n",
            "Epoch 172/500\n",
            "2/2 [==============================] - 0s 6ms/step - loss: 29.3747 - mae: 29.3747\n",
            "Epoch 173/500\n",
            "2/2 [==============================] - 0s 6ms/step - loss: 16.9652 - mae: 16.9652\n",
            "Epoch 174/500\n",
            "2/2 [==============================] - 0s 6ms/step - loss: 11.1831 - mae: 11.1831\n",
            "Epoch 175/500\n",
            "2/2 [==============================] - 0s 6ms/step - loss: 27.4504 - mae: 27.4504\n",
            "Epoch 176/500\n",
            "2/2 [==============================] - 0s 9ms/step - loss: 8.4521 - mae: 8.4521\n",
            "Epoch 177/500\n",
            "2/2 [==============================] - 0s 6ms/step - loss: 9.4074 - mae: 9.4074\n",
            "Epoch 178/500\n",
            "2/2 [==============================] - 0s 5ms/step - loss: 18.5654 - mae: 18.5654\n",
            "Epoch 179/500\n",
            "2/2 [==============================] - 0s 8ms/step - loss: 10.4211 - mae: 10.4211\n",
            "Epoch 180/500\n",
            "2/2 [==============================] - 0s 6ms/step - loss: 8.0063 - mae: 8.0063\n",
            "Epoch 181/500\n",
            "2/2 [==============================] - 0s 7ms/step - loss: 17.7375 - mae: 17.7375\n",
            "Epoch 182/500\n",
            "2/2 [==============================] - 0s 6ms/step - loss: 11.1959 - mae: 11.1959\n",
            "Epoch 183/500\n",
            "2/2 [==============================] - 0s 5ms/step - loss: 12.3803 - mae: 12.3803\n",
            "Epoch 184/500\n",
            "2/2 [==============================] - 0s 5ms/step - loss: 27.3054 - mae: 27.3054\n",
            "Epoch 185/500\n",
            "2/2 [==============================] - 0s 5ms/step - loss: 7.5845 - mae: 7.5845\n",
            "Epoch 186/500\n",
            "2/2 [==============================] - 0s 6ms/step - loss: 15.9788 - mae: 15.9788\n",
            "Epoch 187/500\n",
            "2/2 [==============================] - 0s 5ms/step - loss: 8.6031 - mae: 8.6031\n",
            "Epoch 188/500\n",
            "2/2 [==============================] - 0s 5ms/step - loss: 28.7773 - mae: 28.7773\n",
            "Epoch 189/500\n",
            "2/2 [==============================] - 0s 7ms/step - loss: 13.1742 - mae: 13.1742\n",
            "Epoch 190/500\n",
            "2/2 [==============================] - 0s 7ms/step - loss: 18.3178 - mae: 18.3178\n",
            "Epoch 191/500\n",
            "2/2 [==============================] - 0s 6ms/step - loss: 13.7478 - mae: 13.7478\n",
            "Epoch 192/500\n",
            "2/2 [==============================] - 0s 8ms/step - loss: 13.7285 - mae: 13.7285\n",
            "Epoch 193/500\n",
            "2/2 [==============================] - 0s 5ms/step - loss: 28.5900 - mae: 28.5900\n",
            "Epoch 194/500\n",
            "2/2 [==============================] - 0s 5ms/step - loss: 7.0964 - mae: 7.0964\n",
            "Epoch 195/500\n",
            "2/2 [==============================] - 0s 7ms/step - loss: 7.0870 - mae: 7.0870\n",
            "Epoch 196/500\n",
            "2/2 [==============================] - 0s 5ms/step - loss: 22.0353 - mae: 22.0353\n",
            "Epoch 197/500\n",
            "2/2 [==============================] - 0s 6ms/step - loss: 20.7917 - mae: 20.7917\n",
            "Epoch 198/500\n",
            "2/2 [==============================] - 0s 6ms/step - loss: 12.4514 - mae: 12.4514\n",
            "Epoch 199/500\n",
            "2/2 [==============================] - 0s 6ms/step - loss: 17.8618 - mae: 17.8618\n",
            "Epoch 200/500\n",
            "2/2 [==============================] - 0s 5ms/step - loss: 13.7066 - mae: 13.7066\n",
            "Epoch 201/500\n",
            "2/2 [==============================] - 0s 4ms/step - loss: 5.5094 - mae: 5.5094\n",
            "Epoch 202/500\n",
            "2/2 [==============================] - 0s 5ms/step - loss: 13.6543 - mae: 13.6543\n",
            "Epoch 203/500\n",
            "2/2 [==============================] - 0s 6ms/step - loss: 9.4275 - mae: 9.4275\n",
            "Epoch 204/500\n",
            "2/2 [==============================] - 0s 6ms/step - loss: 20.8623 - mae: 20.8623\n",
            "Epoch 205/500\n",
            "2/2 [==============================] - 0s 6ms/step - loss: 9.5401 - mae: 9.5401\n",
            "Epoch 206/500\n",
            "2/2 [==============================] - 0s 6ms/step - loss: 11.1793 - mae: 11.1793\n",
            "Epoch 207/500\n",
            "2/2 [==============================] - 0s 5ms/step - loss: 17.7390 - mae: 17.7390\n",
            "Epoch 208/500\n",
            "2/2 [==============================] - 0s 5ms/step - loss: 14.4298 - mae: 14.4298\n",
            "Epoch 209/500\n",
            "2/2 [==============================] - 0s 5ms/step - loss: 16.7601 - mae: 16.7601\n",
            "Epoch 210/500\n",
            "2/2 [==============================] - 0s 5ms/step - loss: 18.2851 - mae: 18.2851\n",
            "Epoch 211/500\n",
            "2/2 [==============================] - 0s 5ms/step - loss: 9.9833 - mae: 9.9833\n",
            "Epoch 212/500\n",
            "2/2 [==============================] - 0s 6ms/step - loss: 18.7693 - mae: 18.7693\n",
            "Epoch 213/500\n",
            "2/2 [==============================] - 0s 6ms/step - loss: 14.9366 - mae: 14.9366\n",
            "Epoch 214/500\n",
            "2/2 [==============================] - 0s 5ms/step - loss: 14.5252 - mae: 14.5252\n",
            "Epoch 215/500\n",
            "2/2 [==============================] - 0s 6ms/step - loss: 23.1634 - mae: 23.1634\n",
            "Epoch 216/500\n",
            "2/2 [==============================] - 0s 5ms/step - loss: 13.6128 - mae: 13.6128\n",
            "Epoch 217/500\n",
            "2/2 [==============================] - 0s 5ms/step - loss: 10.0783 - mae: 10.0783\n",
            "Epoch 218/500\n",
            "2/2 [==============================] - 0s 5ms/step - loss: 12.4125 - mae: 12.4125\n",
            "Epoch 219/500\n",
            "2/2 [==============================] - 0s 5ms/step - loss: 5.8716 - mae: 5.8716\n",
            "Epoch 220/500\n",
            "2/2 [==============================] - 0s 5ms/step - loss: 10.2091 - mae: 10.2091\n",
            "Epoch 221/500\n",
            "2/2 [==============================] - 0s 5ms/step - loss: 28.8959 - mae: 28.8959\n",
            "Epoch 222/500\n",
            "2/2 [==============================] - 0s 5ms/step - loss: 28.0869 - mae: 28.0869\n",
            "Epoch 223/500\n",
            "2/2 [==============================] - 0s 5ms/step - loss: 10.0742 - mae: 10.0742\n",
            "Epoch 224/500\n",
            "2/2 [==============================] - 0s 5ms/step - loss: 14.6239 - mae: 14.6239\n",
            "Epoch 225/500\n",
            "2/2 [==============================] - 0s 5ms/step - loss: 16.6404 - mae: 16.6404\n",
            "Epoch 226/500\n",
            "2/2 [==============================] - 0s 5ms/step - loss: 15.8626 - mae: 15.8626\n",
            "Epoch 227/500\n",
            "2/2 [==============================] - 0s 5ms/step - loss: 16.0812 - mae: 16.0812\n",
            "Epoch 228/500\n",
            "2/2 [==============================] - 0s 5ms/step - loss: 13.8608 - mae: 13.8608\n",
            "Epoch 229/500\n",
            "2/2 [==============================] - 0s 6ms/step - loss: 17.9797 - mae: 17.9797\n",
            "Epoch 230/500\n",
            "2/2 [==============================] - 0s 6ms/step - loss: 15.5747 - mae: 15.5747\n",
            "Epoch 231/500\n",
            "2/2 [==============================] - 0s 6ms/step - loss: 21.0957 - mae: 21.0957\n",
            "Epoch 232/500\n",
            "2/2 [==============================] - 0s 5ms/step - loss: 25.5189 - mae: 25.5189\n",
            "Epoch 233/500\n",
            "2/2 [==============================] - 0s 6ms/step - loss: 16.5167 - mae: 16.5167\n",
            "Epoch 234/500\n",
            "2/2 [==============================] - 0s 6ms/step - loss: 7.3631 - mae: 7.3631\n",
            "Epoch 235/500\n",
            "2/2 [==============================] - 0s 5ms/step - loss: 17.1555 - mae: 17.1555\n",
            "Epoch 236/500\n",
            "2/2 [==============================] - 0s 5ms/step - loss: 7.2235 - mae: 7.2235\n",
            "Epoch 237/500\n",
            "2/2 [==============================] - 0s 5ms/step - loss: 9.3225 - mae: 9.3225\n",
            "Epoch 238/500\n",
            "2/2 [==============================] - 0s 6ms/step - loss: 8.1783 - mae: 8.1783\n",
            "Epoch 239/500\n",
            "2/2 [==============================] - 0s 6ms/step - loss: 17.1712 - mae: 17.1712\n",
            "Epoch 240/500\n",
            "2/2 [==============================] - 0s 6ms/step - loss: 8.9502 - mae: 8.9502\n",
            "Epoch 241/500\n",
            "2/2 [==============================] - 0s 7ms/step - loss: 13.2640 - mae: 13.2640\n",
            "Epoch 242/500\n",
            "2/2 [==============================] - 0s 6ms/step - loss: 8.8597 - mae: 8.8597\n",
            "Epoch 243/500\n",
            "2/2 [==============================] - 0s 7ms/step - loss: 18.8992 - mae: 18.8992\n",
            "Epoch 244/500\n",
            "2/2 [==============================] - 0s 8ms/step - loss: 14.0519 - mae: 14.0519\n",
            "Epoch 245/500\n",
            "2/2 [==============================] - 0s 9ms/step - loss: 14.6804 - mae: 14.6804\n",
            "Epoch 246/500\n",
            "2/2 [==============================] - 0s 8ms/step - loss: 15.8134 - mae: 15.8134\n",
            "Epoch 247/500\n",
            "2/2 [==============================] - 0s 6ms/step - loss: 17.6921 - mae: 17.6921\n",
            "Epoch 248/500\n",
            "2/2 [==============================] - 0s 7ms/step - loss: 13.2491 - mae: 13.2491\n",
            "Epoch 249/500\n",
            "2/2 [==============================] - 0s 6ms/step - loss: 14.5244 - mae: 14.5244\n",
            "Epoch 250/500\n",
            "2/2 [==============================] - 0s 8ms/step - loss: 23.2479 - mae: 23.2479\n",
            "Epoch 251/500\n",
            "2/2 [==============================] - 0s 6ms/step - loss: 9.3345 - mae: 9.3345\n",
            "Epoch 252/500\n",
            "2/2 [==============================] - 0s 6ms/step - loss: 36.6030 - mae: 36.6030\n",
            "Epoch 253/500\n",
            "2/2 [==============================] - 0s 6ms/step - loss: 21.7922 - mae: 21.7922\n",
            "Epoch 254/500\n",
            "2/2 [==============================] - 0s 5ms/step - loss: 7.3166 - mae: 7.3166\n",
            "Epoch 255/500\n",
            "2/2 [==============================] - 0s 5ms/step - loss: 24.6567 - mae: 24.6567\n",
            "Epoch 256/500\n",
            "2/2 [==============================] - 0s 5ms/step - loss: 12.4228 - mae: 12.4228\n",
            "Epoch 257/500\n",
            "2/2 [==============================] - 0s 5ms/step - loss: 10.5878 - mae: 10.5878\n",
            "Epoch 258/500\n",
            "2/2 [==============================] - 0s 5ms/step - loss: 14.1932 - mae: 14.1932\n",
            "Epoch 259/500\n",
            "2/2 [==============================] - 0s 5ms/step - loss: 11.2639 - mae: 11.2639\n",
            "Epoch 260/500\n",
            "2/2 [==============================] - 0s 5ms/step - loss: 31.5733 - mae: 31.5733\n",
            "Epoch 261/500\n",
            "2/2 [==============================] - 0s 6ms/step - loss: 11.1845 - mae: 11.1845\n",
            "Epoch 262/500\n",
            "2/2 [==============================] - 0s 6ms/step - loss: 10.0392 - mae: 10.0392\n",
            "Epoch 263/500\n",
            "2/2 [==============================] - 0s 6ms/step - loss: 8.9550 - mae: 8.9550\n",
            "Epoch 264/500\n",
            "2/2 [==============================] - 0s 6ms/step - loss: 21.4613 - mae: 21.4613\n",
            "Epoch 265/500\n",
            "2/2 [==============================] - 0s 5ms/step - loss: 11.4653 - mae: 11.4653\n",
            "Epoch 266/500\n",
            "2/2 [==============================] - 0s 6ms/step - loss: 13.3059 - mae: 13.3059\n",
            "Epoch 267/500\n",
            "2/2 [==============================] - 0s 5ms/step - loss: 11.0929 - mae: 11.0929\n",
            "Epoch 268/500\n",
            "2/2 [==============================] - 0s 6ms/step - loss: 19.1761 - mae: 19.1761\n",
            "Epoch 269/500\n",
            "2/2 [==============================] - 0s 6ms/step - loss: 40.6503 - mae: 40.6503\n",
            "Epoch 270/500\n",
            "2/2 [==============================] - 0s 6ms/step - loss: 12.9025 - mae: 12.9025\n",
            "Epoch 271/500\n",
            "2/2 [==============================] - 0s 6ms/step - loss: 14.7713 - mae: 14.7713\n",
            "Epoch 272/500\n",
            "2/2 [==============================] - 0s 7ms/step - loss: 28.5207 - mae: 28.5207\n",
            "Epoch 273/500\n",
            "2/2 [==============================] - 0s 6ms/step - loss: 7.3667 - mae: 7.3667\n",
            "Epoch 274/500\n",
            "2/2 [==============================] - 0s 7ms/step - loss: 6.3629 - mae: 6.3629\n",
            "Epoch 275/500\n",
            "2/2 [==============================] - 0s 6ms/step - loss: 36.8532 - mae: 36.8532\n",
            "Epoch 276/500\n",
            "2/2 [==============================] - 0s 6ms/step - loss: 8.2922 - mae: 8.2922\n",
            "Epoch 277/500\n",
            "2/2 [==============================] - 0s 7ms/step - loss: 27.6805 - mae: 27.6805\n",
            "Epoch 278/500\n",
            "2/2 [==============================] - 0s 5ms/step - loss: 10.6888 - mae: 10.6888\n",
            "Epoch 279/500\n",
            "2/2 [==============================] - 0s 5ms/step - loss: 16.1173 - mae: 16.1173\n",
            "Epoch 280/500\n",
            "2/2 [==============================] - 0s 5ms/step - loss: 21.2498 - mae: 21.2498\n",
            "Epoch 281/500\n",
            "2/2 [==============================] - 0s 5ms/step - loss: 23.7596 - mae: 23.7596\n",
            "Epoch 282/500\n",
            "2/2 [==============================] - 0s 5ms/step - loss: 8.2597 - mae: 8.2597\n",
            "Epoch 283/500\n",
            "2/2 [==============================] - 0s 6ms/step - loss: 8.4445 - mae: 8.4445\n",
            "Epoch 284/500\n",
            "2/2 [==============================] - 0s 5ms/step - loss: 26.5960 - mae: 26.5960\n",
            "Epoch 285/500\n",
            "2/2 [==============================] - 0s 7ms/step - loss: 14.2082 - mae: 14.2082\n",
            "Epoch 286/500\n",
            "2/2 [==============================] - 0s 5ms/step - loss: 5.2640 - mae: 5.2640\n",
            "Epoch 287/500\n",
            "2/2 [==============================] - 0s 6ms/step - loss: 20.8311 - mae: 20.8311\n",
            "Epoch 288/500\n",
            "2/2 [==============================] - 0s 5ms/step - loss: 27.5800 - mae: 27.5800\n",
            "Epoch 289/500\n",
            "2/2 [==============================] - 0s 5ms/step - loss: 10.4426 - mae: 10.4426\n",
            "Epoch 290/500\n",
            "2/2 [==============================] - 0s 5ms/step - loss: 16.3153 - mae: 16.3153\n",
            "Epoch 291/500\n",
            "2/2 [==============================] - 0s 5ms/step - loss: 16.5053 - mae: 16.5053\n",
            "Epoch 292/500\n",
            "2/2 [==============================] - 0s 5ms/step - loss: 7.4342 - mae: 7.4342\n",
            "Epoch 293/500\n",
            "2/2 [==============================] - 0s 5ms/step - loss: 16.5512 - mae: 16.5512\n",
            "Epoch 294/500\n",
            "2/2 [==============================] - 0s 5ms/step - loss: 25.3415 - mae: 25.3415\n",
            "Epoch 295/500\n",
            "2/2 [==============================] - 0s 6ms/step - loss: 14.5652 - mae: 14.5652\n",
            "Epoch 296/500\n",
            "2/2 [==============================] - 0s 5ms/step - loss: 4.6745 - mae: 4.6745\n",
            "Epoch 297/500\n",
            "2/2 [==============================] - 0s 5ms/step - loss: 7.2821 - mae: 7.2821\n",
            "Epoch 298/500\n",
            "2/2 [==============================] - 0s 6ms/step - loss: 19.6003 - mae: 19.6003\n",
            "Epoch 299/500\n",
            "2/2 [==============================] - 0s 6ms/step - loss: 6.6184 - mae: 6.6184\n",
            "Epoch 300/500\n",
            "2/2 [==============================] - 0s 5ms/step - loss: 22.0490 - mae: 22.0490\n",
            "Epoch 301/500\n",
            "2/2 [==============================] - 0s 6ms/step - loss: 9.1329 - mae: 9.1329\n",
            "Epoch 302/500\n",
            "2/2 [==============================] - 0s 6ms/step - loss: 11.1889 - mae: 11.1889\n",
            "Epoch 303/500\n",
            "2/2 [==============================] - 0s 6ms/step - loss: 9.3371 - mae: 9.3371\n",
            "Epoch 304/500\n",
            "2/2 [==============================] - 0s 6ms/step - loss: 23.7005 - mae: 23.7005\n",
            "Epoch 305/500\n",
            "2/2 [==============================] - 0s 6ms/step - loss: 7.9217 - mae: 7.9217\n",
            "Epoch 306/500\n",
            "2/2 [==============================] - 0s 6ms/step - loss: 23.7555 - mae: 23.7555\n",
            "Epoch 307/500\n",
            "2/2 [==============================] - 0s 6ms/step - loss: 5.8851 - mae: 5.8851\n",
            "Epoch 308/500\n",
            "2/2 [==============================] - 0s 5ms/step - loss: 21.3238 - mae: 21.3238\n",
            "Epoch 309/500\n",
            "2/2 [==============================] - 0s 5ms/step - loss: 18.4097 - mae: 18.4097\n",
            "Epoch 310/500\n",
            "2/2 [==============================] - 0s 5ms/step - loss: 4.4962 - mae: 4.4962\n",
            "Epoch 311/500\n",
            "2/2 [==============================] - 0s 5ms/step - loss: 6.5077 - mae: 6.5077\n",
            "Epoch 312/500\n",
            "2/2 [==============================] - 0s 5ms/step - loss: 35.4523 - mae: 35.4523\n",
            "Epoch 313/500\n",
            "2/2 [==============================] - 0s 5ms/step - loss: 28.9287 - mae: 28.9287\n",
            "Epoch 314/500\n",
            "2/2 [==============================] - 0s 5ms/step - loss: 11.1920 - mae: 11.1920\n",
            "Epoch 315/500\n",
            "2/2 [==============================] - 0s 5ms/step - loss: 23.5504 - mae: 23.5504\n",
            "Epoch 316/500\n",
            "2/2 [==============================] - 0s 5ms/step - loss: 14.4279 - mae: 14.4279\n",
            "Epoch 317/500\n",
            "2/2 [==============================] - 0s 5ms/step - loss: 19.9755 - mae: 19.9755\n",
            "Epoch 318/500\n",
            "2/2 [==============================] - 0s 5ms/step - loss: 7.9965 - mae: 7.9965\n",
            "Epoch 319/500\n",
            "2/2 [==============================] - 0s 5ms/step - loss: 18.1127 - mae: 18.1127\n",
            "Epoch 320/500\n",
            "2/2 [==============================] - 0s 5ms/step - loss: 10.6406 - mae: 10.6406\n",
            "Epoch 321/500\n",
            "2/2 [==============================] - 0s 5ms/step - loss: 7.0233 - mae: 7.0233\n",
            "Epoch 322/500\n",
            "2/2 [==============================] - 0s 5ms/step - loss: 8.6697 - mae: 8.6697\n",
            "Epoch 323/500\n",
            "2/2 [==============================] - 0s 5ms/step - loss: 18.3341 - mae: 18.3341\n",
            "Epoch 324/500\n",
            "2/2 [==============================] - 0s 4ms/step - loss: 6.3039 - mae: 6.3039\n",
            "Epoch 325/500\n",
            "2/2 [==============================] - 0s 8ms/step - loss: 14.6169 - mae: 14.6169\n",
            "Epoch 326/500\n",
            "2/2 [==============================] - 0s 7ms/step - loss: 6.9867 - mae: 6.9867\n",
            "Epoch 327/500\n",
            "2/2 [==============================] - 0s 6ms/step - loss: 17.6349 - mae: 17.6349\n",
            "Epoch 328/500\n",
            "2/2 [==============================] - 0s 7ms/step - loss: 14.3704 - mae: 14.3704\n",
            "Epoch 329/500\n",
            "2/2 [==============================] - 0s 8ms/step - loss: 17.6800 - mae: 17.6800\n",
            "Epoch 330/500\n",
            "2/2 [==============================] - 0s 6ms/step - loss: 6.7783 - mae: 6.7783\n",
            "Epoch 331/500\n",
            "2/2 [==============================] - 0s 5ms/step - loss: 19.7570 - mae: 19.7570\n",
            "Epoch 332/500\n",
            "2/2 [==============================] - 0s 5ms/step - loss: 10.5518 - mae: 10.5518\n",
            "Epoch 333/500\n",
            "2/2 [==============================] - 0s 6ms/step - loss: 16.3537 - mae: 16.3537\n",
            "Epoch 334/500\n",
            "2/2 [==============================] - 0s 5ms/step - loss: 9.7113 - mae: 9.7113\n",
            "Epoch 335/500\n",
            "2/2 [==============================] - 0s 6ms/step - loss: 13.0529 - mae: 13.0529\n",
            "Epoch 336/500\n",
            "2/2 [==============================] - 0s 6ms/step - loss: 32.4900 - mae: 32.4900\n",
            "Epoch 337/500\n",
            "2/2 [==============================] - 0s 5ms/step - loss: 11.0340 - mae: 11.0340\n",
            "Epoch 338/500\n",
            "2/2 [==============================] - 0s 8ms/step - loss: 19.9427 - mae: 19.9427\n",
            "Epoch 339/500\n",
            "2/2 [==============================] - 0s 6ms/step - loss: 34.3468 - mae: 34.3468\n",
            "Epoch 340/500\n",
            "2/2 [==============================] - 0s 9ms/step - loss: 9.2816 - mae: 9.2816\n",
            "Epoch 341/500\n",
            "2/2 [==============================] - 0s 8ms/step - loss: 17.3117 - mae: 17.3117\n",
            "Epoch 342/500\n",
            "2/2 [==============================] - 0s 8ms/step - loss: 14.9074 - mae: 14.9074\n",
            "Epoch 343/500\n",
            "2/2 [==============================] - 0s 8ms/step - loss: 10.3109 - mae: 10.3109\n",
            "Epoch 344/500\n",
            "2/2 [==============================] - 0s 7ms/step - loss: 9.9317 - mae: 9.9317\n",
            "Epoch 345/500\n",
            "2/2 [==============================] - 0s 6ms/step - loss: 30.8967 - mae: 30.8967\n",
            "Epoch 346/500\n",
            "2/2 [==============================] - 0s 6ms/step - loss: 10.6228 - mae: 10.6228\n",
            "Epoch 347/500\n",
            "2/2 [==============================] - 0s 6ms/step - loss: 25.5315 - mae: 25.5315\n",
            "Epoch 348/500\n",
            "2/2 [==============================] - 0s 6ms/step - loss: 13.3632 - mae: 13.3632\n",
            "Epoch 349/500\n",
            "2/2 [==============================] - 0s 5ms/step - loss: 13.0023 - mae: 13.0023\n",
            "Epoch 350/500\n",
            "2/2 [==============================] - 0s 5ms/step - loss: 15.3865 - mae: 15.3865\n",
            "Epoch 351/500\n",
            "2/2 [==============================] - 0s 5ms/step - loss: 32.8574 - mae: 32.8574\n",
            "Epoch 352/500\n",
            "2/2 [==============================] - 0s 5ms/step - loss: 14.0555 - mae: 14.0555\n",
            "Epoch 353/500\n",
            "2/2 [==============================] - 0s 5ms/step - loss: 17.7419 - mae: 17.7419\n",
            "Epoch 354/500\n",
            "2/2 [==============================] - 0s 5ms/step - loss: 11.3259 - mae: 11.3259\n",
            "Epoch 355/500\n",
            "2/2 [==============================] - 0s 5ms/step - loss: 26.7353 - mae: 26.7353\n",
            "Epoch 356/500\n",
            "2/2 [==============================] - 0s 5ms/step - loss: 10.1983 - mae: 10.1983\n",
            "Epoch 357/500\n",
            "2/2 [==============================] - 0s 5ms/step - loss: 14.7865 - mae: 14.7865\n",
            "Epoch 358/500\n",
            "2/2 [==============================] - 0s 5ms/step - loss: 14.6742 - mae: 14.6742\n",
            "Epoch 359/500\n",
            "2/2 [==============================] - 0s 6ms/step - loss: 12.3201 - mae: 12.3201\n",
            "Epoch 360/500\n",
            "2/2 [==============================] - 0s 5ms/step - loss: 20.3182 - mae: 20.3182\n",
            "Epoch 361/500\n",
            "2/2 [==============================] - 0s 5ms/step - loss: 10.9439 - mae: 10.9439\n",
            "Epoch 362/500\n",
            "2/2 [==============================] - 0s 7ms/step - loss: 6.8180 - mae: 6.8180\n",
            "Epoch 363/500\n",
            "2/2 [==============================] - 0s 5ms/step - loss: 23.8875 - mae: 23.8875\n",
            "Epoch 364/500\n",
            "2/2 [==============================] - 0s 5ms/step - loss: 29.6136 - mae: 29.6136\n",
            "Epoch 365/500\n",
            "2/2 [==============================] - 0s 5ms/step - loss: 8.3105 - mae: 8.3105\n",
            "Epoch 366/500\n",
            "2/2 [==============================] - 0s 6ms/step - loss: 6.1004 - mae: 6.1004\n",
            "Epoch 367/500\n",
            "2/2 [==============================] - 0s 6ms/step - loss: 34.7285 - mae: 34.7285\n",
            "Epoch 368/500\n",
            "2/2 [==============================] - 0s 6ms/step - loss: 7.3770 - mae: 7.3770\n",
            "Epoch 369/500\n",
            "2/2 [==============================] - 0s 5ms/step - loss: 9.1786 - mae: 9.1786\n",
            "Epoch 370/500\n",
            "2/2 [==============================] - 0s 5ms/step - loss: 10.8688 - mae: 10.8688\n",
            "Epoch 371/500\n",
            "2/2 [==============================] - 0s 5ms/step - loss: 8.6441 - mae: 8.6441\n",
            "Epoch 372/500\n",
            "2/2 [==============================] - 0s 9ms/step - loss: 6.4575 - mae: 6.4575\n",
            "Epoch 373/500\n",
            "2/2 [==============================] - 0s 6ms/step - loss: 23.4341 - mae: 23.4341\n",
            "Epoch 374/500\n",
            "2/2 [==============================] - 0s 7ms/step - loss: 10.4496 - mae: 10.4496\n",
            "Epoch 375/500\n",
            "2/2 [==============================] - 0s 6ms/step - loss: 13.0479 - mae: 13.0479\n",
            "Epoch 376/500\n",
            "2/2 [==============================] - 0s 6ms/step - loss: 14.9333 - mae: 14.9333\n",
            "Epoch 377/500\n",
            "2/2 [==============================] - 0s 5ms/step - loss: 14.8187 - mae: 14.8187\n",
            "Epoch 378/500\n",
            "2/2 [==============================] - 0s 5ms/step - loss: 16.2939 - mae: 16.2939\n",
            "Epoch 379/500\n",
            "2/2 [==============================] - 0s 5ms/step - loss: 20.8847 - mae: 20.8847\n",
            "Epoch 380/500\n",
            "2/2 [==============================] - 0s 6ms/step - loss: 33.3888 - mae: 33.3888\n",
            "Epoch 381/500\n",
            "2/2 [==============================] - 0s 6ms/step - loss: 8.1604 - mae: 8.1604\n",
            "Epoch 382/500\n",
            "2/2 [==============================] - 0s 5ms/step - loss: 13.0142 - mae: 13.0142\n",
            "Epoch 383/500\n",
            "2/2 [==============================] - 0s 6ms/step - loss: 8.4427 - mae: 8.4427\n",
            "Epoch 384/500\n",
            "2/2 [==============================] - 0s 5ms/step - loss: 7.0629 - mae: 7.0629\n",
            "Epoch 385/500\n",
            "2/2 [==============================] - 0s 5ms/step - loss: 10.9515 - mae: 10.9515\n",
            "Epoch 386/500\n",
            "2/2 [==============================] - 0s 5ms/step - loss: 19.8050 - mae: 19.8050\n",
            "Epoch 387/500\n",
            "2/2 [==============================] - 0s 6ms/step - loss: 24.7714 - mae: 24.7714\n",
            "Epoch 388/500\n",
            "2/2 [==============================] - 0s 5ms/step - loss: 8.6881 - mae: 8.6881\n",
            "Epoch 389/500\n",
            "2/2 [==============================] - 0s 5ms/step - loss: 5.9195 - mae: 5.9195\n",
            "Epoch 390/500\n",
            "2/2 [==============================] - 0s 6ms/step - loss: 24.3550 - mae: 24.3550\n",
            "Epoch 391/500\n",
            "2/2 [==============================] - 0s 7ms/step - loss: 5.9426 - mae: 5.9426\n",
            "Epoch 392/500\n",
            "2/2 [==============================] - 0s 5ms/step - loss: 16.2572 - mae: 16.2572\n",
            "Epoch 393/500\n",
            "2/2 [==============================] - 0s 5ms/step - loss: 6.0548 - mae: 6.0548\n",
            "Epoch 394/500\n",
            "2/2 [==============================] - 0s 5ms/step - loss: 11.0545 - mae: 11.0545\n",
            "Epoch 395/500\n",
            "2/2 [==============================] - 0s 5ms/step - loss: 14.9076 - mae: 14.9076\n",
            "Epoch 396/500\n",
            "2/2 [==============================] - 0s 6ms/step - loss: 7.6057 - mae: 7.6057\n",
            "Epoch 397/500\n",
            "2/2 [==============================] - 0s 5ms/step - loss: 8.7310 - mae: 8.7310\n",
            "Epoch 398/500\n",
            "2/2 [==============================] - 0s 6ms/step - loss: 14.5554 - mae: 14.5554\n",
            "Epoch 399/500\n",
            "2/2 [==============================] - 0s 5ms/step - loss: 11.3171 - mae: 11.3171\n",
            "Epoch 400/500\n",
            "2/2 [==============================] - 0s 5ms/step - loss: 21.9235 - mae: 21.9235\n",
            "Epoch 401/500\n",
            "2/2 [==============================] - 0s 5ms/step - loss: 14.8377 - mae: 14.8377\n",
            "Epoch 402/500\n",
            "2/2 [==============================] - 0s 5ms/step - loss: 8.4601 - mae: 8.4601\n",
            "Epoch 403/500\n",
            "2/2 [==============================] - 0s 5ms/step - loss: 10.3714 - mae: 10.3714\n",
            "Epoch 404/500\n",
            "2/2 [==============================] - 0s 5ms/step - loss: 10.2262 - mae: 10.2262\n",
            "Epoch 405/500\n",
            "2/2 [==============================] - 0s 5ms/step - loss: 6.3134 - mae: 6.3134\n",
            "Epoch 406/500\n",
            "2/2 [==============================] - 0s 5ms/step - loss: 19.6658 - mae: 19.6658\n",
            "Epoch 407/500\n",
            "2/2 [==============================] - 0s 5ms/step - loss: 9.7405 - mae: 9.7405\n",
            "Epoch 408/500\n",
            "2/2 [==============================] - 0s 7ms/step - loss: 21.4447 - mae: 21.4447\n",
            "Epoch 409/500\n",
            "2/2 [==============================] - 0s 8ms/step - loss: 29.2081 - mae: 29.2081\n",
            "Epoch 410/500\n",
            "2/2 [==============================] - 0s 6ms/step - loss: 10.4075 - mae: 10.4075\n",
            "Epoch 411/500\n",
            "2/2 [==============================] - 0s 6ms/step - loss: 14.6157 - mae: 14.6157\n",
            "Epoch 412/500\n",
            "2/2 [==============================] - 0s 8ms/step - loss: 21.2943 - mae: 21.2943\n",
            "Epoch 413/500\n",
            "2/2 [==============================] - 0s 6ms/step - loss: 7.1126 - mae: 7.1126\n",
            "Epoch 414/500\n",
            "2/2 [==============================] - 0s 6ms/step - loss: 17.7687 - mae: 17.7687\n",
            "Epoch 415/500\n",
            "2/2 [==============================] - 0s 5ms/step - loss: 12.4024 - mae: 12.4024\n",
            "Epoch 416/500\n",
            "2/2 [==============================] - 0s 6ms/step - loss: 26.3097 - mae: 26.3097\n",
            "Epoch 417/500\n",
            "2/2 [==============================] - 0s 6ms/step - loss: 13.8308 - mae: 13.8308\n",
            "Epoch 418/500\n",
            "2/2 [==============================] - 0s 7ms/step - loss: 13.1357 - mae: 13.1357\n",
            "Epoch 419/500\n",
            "2/2 [==============================] - 0s 7ms/step - loss: 16.0770 - mae: 16.0770\n",
            "Epoch 420/500\n",
            "2/2 [==============================] - 0s 6ms/step - loss: 25.1601 - mae: 25.1601\n",
            "Epoch 421/500\n",
            "2/2 [==============================] - 0s 8ms/step - loss: 16.3732 - mae: 16.3732\n",
            "Epoch 422/500\n",
            "2/2 [==============================] - 0s 6ms/step - loss: 8.7116 - mae: 8.7116\n",
            "Epoch 423/500\n",
            "2/2 [==============================] - 0s 5ms/step - loss: 24.8863 - mae: 24.8863\n",
            "Epoch 424/500\n",
            "2/2 [==============================] - 0s 8ms/step - loss: 16.1826 - mae: 16.1826\n",
            "Epoch 425/500\n",
            "2/2 [==============================] - 0s 9ms/step - loss: 7.4864 - mae: 7.4864\n",
            "Epoch 426/500\n",
            "2/2 [==============================] - 0s 7ms/step - loss: 21.6167 - mae: 21.6167\n",
            "Epoch 427/500\n",
            "2/2 [==============================] - 0s 6ms/step - loss: 6.6745 - mae: 6.6745\n",
            "Epoch 428/500\n",
            "2/2 [==============================] - 0s 8ms/step - loss: 13.8648 - mae: 13.8648\n",
            "Epoch 429/500\n",
            "2/2 [==============================] - 0s 6ms/step - loss: 11.8128 - mae: 11.8128\n",
            "Epoch 430/500\n",
            "2/2 [==============================] - 0s 6ms/step - loss: 10.5497 - mae: 10.5497\n",
            "Epoch 431/500\n",
            "2/2 [==============================] - 0s 6ms/step - loss: 12.1041 - mae: 12.1041\n",
            "Epoch 432/500\n",
            "2/2 [==============================] - 0s 8ms/step - loss: 7.6284 - mae: 7.6284\n",
            "Epoch 433/500\n",
            "2/2 [==============================] - 0s 8ms/step - loss: 14.8754 - mae: 14.8754\n",
            "Epoch 434/500\n",
            "2/2 [==============================] - 0s 7ms/step - loss: 18.0112 - mae: 18.0112\n",
            "Epoch 435/500\n",
            "2/2 [==============================] - 0s 6ms/step - loss: 9.7105 - mae: 9.7105\n",
            "Epoch 436/500\n",
            "2/2 [==============================] - 0s 6ms/step - loss: 29.0976 - mae: 29.0976\n",
            "Epoch 437/500\n",
            "2/2 [==============================] - 0s 7ms/step - loss: 9.2564 - mae: 9.2564\n",
            "Epoch 438/500\n",
            "2/2 [==============================] - 0s 7ms/step - loss: 12.6898 - mae: 12.6898\n",
            "Epoch 439/500\n",
            "2/2 [==============================] - 0s 6ms/step - loss: 33.5402 - mae: 33.5402\n",
            "Epoch 440/500\n",
            "2/2 [==============================] - 0s 7ms/step - loss: 14.9038 - mae: 14.9038\n",
            "Epoch 441/500\n",
            "2/2 [==============================] - 0s 5ms/step - loss: 17.3382 - mae: 17.3382\n",
            "Epoch 442/500\n",
            "2/2 [==============================] - 0s 5ms/step - loss: 22.0028 - mae: 22.0028\n",
            "Epoch 443/500\n",
            "2/2 [==============================] - 0s 6ms/step - loss: 24.3048 - mae: 24.3048\n",
            "Epoch 444/500\n",
            "2/2 [==============================] - 0s 6ms/step - loss: 11.5803 - mae: 11.5803\n",
            "Epoch 445/500\n",
            "2/2 [==============================] - 0s 5ms/step - loss: 14.7456 - mae: 14.7456\n",
            "Epoch 446/500\n",
            "2/2 [==============================] - 0s 5ms/step - loss: 17.7492 - mae: 17.7492\n",
            "Epoch 447/500\n",
            "2/2 [==============================] - 0s 7ms/step - loss: 5.7045 - mae: 5.7045\n",
            "Epoch 448/500\n",
            "2/2 [==============================] - 0s 5ms/step - loss: 9.4971 - mae: 9.4971\n",
            "Epoch 449/500\n",
            "2/2 [==============================] - 0s 8ms/step - loss: 14.1619 - mae: 14.1619\n",
            "Epoch 450/500\n",
            "2/2 [==============================] - 0s 7ms/step - loss: 16.9283 - mae: 16.9283\n",
            "Epoch 451/500\n",
            "2/2 [==============================] - 0s 6ms/step - loss: 14.3545 - mae: 14.3545\n",
            "Epoch 452/500\n",
            "2/2 [==============================] - 0s 5ms/step - loss: 30.7556 - mae: 30.7556\n",
            "Epoch 453/500\n",
            "2/2 [==============================] - 0s 8ms/step - loss: 8.4129 - mae: 8.4129\n",
            "Epoch 454/500\n",
            "2/2 [==============================] - 0s 5ms/step - loss: 27.6739 - mae: 27.6739\n",
            "Epoch 455/500\n",
            "2/2 [==============================] - 0s 7ms/step - loss: 9.8786 - mae: 9.8786\n",
            "Epoch 456/500\n",
            "2/2 [==============================] - 0s 7ms/step - loss: 14.6125 - mae: 14.6125\n",
            "Epoch 457/500\n",
            "2/2 [==============================] - 0s 5ms/step - loss: 17.7721 - mae: 17.7721\n",
            "Epoch 458/500\n",
            "2/2 [==============================] - 0s 4ms/step - loss: 14.0528 - mae: 14.0528\n",
            "Epoch 459/500\n",
            "2/2 [==============================] - 0s 6ms/step - loss: 25.9818 - mae: 25.9818\n",
            "Epoch 460/500\n",
            "2/2 [==============================] - 0s 5ms/step - loss: 14.8363 - mae: 14.8363\n",
            "Epoch 461/500\n",
            "2/2 [==============================] - 0s 5ms/step - loss: 11.9999 - mae: 11.9999\n",
            "Epoch 462/500\n",
            "2/2 [==============================] - 0s 7ms/step - loss: 13.2998 - mae: 13.2998\n",
            "Epoch 463/500\n",
            "2/2 [==============================] - 0s 6ms/step - loss: 29.5155 - mae: 29.5155\n",
            "Epoch 464/500\n",
            "2/2 [==============================] - 0s 6ms/step - loss: 3.4610 - mae: 3.4610\n",
            "Epoch 465/500\n",
            "2/2 [==============================] - 0s 4ms/step - loss: 15.1837 - mae: 15.1837\n",
            "Epoch 466/500\n",
            "2/2 [==============================] - 0s 5ms/step - loss: 20.7664 - mae: 20.7664\n",
            "Epoch 467/500\n",
            "2/2 [==============================] - 0s 8ms/step - loss: 30.6947 - mae: 30.6947\n",
            "Epoch 468/500\n",
            "2/2 [==============================] - 0s 4ms/step - loss: 11.1397 - mae: 11.1397\n",
            "Epoch 469/500\n",
            "2/2 [==============================] - 0s 5ms/step - loss: 12.9439 - mae: 12.9439\n",
            "Epoch 470/500\n",
            "2/2 [==============================] - 0s 5ms/step - loss: 3.5564 - mae: 3.5564\n",
            "Epoch 471/500\n",
            "2/2 [==============================] - 0s 5ms/step - loss: 42.1531 - mae: 42.1531\n",
            "Epoch 472/500\n",
            "2/2 [==============================] - 0s 5ms/step - loss: 3.8869 - mae: 3.8869\n",
            "Epoch 473/500\n",
            "2/2 [==============================] - 0s 6ms/step - loss: 16.1301 - mae: 16.1301\n",
            "Epoch 474/500\n",
            "2/2 [==============================] - 0s 7ms/step - loss: 38.9492 - mae: 38.9492\n",
            "Epoch 475/500\n",
            "2/2 [==============================] - 0s 9ms/step - loss: 15.8020 - mae: 15.8020\n",
            "Epoch 476/500\n",
            "2/2 [==============================] - 0s 7ms/step - loss: 13.4779 - mae: 13.4779\n",
            "Epoch 477/500\n",
            "2/2 [==============================] - 0s 7ms/step - loss: 29.8390 - mae: 29.8390\n",
            "Epoch 478/500\n",
            "2/2 [==============================] - 0s 5ms/step - loss: 4.3366 - mae: 4.3366\n",
            "Epoch 479/500\n",
            "2/2 [==============================] - 0s 7ms/step - loss: 13.6304 - mae: 13.6304\n",
            "Epoch 480/500\n",
            "2/2 [==============================] - 0s 6ms/step - loss: 20.3102 - mae: 20.3102\n",
            "Epoch 481/500\n",
            "2/2 [==============================] - 0s 7ms/step - loss: 24.3820 - mae: 24.3820\n",
            "Epoch 482/500\n",
            "2/2 [==============================] - 0s 7ms/step - loss: 13.2017 - mae: 13.2017\n",
            "Epoch 483/500\n",
            "2/2 [==============================] - 0s 8ms/step - loss: 8.8375 - mae: 8.8375\n",
            "Epoch 484/500\n",
            "2/2 [==============================] - 0s 10ms/step - loss: 27.9806 - mae: 27.9806\n",
            "Epoch 485/500\n",
            "2/2 [==============================] - 0s 7ms/step - loss: 8.2791 - mae: 8.2791\n",
            "Epoch 486/500\n",
            "2/2 [==============================] - 0s 7ms/step - loss: 7.1530 - mae: 7.1530\n",
            "Epoch 487/500\n",
            "2/2 [==============================] - 0s 6ms/step - loss: 12.1814 - mae: 12.1814\n",
            "Epoch 488/500\n",
            "2/2 [==============================] - 0s 7ms/step - loss: 27.9049 - mae: 27.9049\n",
            "Epoch 489/500\n",
            "2/2 [==============================] - 0s 6ms/step - loss: 4.4919 - mae: 4.4919\n",
            "Epoch 490/500\n",
            "2/2 [==============================] - 0s 9ms/step - loss: 7.6443 - mae: 7.6443\n",
            "Epoch 491/500\n",
            "2/2 [==============================] - 0s 6ms/step - loss: 19.2438 - mae: 19.2438\n",
            "Epoch 492/500\n",
            "2/2 [==============================] - 0s 5ms/step - loss: 6.8080 - mae: 6.8080\n",
            "Epoch 493/500\n",
            "2/2 [==============================] - 0s 6ms/step - loss: 18.7231 - mae: 18.7231\n",
            "Epoch 494/500\n",
            "2/2 [==============================] - 0s 7ms/step - loss: 19.1702 - mae: 19.1702\n",
            "Epoch 495/500\n",
            "2/2 [==============================] - 0s 7ms/step - loss: 5.7126 - mae: 5.7126\n",
            "Epoch 496/500\n",
            "2/2 [==============================] - 0s 7ms/step - loss: 5.9570 - mae: 5.9570\n",
            "Epoch 497/500\n",
            "2/2 [==============================] - 0s 7ms/step - loss: 12.4634 - mae: 12.4634\n",
            "Epoch 498/500\n",
            "2/2 [==============================] - 0s 6ms/step - loss: 6.3533 - mae: 6.3533\n",
            "Epoch 499/500\n",
            "2/2 [==============================] - 0s 7ms/step - loss: 15.7666 - mae: 15.7666\n",
            "Epoch 500/500\n",
            "2/2 [==============================] - 0s 5ms/step - loss: 14.3509 - mae: 14.3509\n"
          ]
        },
        {
          "output_type": "execute_result",
          "data": {
            "text/plain": [
              "<keras.src.callbacks.History at 0x7b0410f7ecb0>"
            ]
          },
          "metadata": {},
          "execution_count": 47
        }
      ]
    },
    {
      "cell_type": "code",
      "source": [
        "y_pred3 = model_3.predict(x_test)\n",
        "\n",
        "plot_predictions(predictions = y_pred3)"
      ],
      "metadata": {
        "colab": {
          "base_uri": "https://localhost:8080/",
          "height": 462
        },
        "id": "G4salq2xGgJO",
        "outputId": "04c10761-ea7a-4b3d-ac92-72f252f931b3"
      },
      "execution_count": null,
      "outputs": [
        {
          "output_type": "stream",
          "name": "stdout",
          "text": [
            "1/1 [==============================] - 0s 15ms/step\n"
          ]
        },
        {
          "output_type": "display_data",
          "data": {
            "text/plain": [
              "<Figure size 500x500 with 1 Axes>"
            ],
            "image/png": "[encoded data removed]"
          },
          "metadata": {}
        }
      ]
    },
    {
      "cell_type": "code",
      "source": [
        "mae_3 = mae(y_test, tf.squeeze(y_pred3))\n",
        "mse_3 = mse(y_test, tf.squeeze(y_pred3))\n",
        "mae_3, mse_3"
      ],
      "metadata": {
        "colab": {
          "base_uri": "https://localhost:8080/"
        },
        "id": "VHbBBYfNGxrG",
        "outputId": "33ae3c01-28f8-4fb7-b804-ebcd73a44b2f"
      },
      "execution_count": null,
      "outputs": [
        {
          "output_type": "execute_result",
          "data": {
            "text/plain": [
              "(<tf.Tensor: shape=(), dtype=float32, numpy=67.7934>,\n",
              " <tf.Tensor: shape=(), dtype=float32, numpy=4680.266>)"
            ]
          },
          "metadata": {},
          "execution_count": 50
        }
      ]
    },
    {
      "cell_type": "markdown",
      "source": [
        "### Comparing the results of experiments of all 3 models"
      ],
      "metadata": {
        "id": "-tvyzgTGHcQK"
      }
    },
    {
      "cell_type": "code",
      "source": [
        "import pandas as pd\n",
        "\n",
        "model_results = [[\"model_1\", mae_1.numpy(), mse_1.numpy()],\n",
        "                  [\"model_2\", mae_2.numpy(), mse_2.numpy()],\n",
        "                  [\"model_3\", mae_3.numpy(), mse_3.numpy()]]\n",
        "\n",
        "all_results = pd.DataFrame(model_results, columns = ['model', 'mae', 'mse'])\n",
        "\n",
        "all_results"
      ],
      "metadata": {
        "colab": {
          "base_uri": "https://localhost:8080/",
          "height": 142
        },
        "id": "1Rs0KNxPHcy_",
        "outputId": "93f9599f-5b01-4457-ab2e-9def03b09ef8"
      },
      "execution_count": null,
      "outputs": [
        {
          "output_type": "execute_result",
          "data": {
            "text/plain": [
              "     model        mae          mse\n",
              "0  model_1  21.373539   460.296478\n",
              "1  model_2   3.111495    12.499588\n",
              "2  model_3  67.793404  4680.266113"
            ],
            "text/html": [
              "\n",
              "  <div id=\"df-6a0fc301-8e76-4cee-b104-ab1d2cccedc6\" class=\"colab-df-container\">\n",
              "    <div>\n",
              "<style scoped>\n",
              "    .dataframe tbody tr th:only-of-type {\n",
              "        vertical-align: middle;\n",
              "    }\n",
              "\n",
              "    .dataframe tbody tr th {\n",
              "        vertical-align: top;\n",
              "    }\n",
              "\n",
              "    .dataframe thead th {\n",
              "        text-align: right;\n",
              "    }\n",
              "</style>\n",
              "<table border=\"1\" class=\"dataframe\">\n",
              "  <thead>\n",
              "    <tr style=\"text-align: right;\">\n",
              "      <th></th>\n",
              "      <th>model</th>\n",
              "      <th>mae</th>\n",
              "      <th>mse</th>\n",
              "    </tr>\n",
              "  </thead>\n",
              "  <tbody>\n",
              "    <tr>\n",
              "      <th>0</th>\n",
              "      <td>model_1</td>\n",
              "      <td>21.373539</td>\n",
              "      <td>460.296478</td>\n",
              "    </tr>\n",
              "    <tr>\n",
              "      <th>1</th>\n",
              "      <td>model_2</td>\n",
              "      <td>3.111495</td>\n",
              "      <td>12.499588</td>\n",
              "    </tr>\n",
              "    <tr>\n",
              "      <th>2</th>\n",
              "      <td>model_3</td>\n",
              "      <td>67.793404</td>\n",
              "      <td>4680.266113</td>\n",
              "    </tr>\n",
              "  </tbody>\n",
              "</table>\n",
              "</div>\n",
              "    <div class=\"colab-df-buttons\">\n",
              "\n",
              "  <div class=\"colab-df-container\">\n",
              "    <button class=\"colab-df-convert\" onclick=\"convertToInteractive('df-6a0fc301-8e76-4cee-b104-ab1d2cccedc6')\"\n",
              "            title=\"Convert this dataframe to an interactive table.\"\n",
              "            style=\"display:none;\">\n",
              "\n",
              "  <svg xmlns=\"http://www.w3.org/2000/svg\" height=\"24px\" viewBox=\"0 -960 960 960\">\n",
              "    <path d=\"M120-120v-720h720v720H120Zm60-500h600v-160H180v160Zm220 220h160v-160H400v160Zm0 220h160v-160H400v160ZM180-400h160v-160H180v160Zm440 0h160v-160H620v160ZM180-180h160v-160H180v160Zm440 0h160v-160H620v160Z\"/>\n",
              "  </svg>\n",
              "    </button>\n",
              "\n",
              "  <style>\n",
              "    .colab-df-container {\n",
              "      display:flex;\n",
              "      gap: 12px;\n",
              "    }\n",
              "\n",
              "    .colab-df-convert {\n",
              "      background-color: #E8F0FE;\n",
              "      border: none;\n",
              "      border-radius: 50%;\n",
              "      cursor: pointer;\n",
              "      display: none;\n",
              "      fill: #1967D2;\n",
              "      height: 32px;\n",
              "      padding: 0 0 0 0;\n",
              "      width: 32px;\n",
              "    }\n",
              "\n",
              "    .colab-df-convert:hover {\n",
              "      background-color: #E2EBFA;\n",
              "      box-shadow: 0px 1px 2px rgba(60, 64, 67, 0.3), 0px 1px 3px 1px rgba(60, 64, 67, 0.15);\n",
              "      fill: #174EA6;\n",
              "    }\n",
              "\n",
              "    .colab-df-buttons div {\n",
              "      margin-bottom: 4px;\n",
              "    }\n",
              "\n",
              "    [theme=dark] .colab-df-convert {\n",
              "      background-color: #3B4455;\n",
              "      fill: #D2E3FC;\n",
              "    }\n",
              "\n",
              "    [theme=dark] .colab-df-convert:hover {\n",
              "      background-color: #434B5C;\n",
              "      box-shadow: 0px 1px 3px 1px rgba(0, 0, 0, 0.15);\n",
              "      filter: drop-shadow(0px 1px 2px rgba(0, 0, 0, 0.3));\n",
              "      fill: #FFFFFF;\n",
              "    }\n",
              "  </style>\n",
              "\n",
              "    <script>\n",
              "      const buttonEl =\n",
              "        document.querySelector('#df-6a0fc301-8e76-4cee-b104-ab1d2cccedc6 button.colab-df-convert');\n",
              "      buttonEl.style.display =\n",
              "        google.colab.kernel.accessAllowed ? 'block' : 'none';\n",
              "\n",
              "      async function convertToInteractive(key) {\n",
              "        const element = document.querySelector('#df-6a0fc301-8e76-4cee-b104-ab1d2cccedc6');\n",
              "        const dataTable =\n",
              "          await google.colab.kernel.invokeFunction('convertToInteractive',\n",
              "                                                    [key], {});\n",
              "        if (!dataTable) return;\n",
              "\n",
              "        const docLinkHtml = 'Like what you see? Visit the ' +\n",
              "          '<a target=\"_blank\" href=https://colab.research.google.com/notebooks/data_table.ipynb>data table notebook</a>'\n",
              "          + ' to learn more about interactive tables.';\n",
              "        element.innerHTML = '';\n",
              "        dataTable['output_type'] = 'display_data';\n",
              "        await google.colab.output.renderOutput(dataTable, element);\n",
              "        const docLink = document.createElement('div');\n",
              "        docLink.innerHTML = docLinkHtml;\n",
              "        element.appendChild(docLink);\n",
              "      }\n",
              "    </script>\n",
              "  </div>\n",
              "\n",
              "\n",
              "<div id=\"df-8e7feac9-8fae-4fa7-a87f-32491138a832\">\n",
              "  <button class=\"colab-df-quickchart\" onclick=\"quickchart('df-8e7feac9-8fae-4fa7-a87f-32491138a832')\"\n",
              "            title=\"Suggest charts.\"\n",
              "            style=\"display:none;\">\n",
              "\n",
              "<svg xmlns=\"http://www.w3.org/2000/svg\" height=\"24px\"viewBox=\"0 0 24 24\"\n",
              "     width=\"24px\">\n",
              "    <g>\n",
              "        <path d=\"M19 3H5c-1.1 0-2 .9-2 2v14c0 1.1.9 2 2 2h14c1.1 0 2-.9 2-2V5c0-1.1-.9-2-2-2zM9 17H7v-7h2v7zm4 0h-2V7h2v10zm4 0h-2v-4h2v4z\"/>\n",
              "    </g>\n",
              "</svg>\n",
              "  </button>\n",
              "\n",
              "<style>\n",
              "  .colab-df-quickchart {\n",
              "      --bg-color: #E8F0FE;\n",
              "      --fill-color: #1967D2;\n",
              "      --hover-bg-color: #E2EBFA;\n",
              "      --hover-fill-color: #174EA6;\n",
              "      --disabled-fill-color: #AAA;\n",
              "      --disabled-bg-color: #DDD;\n",
              "  }\n",
              "\n",
              "  [theme=dark] .colab-df-quickchart {\n",
              "      --bg-color: #3B4455;\n",
              "      --fill-color: #D2E3FC;\n",
              "      --hover-bg-color: #434B5C;\n",
              "      --hover-fill-color: #FFFFFF;\n",
              "      --disabled-bg-color: #3B4455;\n",
              "      --disabled-fill-color: #666;\n",
              "  }\n",
              "\n",
              "  .colab-df-quickchart {\n",
              "    background-color: var(--bg-color);\n",
              "    border: none;\n",
              "    border-radius: 50%;\n",
              "    cursor: pointer;\n",
              "    display: none;\n",
              "    fill: var(--fill-color);\n",
              "    height: 32px;\n",
              "    padding: 0;\n",
              "    width: 32px;\n",
              "  }\n",
              "\n",
              "  .colab-df-quickchart:hover {\n",
              "    background-color: var(--hover-bg-color);\n",
              "    box-shadow: 0 1px 2px rgba(60, 64, 67, 0.3), 0 1px 3px 1px rgba(60, 64, 67, 0.15);\n",
              "    fill: var(--button-hover-fill-color);\n",
              "  }\n",
              "\n",
              "  .colab-df-quickchart-complete:disabled,\n",
              "  .colab-df-quickchart-complete:disabled:hover {\n",
              "    background-color: var(--disabled-bg-color);\n",
              "    fill: var(--disabled-fill-color);\n",
              "    box-shadow: none;\n",
              "  }\n",
              "\n",
              "  .colab-df-spinner {\n",
              "    border: 2px solid var(--fill-color);\n",
              "    border-color: transparent;\n",
              "    border-bottom-color: var(--fill-color);\n",
              "    animation:\n",
              "      spin 1s steps(1) infinite;\n",
              "  }\n",
              "\n",
              "  @keyframes spin {\n",
              "    0% {\n",
              "      border-color: transparent;\n",
              "      border-bottom-color: var(--fill-color);\n",
              "      border-left-color: var(--fill-color);\n",
              "    }\n",
              "    20% {\n",
              "      border-color: transparent;\n",
              "      border-left-color: var(--fill-color);\n",
              "      border-top-color: var(--fill-color);\n",
              "    }\n",
              "    30% {\n",
              "      border-color: transparent;\n",
              "      border-left-color: var(--fill-color);\n",
              "      border-top-color: var(--fill-color);\n",
              "      border-right-color: var(--fill-color);\n",
              "    }\n",
              "    40% {\n",
              "      border-color: transparent;\n",
              "      border-right-color: var(--fill-color);\n",
              "      border-top-color: var(--fill-color);\n",
              "    }\n",
              "    60% {\n",
              "      border-color: transparent;\n",
              "      border-right-color: var(--fill-color);\n",
              "    }\n",
              "    80% {\n",
              "      border-color: transparent;\n",
              "      border-right-color: var(--fill-color);\n",
              "      border-bottom-color: var(--fill-color);\n",
              "    }\n",
              "    90% {\n",
              "      border-color: transparent;\n",
              "      border-bottom-color: var(--fill-color);\n",
              "    }\n",
              "  }\n",
              "</style>\n",
              "\n",
              "  <script>\n",
              "    async function quickchart(key) {\n",
              "      const quickchartButtonEl =\n",
              "        document.querySelector('#' + key + ' button');\n",
              "      quickchartButtonEl.disabled = true;  // To prevent multiple clicks.\n",
              "      quickchartButtonEl.classList.add('colab-df-spinner');\n",
              "      try {\n",
              "        const charts = await google.colab.kernel.invokeFunction(\n",
              "            'suggestCharts', [key], {});\n",
              "      } catch (error) {\n",
              "        console.error('Error during call to suggestCharts:', error);\n",
              "      }\n",
              "      quickchartButtonEl.classList.remove('colab-df-spinner');\n",
              "      quickchartButtonEl.classList.add('colab-df-quickchart-complete');\n",
              "    }\n",
              "    (() => {\n",
              "      let quickchartButtonEl =\n",
              "        document.querySelector('#df-8e7feac9-8fae-4fa7-a87f-32491138a832 button');\n",
              "      quickchartButtonEl.style.display =\n",
              "        google.colab.kernel.accessAllowed ? 'block' : 'none';\n",
              "    })();\n",
              "  </script>\n",
              "</div>\n",
              "    </div>\n",
              "  </div>\n"
            ]
          },
          "metadata": {},
          "execution_count": 55
        }
      ]
    },
    {
      "cell_type": "code",
      "source": [
        "model_2.summary()"
      ],
      "metadata": {
        "colab": {
          "base_uri": "https://localhost:8080/"
        },
        "id": "TjbeSr0BIJAp",
        "outputId": "827b24e5-fa71-401c-d8a1-b61cebf0a97b"
      },
      "execution_count": null,
      "outputs": [
        {
          "output_type": "stream",
          "name": "stdout",
          "text": [
            "Model: \"sequential_11\"\n",
            "_________________________________________________________________\n",
            " Layer (type)                Output Shape              Param #   \n",
            "=================================================================\n",
            " dense_13 (Dense)            (None, 10)                20        \n",
            "                                                                 \n",
            " dense_14 (Dense)            (None, 1)                 11        \n",
            "                                                                 \n",
            "=================================================================\n",
            "Total params: 31 (124.00 Byte)\n",
            "Trainable params: 31 (124.00 Byte)\n",
            "Non-trainable params: 0 (0.00 Byte)\n",
            "_________________________________________________________________\n"
          ]
        }
      ]
    },
    {
      "cell_type": "code",
      "source": [
        "model_2.save(\"NN_regression_m2\")"
      ],
      "metadata": {
        "id": "PlfSBB9DIamq"
      },
      "execution_count": null,
      "outputs": []
    },
    {
      "cell_type": "code",
      "source": [
        "model_2.save(\"NN_reg_h.h5\")"
      ],
      "metadata": {
        "id": "DxGoEs-2LHhX"
      },
      "execution_count": null,
      "outputs": []
    },
    {
      "cell_type": "code",
      "source": [
        "loaded_saved_model = tf.keras.models.load_model('/content/NN_regression_m2')\n",
        "loaded_saved_model.summary()"
      ],
      "metadata": {
        "colab": {
          "base_uri": "https://localhost:8080/"
        },
        "id": "60AgH6AbLMs3",
        "outputId": "4385e0e4-5821-4480-a160-45aed725aad8"
      },
      "execution_count": null,
      "outputs": [
        {
          "output_type": "stream",
          "name": "stdout",
          "text": [
            "Model: \"sequential_11\"\n",
            "_________________________________________________________________\n",
            " Layer (type)                Output Shape              Param #   \n",
            "=================================================================\n",
            " dense_13 (Dense)            (None, 10)                20        \n",
            "                                                                 \n",
            " dense_14 (Dense)            (None, 1)                 11        \n",
            "                                                                 \n",
            "=================================================================\n",
            "Total params: 31 (124.00 Byte)\n",
            "Trainable params: 31 (124.00 Byte)\n",
            "Non-trainable params: 0 (0.00 Byte)\n",
            "_________________________________________________________________\n"
          ]
        }
      ]
    },
    {
      "cell_type": "code",
      "source": [
        "loaded_saved_model_2 = tf.keras.models.load_model('/content/NN_reg_h.h5')\n",
        "loaded_saved_model_2.summary()"
      ],
      "metadata": {
        "colab": {
          "base_uri": "https://localhost:8080/"
        },
        "id": "Xba3RkPfMoqa",
        "outputId": "cd136cf6-c85a-484d-d42c-9a6f949bce67"
      },
      "execution_count": null,
      "outputs": [
        {
          "output_type": "stream",
          "name": "stdout",
          "text": [
            "Model: \"sequential_11\"\n",
            "_________________________________________________________________\n",
            " Layer (type)                Output Shape              Param #   \n",
            "=================================================================\n",
            " dense_13 (Dense)            (None, 10)                20        \n",
            "                                                                 \n",
            " dense_14 (Dense)            (None, 1)                 11        \n",
            "                                                                 \n",
            "=================================================================\n",
            "Total params: 31 (124.00 Byte)\n",
            "Trainable params: 31 (124.00 Byte)\n",
            "Non-trainable params: 0 (0.00 Byte)\n",
            "_________________________________________________________________\n"
          ]
        }
      ]
    },
    {
      "cell_type": "markdown",
      "source": [
        "### Download files using code"
      ],
      "metadata": {
        "id": "hM6D62uBNsp-"
      }
    },
    {
      "cell_type": "code",
      "source": [
        "from google.colab import files\n",
        "files.download('/content/NN_reg_h.h5')"
      ],
      "metadata": {
        "colab": {
          "base_uri": "https://localhost:8080/",
          "height": 17
        },
        "id": "mMSDY85pNus9",
        "outputId": "28e00b6c-3d3f-440b-f3e5-ef1ee3eac57b"
      },
      "execution_count": null,
      "outputs": [
        {
          "output_type": "display_data",
          "data": {
            "text/plain": [
              "<IPython.core.display.Javascript object>"
            ],
            "application/javascript": [
              "\n",
              "    async function download(id, filename, size) {\n",
              "      if (!google.colab.kernel.accessAllowed) {\n",
              "        return;\n",
              "      }\n",
              "      const div = document.createElement('div');\n",
              "      const label = document.createElement('label');\n",
              "      label.textContent = `Downloading \"${filename}\": `;\n",
              "      div.appendChild(label);\n",
              "      const progress = document.createElement('progress');\n",
              "      progress.max = size;\n",
              "      div.appendChild(progress);\n",
              "      document.body.appendChild(div);\n",
              "\n",
              "      const buffers = [];\n",
              "      let downloaded = 0;\n",
              "\n",
              "      const channel = await google.colab.kernel.comms.open(id);\n",
              "      // Send a message to notify the kernel that we're ready.\n",
              "      channel.send({})\n",
              "\n",
              "      for await (const message of channel.messages) {\n",
              "        // Send a message to notify the kernel that we're ready.\n",
              "        channel.send({})\n",
              "        if (message.buffers) {\n",
              "          for (const buffer of message.buffers) {\n",
              "            buffers.push(buffer);\n",
              "            downloaded += buffer.byteLength;\n",
              "            progress.value = downloaded;\n",
              "          }\n",
              "        }\n",
              "      }\n",
              "      const blob = new Blob(buffers, {type: 'application/binary'});\n",
              "      const a = document.createElement('a');\n",
              "      a.href = window.URL.createObjectURL(blob);\n",
              "      a.download = filename;\n",
              "      div.appendChild(a);\n",
              "      a.click();\n",
              "      div.remove();\n",
              "    }\n",
              "  "
            ]
          },
          "metadata": {}
        },
        {
          "output_type": "display_data",
          "data": {
            "text/plain": [
              "<IPython.core.display.Javascript object>"
            ],
            "application/javascript": [
              "download(\"download_0367481b-174f-4381-a16e-8d8dbda3616a\", \"NN_reg_h.h5\", 21952)"
            ]
          },
          "metadata": {}
        }
      ]
    }
  ]
}